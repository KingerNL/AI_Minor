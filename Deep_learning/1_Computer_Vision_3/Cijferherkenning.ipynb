{
 "cells": [
  {
   "cell_type": "markdown",
   "metadata": {
    "id": "zUWF7J_ASRv3"
   },
   "source": [
    "# Deep Learning - Cijfer herkenning\n",
    "\n",
    "### Van: Mart Veldkamp"
   ]
  },
  {
   "cell_type": "markdown",
   "metadata": {},
   "source": [
    "# Inhoudsopgave\n",
    "\n",
    "1. [Inleiding](#1)\n",
    "2. [Het probleem](#2)\n",
    "3. [Library's laden + data ophalen](#3)\n",
    "    - [Versie's van de verschillende library's](#4)\n",
    "    - [Verover de data](#5)\n",
    "4. [Data visualiseren](#6)\n",
    "5. [Maak test images](#7)\n",
    "    - [Prepareer de test labels](#8)\n",
    "6. [Model inladen](#9)\n",
    "    - [Evalueer de voorspellingen](#10)\n",
    "7. [Conclusie](#11)\n",
    "8. [Bronnen](#12)"
   ]
  },
  {
   "cell_type": "markdown",
   "metadata": {},
   "source": [
    "# 1. Inleiding <a class='anchor' id='1'></a>\n",
    "\n",
    "Deze opdracht is onderdeel van het overkoepelende vak Deep Learning, dit is één van de meerdere opgaves die ik gebruik in dit vak om te laten zien hoe deep learning gebruikt kan worden voor verschillende doeleinde. Al deze opgaves zijn daarom ook op de lossen door middel van Deep Learning.\n",
    "\n",
    "Alle code in deze opdrachten zijn van mijzelf, gebasseerd op code uit de lessen, of waar ik zelf vast liep gebaseerd op code snippets van het internet. Mocht het toch voorkomen dat er code 1 op 1 is overgenomen, dan staat dit vermeld in de bronnen"
   ]
  },
  {
   "cell_type": "markdown",
   "metadata": {},
   "source": [
    "# 2. Het probleem <a class='anchor' id='2'></a>\n",
    "\n",
    "Het probleem dat ik in deze notebook ga behandelen is het classificeren van handgeschreven cijfers aan de hand van een Neuraal netwerk en trainings data, we gaan dit Neurale netwerk trainen door middel van mnist dataset. Deze dataset staat bekend om dat het erg veel gebruikt wordt binnen de Image recognition. En gaan wij vandaag ook gebruiken."
   ]
  },
  {
   "cell_type": "markdown",
   "metadata": {
    "id": "cRKUniK0SfRg"
   },
   "source": [
    "# 3. Library's laden + data ophalen <a class='anchor' id='3'></a>"
   ]
  },
  {
   "cell_type": "code",
   "execution_count": 2,
   "metadata": {
    "id": "S-aMKgrbSl6I"
   },
   "outputs": [],
   "source": [
    "import numpy as np\n",
    "import cv2\n",
    "\n",
    "import matplotlib\n",
    "import matplotlib.pyplot as plt\n",
    "from matplotlib.image import imread\n",
    "from sklearn.datasets import load_sample_image\n",
    "\n",
    "import tensorflow as tf\n",
    "from tensorflow import keras\n",
    "from tensorflow.keras.utils import to_categorical\n",
    "\n",
    "import keras\n",
    "from keras.datasets import mnist\n",
    "from keras import models\n",
    "from keras import layers\n",
    "from keras.layers import Dense, Dropout, Flatten, Conv2D, MaxPooling2D, AveragePooling2D"
   ]
  },
  {
   "cell_type": "markdown",
   "metadata": {},
   "source": [
    "## Versie's van de verschillende library's <a class='anchor' id='4'></a>"
   ]
  },
  {
   "cell_type": "code",
   "execution_count": 3,
   "metadata": {},
   "outputs": [
    {
     "name": "stdout",
     "output_type": "stream",
     "text": [
      "Versie van Keras: 2.6.0\n",
      "Versie van Numpy: 1.19.5\n",
      "Versie van matplotlibrary: 3.4.3\n",
      "Versie van opencv: 4.5.3\n"
     ]
    }
   ],
   "source": [
    "print(\"Versie van Keras:\", keras.__version__)\n",
    "print(\"Versie van Numpy:\", np.__version__)\n",
    "print(\"Versie van matplotlibrary:\",matplotlib. __version__)\n",
    "print(\"Versie van opencv:\",cv2.__version__)"
   ]
  },
  {
   "cell_type": "markdown",
   "metadata": {
    "id": "oe0on0c2StYe"
   },
   "source": [
    "## Verover de data <a class='anchor' id='5'></a>\n",
    "\n",
    "Deze dataset is afkomstig van DLO. Het gaat om de mnist dataset, in deze dataset zitten fotos van geclassificeerde cijfers van 0 tot 9. En wordt vooral gebruikt om modellen op te trainen en zo de accuracy te testen."
   ]
  },
  {
   "cell_type": "code",
   "execution_count": 4,
   "metadata": {
    "id": "gh2EoCY-Ssg7"
   },
   "outputs": [],
   "source": [
    "(train_images, train_labels), (test_images, test_labels) = mnist.load_data()"
   ]
  },
  {
   "cell_type": "markdown",
   "metadata": {},
   "source": [
    "# 4. Data visualiseren <a class='anchor' id='6'></a>"
   ]
  },
  {
   "cell_type": "code",
   "execution_count": 5,
   "metadata": {
    "colab": {
     "base_uri": "https://localhost:8080/"
    },
    "id": "7FlNpFtxSrMQ",
    "outputId": "fc455da6-26d6-4a79-8cb4-e7937bf4b580"
   },
   "outputs": [
    {
     "name": "stdout",
     "output_type": "stream",
     "text": [
      "De shape van de dataset ziet er als volgt uit:  (10000, 28, 28)\n",
      "En zo zien de labels er uit:  [7 2 1 ... 4 5 6]\n",
      "Als slot de shape van de test labels:  (10000,)\n"
     ]
    }
   ],
   "source": [
    "print(\"De shape van de dataset ziet er als volgt uit: \", test_images.shape)\n",
    "print(\"En zo zien de labels er uit: \", test_labels)\n",
    "print(\"Als slot de shape van de test labels: \", test_labels.shape)"
   ]
  },
  {
   "cell_type": "markdown",
   "metadata": {},
   "source": [
    "Zoals je kan zien klopt zowel de shape als labels, omdat we 10.000 fotos hebben die allemaal 28 bij 28 zijn. En daarnaast elke label een cijfer van 0 tot 9 heeft. En als laatst de hoeveelheid labels die gezet zijn; 10.000."
   ]
  },
  {
   "cell_type": "markdown",
   "metadata": {
    "id": "MbDWz6_wTRxl"
   },
   "source": [
    "# 5. Maak test images <a class='anchor' id='7'></a>"
   ]
  },
  {
   "cell_type": "code",
   "execution_count": 6,
   "metadata": {
    "id": "Rt4W7_fIYyuA"
   },
   "outputs": [],
   "source": [
    "test_images_enhanced = test_images.reshape(10000,28,28,1)"
   ]
  },
  {
   "cell_type": "code",
   "execution_count": 7,
   "metadata": {
    "colab": {
     "base_uri": "https://localhost:8080/"
    },
    "id": "9lo2DZv5UHFT",
    "outputId": "4d4ea338-ebdc-4e65-919b-697293bc0b77"
   },
   "outputs": [
    {
     "data": {
      "text/plain": [
       "(10000, 28, 28, 1)"
      ]
     },
     "execution_count": 7,
     "metadata": {},
     "output_type": "execute_result"
    }
   ],
   "source": [
    "test_images_enhanced.shape"
   ]
  },
  {
   "cell_type": "markdown",
   "metadata": {
    "id": "jb2JCpgYUWlu"
   },
   "source": [
    "## Prepareer de test labels <a class='anchor' id='8'></a>"
   ]
  },
  {
   "cell_type": "code",
   "execution_count": 8,
   "metadata": {
    "id": "8_Jmmw6MUOy-"
   },
   "outputs": [],
   "source": [
    "test_labels_encoded = to_categorical(test_labels)"
   ]
  },
  {
   "cell_type": "code",
   "execution_count": 9,
   "metadata": {
    "colab": {
     "base_uri": "https://localhost:8080/"
    },
    "id": "GKRqlPkMU6tj",
    "outputId": "4ccaf452-41c2-459a-e512-0061a290ce1d"
   },
   "outputs": [
    {
     "data": {
      "text/plain": [
       "array([7, 2, 1, ..., 4, 5, 6], dtype=uint8)"
      ]
     },
     "execution_count": 9,
     "metadata": {},
     "output_type": "execute_result"
    }
   ],
   "source": [
    "test_labels"
   ]
  },
  {
   "cell_type": "code",
   "execution_count": 10,
   "metadata": {
    "colab": {
     "base_uri": "https://localhost:8080/"
    },
    "id": "7V_g1CMBUb_7",
    "outputId": "d5fdada5-7628-4965-8903-55207e4e750f"
   },
   "outputs": [
    {
     "data": {
      "text/plain": [
       "array([[0., 0., 0., ..., 1., 0., 0.],\n",
       "       [0., 0., 1., ..., 0., 0., 0.],\n",
       "       [0., 1., 0., ..., 0., 0., 0.],\n",
       "       ...,\n",
       "       [0., 0., 0., ..., 0., 0., 0.],\n",
       "       [0., 0., 0., ..., 0., 0., 0.],\n",
       "       [0., 0., 0., ..., 0., 0., 0.]], dtype=float32)"
      ]
     },
     "execution_count": 10,
     "metadata": {},
     "output_type": "execute_result"
    }
   ],
   "source": [
    "test_labels_encoded"
   ]
  },
  {
   "cell_type": "markdown",
   "metadata": {
    "id": "T-ML8AnnIM7V"
   },
   "source": [
    "# 6. Model inladen <a class='anchor' id='9'></a>"
   ]
  },
  {
   "cell_type": "code",
   "execution_count": 11,
   "metadata": {
    "id": "7jKy3i4BHVUJ"
   },
   "outputs": [],
   "source": [
    "new_model = models.load_model(\"MNIST_LeNet5_model.h5\")"
   ]
  },
  {
   "cell_type": "code",
   "execution_count": 12,
   "metadata": {
    "colab": {
     "base_uri": "https://localhost:8080/"
    },
    "id": "T-5JnMbUIWR6",
    "outputId": "ec1e8ea3-3793-4b27-c3b0-0a0ca304aa52"
   },
   "outputs": [
    {
     "name": "stdout",
     "output_type": "stream",
     "text": [
      "Model: \"sequential_1\"\n",
      "_________________________________________________________________\n",
      "Layer (type)                 Output Shape              Param #   \n",
      "=================================================================\n",
      "conv2d (Conv2D)              (None, 26, 26, 6)         60        \n",
      "_________________________________________________________________\n",
      "average_pooling2d (AveragePo (None, 13, 13, 6)         0         \n",
      "_________________________________________________________________\n",
      "conv2d_1 (Conv2D)            (None, 11, 11, 16)        880       \n",
      "_________________________________________________________________\n",
      "average_pooling2d_1 (Average (None, 5, 5, 16)          0         \n",
      "_________________________________________________________________\n",
      "flatten (Flatten)            (None, 400)               0         \n",
      "_________________________________________________________________\n",
      "dense_2 (Dense)              (None, 120)               48120     \n",
      "_________________________________________________________________\n",
      "dense_3 (Dense)              (None, 84)                10164     \n",
      "_________________________________________________________________\n",
      "dense_4 (Dense)              (None, 10)                850       \n",
      "=================================================================\n",
      "Total params: 60,074\n",
      "Trainable params: 60,074\n",
      "Non-trainable params: 0\n",
      "_________________________________________________________________\n"
     ]
    }
   ],
   "source": [
    "new_model.summary()"
   ]
  },
  {
   "cell_type": "markdown",
   "metadata": {},
   "source": [
    "Zoals je kan zien is het model wat we inladen een best groot model, wat vooral bestaat uit Dense en conv2D layers."
   ]
  },
  {
   "cell_type": "code",
   "execution_count": 13,
   "metadata": {
    "colab": {
     "base_uri": "https://localhost:8080/"
    },
    "id": "EIlnBmVbIhll",
    "outputId": "1410ba68-6d39-475a-df71-e0fc043345dc"
   },
   "outputs": [
    {
     "name": "stdout",
     "output_type": "stream",
     "text": [
      "313/313 [==============================] - 1s 2ms/step - loss: 1.7530 - accuracy: 0.9889\n",
      "0.9889000058174133\n"
     ]
    }
   ],
   "source": [
    "loss, acc = new_model.evaluate(test_images_enhanced,\n",
    "                         test_labels_encoded)\n",
    "\n",
    "print(acc)"
   ]
  },
  {
   "cell_type": "markdown",
   "metadata": {},
   "source": [
    "Wow, het model heeft een accuracy van 98.89% Wat best veel is."
   ]
  },
  {
   "cell_type": "markdown",
   "metadata": {
    "id": "zKf-aBoXP_0O"
   },
   "source": [
    "## Evalueer de voorspellingen <a class='anchor' id='10'></a>"
   ]
  },
  {
   "cell_type": "code",
   "execution_count": 14,
   "metadata": {
    "id": "XZ7BEjnwP2uL"
   },
   "outputs": [
    {
     "name": "stdout",
     "output_type": "stream",
     "text": [
      "[1.6291172e-11 3.4380161e-08 1.2010595e-05 1.1861767e-04 1.1839702e-12\n",
      " 1.1000308e-05 4.2340744e-04 2.2946087e-10 9.9943465e-01 2.8320738e-07]\n"
     ]
    }
   ],
   "source": [
    "direct_predictions = new_model.predict(test_images_enhanced)\n",
    "print(direct_predictions[1234])"
   ]
  },
  {
   "cell_type": "code",
   "execution_count": 15,
   "metadata": {
    "id": "A3XRihHWMqmg"
   },
   "outputs": [],
   "source": [
    "def plot_image(i, predictions_array, true_label, img):\n",
    "  true_label, img = true_label[i], img[i]\n",
    "  plt.grid(False)\n",
    "  plt.xticks([])\n",
    "  plt.yticks([])\n",
    "\n",
    "  plt.imshow(img, cmap=plt.cm.binary)\n",
    "\n",
    "  predicted_label = np.argmax(predictions_array)\n",
    "  if predicted_label == true_label:\n",
    "    color = 'blue'\n",
    "  else:\n",
    "    color = 'red'\n",
    "\n",
    "  plt.xlabel(true_label)\n",
    "\n",
    "def plot_value_array(i, predictions_array, true_label):\n",
    "  true_label = true_label[i]\n",
    "  plt.grid(True)\n",
    "  plt.xticks(range(10))\n",
    "  plt.yticks([0.0,0.1,0.2,0.3,0.4,0.5,0.6,0.7,0.8,0.9,1.0])\n",
    "  thisplot = plt.bar(range(10), predictions_array, color=\"#777777\")\n",
    "  plt.ylim([0, 1])\n",
    "  predicted_label = np.argmax(predictions_array)\n",
    "\n",
    "  thisplot[predicted_label].set_color('red')\n",
    "  thisplot[true_label].set_color('blue')"
   ]
  },
  {
   "cell_type": "code",
   "execution_count": 16,
   "metadata": {
    "colab": {
     "base_uri": "https://localhost:8080/",
     "height": 215
    },
    "id": "QpJ_fuJoMRa-",
    "outputId": "48d0fa29-14b5-47d6-b9b3-51d96a012625"
   },
   "outputs": [
    {
     "data": {
      "image/png": "[encoded data removed]",
      "text/plain": [
       "<Figure size 432x216 with 2 Axes>"
      ]
     },
     "metadata": {
      "needs_background": "light"
     },
     "output_type": "display_data"
    }
   ],
   "source": [
    "i = 1000\n",
    "plt.figure(figsize=(6,3))\n",
    "plt.subplot(1,2,1)\n",
    "plot_image(i, direct_predictions[i], test_labels, test_images)\n",
    "plt.subplot(1,2,2)\n",
    "plot_value_array(i, direct_predictions[i],  test_labels)\n",
    "plt.show()"
   ]
  },
  {
   "cell_type": "code",
   "execution_count": 17,
   "metadata": {
    "id": "RJmK_PK9Qhm_"
   },
   "outputs": [
    {
     "name": "stdout",
     "output_type": "stream",
     "text": [
      "[92, 119, 247, 321, 340, 445, 495, 582, 583, 659, 674, 947, 1014, 1039, 1182, 1226, 1232, 1260, 1299, 1319, 1393, 1438, 1523, 1621, 1709, 1790, 1878, 1901, 1903, 1968, 2035, 2070, 2084, 2118, 2130, 2135, 2182, 2185, 2326, 2406, 2414, 2597, 2654, 2760, 2771, 2894, 2896, 2939, 2953, 2990, 3060, 3266, 3451, 3503, 3780, 3906, 3985, 4027, 4163, 4176, 4199, 4207, 4289, 4369, 4477, 4497, 4507, 4536, 4578, 4604, 4639, 4740, 4823, 4860, 4942, 5331, 5600, 5634, 5642, 5752, 5937, 5973, 5981, 5982, 5997, 6004, 6091, 6560, 6576, 6597, 6625, 6651, 6783, 7049, 7216, 7354, 7545, 8059, 8128, 8325, 8408, 8527, 9009, 9015, 9587, 9634, 9692, 9729, 9792, 9811, 9839]\n"
     ]
    }
   ],
   "source": [
    "mistakes = np.argmax(direct_predictions,axis=1) != test_labels.astype('int64')\n",
    "\n",
    "mistakes_index = []\n",
    "\n",
    "for index, value in enumerate(mistakes):\n",
    "  if value == True:\n",
    "    mistakes_index.append(index)\n",
    "    \n",
    "print(mistakes_index)"
   ]
  },
  {
   "cell_type": "markdown",
   "metadata": {},
   "source": [
    "Hier zie je elke 111 foute voorspellingen die het model heeft gemaakt. Je kan elk nummer makken en hieronder voor i invullen om te bekijken wat er fout ging. Ik ga dat in mijn geval doe voor de 2e."
   ]
  },
  {
   "cell_type": "code",
   "execution_count": 18,
   "metadata": {
    "colab": {
     "base_uri": "https://localhost:8080/",
     "height": 215
    },
    "id": "DkxhI5eWYwHZ",
    "outputId": "13b9776b-018a-4354-a5c6-40a98fbba5e6"
   },
   "outputs": [
    {
     "data": {
      "image/png": "[encoded data removed]",
      "text/plain": [
       "<Figure size 432x216 with 2 Axes>"
      ]
     },
     "metadata": {
      "needs_background": "light"
     },
     "output_type": "display_data"
    }
   ],
   "source": [
    "i = 119\n",
    "plt.figure(figsize=(6,3))\n",
    "plt.subplot(1,2,1)\n",
    "plot_image(i, direct_predictions[i], test_labels, test_images)\n",
    "plt.subplot(1,2,2)\n",
    "plot_value_array(i, direct_predictions[i],  test_labels)\n",
    "plt.show()"
   ]
  },
  {
   "cell_type": "markdown",
   "metadata": {},
   "source": [
    "# Conclusie <a class='anchor' id='11'></a>\n",
    "\n",
    "De conclusie die we kunnen trekken uit deze notebook is dat CNN's redelijk\n",
    "goed zijn in het herkennen van cijfers, hoewel er wel veel fouten in zitten, \n",
    "en niet elke fout even goed uitlegbaar is. Zoals de foto hierboven, zou je \n",
    "als persoon eerder twijfelen tussen een 2 en een 7. Maar het model denkt \n",
    "met 63% zekerheid te weten dat het een 8 is.\n",
    "\n",
    "Verder is een convolutional neuraal netwerk ook erg snel in vergelijking \n",
    "met andere modellen, hij is erg goed patronen herkennen (ook al zijn die \n",
    "soms onderliggend). En daarnaast is het aanpassen erg makkelijk van een \n",
    "CNN. En kan zo makkelijker gezocht worden naar betere resultaten."
   ]
  },
  {
   "cell_type": "markdown",
   "metadata": {},
   "source": [
    "# Bronnen <a class='anchor' id='12'></a>\n",
    "\n",
    "- [Cijferherkenning Les 1](https://dlo.mijnhva.nl/d2l/le/content/354957/Home?itemIdentifier=TOC)\n",
    "- [Mnist dataset](http://yann.lecun.com/exdb/mnist/)"
   ]
  }
 ],
 "metadata": {
  "colab": {
   "name": "2021_03_16_cijferherkenning_LeNet5.ipynb",
   "provenance": []
  },
  "kernelspec": {
   "display_name": "Python 3",
   "language": "python",
   "name": "python3"
  },
  "language_info": {
   "codemirror_mode": {
    "name": "ipython",
    "version": 3
   },
   "file_extension": ".py",
   "mimetype": "text/x-python",
   "name": "python",
   "nbconvert_exporter": "python",
   "pygments_lexer": "ipython3",
   "version": "3.9.6"
  }
 },
 "nbformat": 4,
 "nbformat_minor": 1
}
