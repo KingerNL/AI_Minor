{
 "cells": [
  {
   "cell_type": "markdown",
   "metadata": {},
   "source": [
    "# Deep Learning - Generative Adversarial Network (GAN)\n",
    "\n",
    "### Van: Mart Veldkamp\n",
    "\n",
    "In dit notebook trainen we een GAN voor de MNIST dataset.\n",
    "\n",
    "De code in dit voorbeeld is gebaseerd op de code uit hoofdstuk 4 van *Generative Deep Learning* van David Forester, O'Reilly Media, 2019 en op hoofdstuk 8 van *Deep Learning with Python* door François Chollet, Manning, 2018.."
   ]
  },
  {
   "cell_type": "markdown",
   "metadata": {},
   "source": [
    "# Inhoudsopgave\n",
    "\n",
    "1. [Inleiding](#1)\n",
    "2. [Het probleem](#2)\n",
    "3. [Library's laden](#3)\n",
    "4. [discriminator](#4)\n",
    "5. [generator](#5)\n",
    "6. [Adversarial Network](#6)\n",
    "    - [Verover de data](#7)\n",
    "7. [Trainen van een GAN](#8)\n",
    "    - [Conclusie GAN](#9)"
   ]
  },
  {
   "cell_type": "markdown",
   "metadata": {},
   "source": [
    "# 1. Inleiding <a class='anchor' id='1'></a>\n",
    "\n",
    "Deze opdracht is onderdeel van het overkoepelende vak Deep Learning, dit is één van de meerdere opgaves die ik gebruik in dit vak om te laten zien hoe deep learning gebruikt kan worden voor verschillende doeleinde. Al deze opgaves zijn daarom ook op de lossen door middel van Deep Learning.\n",
    "\n",
    "Alle code in deze opdrachten zijn van mijzelf, gebasseerd op code uit de lessen, of waar ik zelf vast liep gebaseerd op code snippets van het internet. Mocht het toch voorkomen dat er code 1 op 1 is overgenomen, dan staat dit vermeld in de bronnen"
   ]
  },
  {
   "cell_type": "markdown",
   "metadata": {},
   "source": [
    "# 2. Het probleem <a class='anchor' id='2'></a>\n",
    "\n",
    "Het probleem dat ik in deze notebook ga behandelen is het genereren van fotos aan de hand van voorbeelden, om zo hopelijk cijfers te genereren die wij als mens kennen. Dit gaan we doen aan de hand van een discriminator en een generator. De generator genereert fotos en de discriminator kijkt of deze fotos afwijken van \"normale\" fotos en voed deze informatie terug aan de generator."
   ]
  },
  {
   "cell_type": "markdown",
   "metadata": {},
   "source": [
    "# 3. Library's laden + data ophalen <a class='anchor' id='3'></a>"
   ]
  },
  {
   "cell_type": "code",
   "execution_count": 1,
   "metadata": {},
   "outputs": [],
   "source": [
    "%matplotlib inline\n",
    "\n",
    "from keras.layers import Input, Conv2D, Flatten, Dense, Conv2DTranspose, Reshape, Lambda, Activation, BatchNormalization, LeakyReLU, Dropout, ZeroPadding2D, UpSampling2D\n",
    "import keras\n",
    "from keras.models import Model, Sequential\n",
    "from keras import backend as K\n",
    "from tensorflow.keras.optimizers import Adam, RMSprop\n",
    "from tensorflow.keras.utils import plot_model\n",
    "from tensorflow.keras.initializers import RandomNormal\n",
    "\n",
    "import numpy as np"
   ]
  },
  {
   "cell_type": "markdown",
   "metadata": {},
   "source": [
    "## Versie's van verschillende library's"
   ]
  },
  {
   "cell_type": "code",
   "execution_count": 2,
   "metadata": {},
   "outputs": [
    {
     "name": "stdout",
     "output_type": "stream",
     "text": [
      "Versie van Numpy: 1.19.5\n",
      "Versie van keras: 2.6.0\n"
     ]
    }
   ],
   "source": [
    "print(\"Versie van Numpy:\", np.__version__)\n",
    "print(\"Versie van keras:\", keras.__version__)"
   ]
  },
  {
   "cell_type": "markdown",
   "metadata": {},
   "source": [
    "We gebruiken 20-dimensional vectoren of afbeeldingen te genereren."
   ]
  },
  {
   "cell_type": "code",
   "execution_count": 10,
   "metadata": {},
   "outputs": [],
   "source": [
    "input_dim = (28,28,1)\n",
    "z_dim = 20"
   ]
  },
  {
   "cell_type": "markdown",
   "metadata": {},
   "source": [
    "# 4. discriminator <a class='anchor' id='4'></a>\n",
    "\n",
    "We maken eerst de discriminator. Deze krijgt als input een afbeelding en geeft als output of deze afbeelding echt is of niet."
   ]
  },
  {
   "cell_type": "code",
   "execution_count": 11,
   "metadata": {},
   "outputs": [
    {
     "name": "stdout",
     "output_type": "stream",
     "text": [
      "Model: \"model_3\"\n",
      "_________________________________________________________________\n",
      "Layer (type)                 Output Shape              Param #   \n",
      "=================================================================\n",
      "discriminator_input (InputLa [(None, 28, 28, 1)]       0         \n",
      "_________________________________________________________________\n",
      "discriminator_conv_1 (Conv2D (None, 14, 14, 32)        832       \n",
      "_________________________________________________________________\n",
      "dropout_4 (Dropout)          (None, 14, 14, 32)        0         \n",
      "_________________________________________________________________\n",
      "discriminator_conv_2 (Conv2D (None, 7, 7, 32)          25632     \n",
      "_________________________________________________________________\n",
      "dropout_5 (Dropout)          (None, 7, 7, 32)          0         \n",
      "_________________________________________________________________\n",
      "discriminator_conv_3 (Conv2D (None, 4, 4, 64)          51264     \n",
      "_________________________________________________________________\n",
      "dropout_6 (Dropout)          (None, 4, 4, 64)          0         \n",
      "_________________________________________________________________\n",
      "discriminator_conv_4 (Conv2D (None, 4, 4, 64)          102464    \n",
      "_________________________________________________________________\n",
      "dropout_7 (Dropout)          (None, 4, 4, 64)          0         \n",
      "_________________________________________________________________\n",
      "flatten_1 (Flatten)          (None, 1024)              0         \n",
      "_________________________________________________________________\n",
      "dense_2 (Dense)              (None, 1)                 1025      \n",
      "=================================================================\n",
      "Total params: 181,217\n",
      "Trainable params: 181,217\n",
      "Non-trainable params: 0\n",
      "_________________________________________________________________\n"
     ]
    }
   ],
   "source": [
    "discriminator_input = Input(shape = input_dim, name = 'discriminator_input')\n",
    "\n",
    "x = Conv2D(32, kernel_size = 5, \n",
    "           strides = 2,\n",
    "           padding = 'same',\n",
    "           name = 'discriminator_conv_1', activation = 'relu')(discriminator_input)\n",
    "x = Dropout(rate = 0.4)(x)\n",
    "\n",
    "x = Conv2D(32, kernel_size = 5,\n",
    "           strides = 2,\n",
    "           padding = 'same',\n",
    "           name = 'discriminator_conv_2', activation = 'relu')(x)\n",
    "x = Dropout(rate = 0.4)(x)\n",
    "\n",
    "x = Conv2D(64, kernel_size = 5,\n",
    "           strides = 2,\n",
    "           padding = 'same',\n",
    "           name = 'discriminator_conv_3', activation = 'relu')(x)\n",
    "x = Dropout(rate = 0.4)(x)\n",
    "\n",
    "x = Conv2D(64, kernel_size = 5,\n",
    "           strides = 1,\n",
    "           padding = 'same',\n",
    "           name = 'discriminator_conv_4', activation = 'relu')(x)\n",
    "x = Dropout(rate = 0.4)(x)\n",
    "\n",
    "x = Flatten()(x)\n",
    "\n",
    "discriminator_output = Dense(1, activation = 'sigmoid')(x)\n",
    "\n",
    "discriminator = Model(discriminator_input, discriminator_output)\n",
    "\n",
    "discriminator.summary()"
   ]
  },
  {
   "cell_type": "markdown",
   "metadata": {},
   "source": [
    "Dat het redelijk klein is ten opzichte van de generator. En daarin zie je dat \n",
    "er wordt af gewisseld tussen een conv2D en een Dropout layer, en om het \n",
    "af te sluiten een flatten + Dense layer. Deze structuur kan mogelijk komen om overfitting te voorkomen. Omdat dropout layers zorgen voor een \n",
    "gedistribueerde representatie van de informatie waardoor mogelijk \n",
    "informatie verloren gaat. "
   ]
  },
  {
   "cell_type": "markdown",
   "metadata": {},
   "source": [
    "Compileer het `discriminator` netwerk."
   ]
  },
  {
   "cell_type": "code",
   "execution_count": 12,
   "metadata": {},
   "outputs": [],
   "source": [
    "discriminator_optimizer = RMSprop(\n",
    "    lr = 0.0008,\n",
    "    clipvalue = 1.0,\n",
    "    decay = 1e-8\n",
    ")\n",
    "\n",
    "discriminator.compile(optimizer = discriminator_optimizer, loss = 'binary_crossentropy', metrics = ['accuracy'])"
   ]
  },
  {
   "cell_type": "markdown",
   "metadata": {},
   "source": [
    "# 5. Generator <a class='anchor' id='5'></a>\n",
    "\n",
    "De `generator` maakt van een random vector een afbeelding."
   ]
  },
  {
   "cell_type": "code",
   "execution_count": 13,
   "metadata": {},
   "outputs": [
    {
     "name": "stdout",
     "output_type": "stream",
     "text": [
      "Model: \"model_4\"\n",
      "_________________________________________________________________\n",
      "Layer (type)                 Output Shape              Param #   \n",
      "=================================================================\n",
      "generator_input (InputLayer) [(None, 20)]              0         \n",
      "_________________________________________________________________\n",
      "dense_3 (Dense)              (None, 1568)              32928     \n",
      "_________________________________________________________________\n",
      "batch_normalization_4 (Batch (None, 1568)              6272      \n",
      "_________________________________________________________________\n",
      "activation_5 (Activation)    (None, 1568)              0         \n",
      "_________________________________________________________________\n",
      "reshape_1 (Reshape)          (None, 7, 7, 32)          0         \n",
      "_________________________________________________________________\n",
      "up_sampling2d_2 (UpSampling2 (None, 14, 14, 32)        0         \n",
      "_________________________________________________________________\n",
      "generator_conv_1 (Conv2D)    (None, 14, 14, 64)        51264     \n",
      "_________________________________________________________________\n",
      "batch_normalization_5 (Batch (None, 14, 14, 64)        256       \n",
      "_________________________________________________________________\n",
      "activation_6 (Activation)    (None, 14, 14, 64)        0         \n",
      "_________________________________________________________________\n",
      "up_sampling2d_3 (UpSampling2 (None, 28, 28, 64)        0         \n",
      "_________________________________________________________________\n",
      "generator_conv_2 (Conv2D)    (None, 28, 28, 64)        102464    \n",
      "_________________________________________________________________\n",
      "batch_normalization_6 (Batch (None, 28, 28, 64)        256       \n",
      "_________________________________________________________________\n",
      "activation_7 (Activation)    (None, 28, 28, 64)        0         \n",
      "_________________________________________________________________\n",
      "generator_conv_3 (Conv2D)    (None, 28, 28, 64)        102464    \n",
      "_________________________________________________________________\n",
      "batch_normalization_7 (Batch (None, 28, 28, 64)        256       \n",
      "_________________________________________________________________\n",
      "activation_8 (Activation)    (None, 28, 28, 64)        0         \n",
      "_________________________________________________________________\n",
      "generator_conv_4 (Conv2D)    (None, 28, 28, 1)         1601      \n",
      "_________________________________________________________________\n",
      "activation_9 (Activation)    (None, 28, 28, 1)         0         \n",
      "=================================================================\n",
      "Total params: 297,761\n",
      "Trainable params: 294,241\n",
      "Non-trainable params: 3,520\n",
      "_________________________________________________________________\n"
     ]
    }
   ],
   "source": [
    "initial_dense_layer_size = (7, 7, 32)\n",
    "\n",
    "generator_input = Input(shape = (z_dim,), name = 'generator_input')\n",
    "\n",
    "x = Dense(np.prod(initial_dense_layer_size))(generator_input)\n",
    "x = BatchNormalization(momentum = 0.9)(x)\n",
    "x = Activation('relu')(x)\n",
    "x = Reshape(initial_dense_layer_size)(x)\n",
    "\n",
    "x = UpSampling2D()(x)\n",
    "x = Conv2D(64 ,kernel_size = 5, padding = 'same', name = 'generator_conv_1')(x)\n",
    "x = BatchNormalization(momentum = 0.9)(x)\n",
    "x = Activation('relu')(x)\n",
    "\n",
    "x = UpSampling2D()(x)\n",
    "x = Conv2D(64 ,kernel_size = 5, padding = 'same', name = 'generator_conv_2')(x)\n",
    "x = BatchNormalization(momentum = 0.9)(x)\n",
    "x = Activation('relu')(x)\n",
    "\n",
    "x = Conv2D(64, kernel_size = 5, padding = 'same', name = 'generator_conv_3')(x)\n",
    "x = BatchNormalization(momentum = 0.9)(x)\n",
    "x = Activation('relu')(x)\n",
    "\n",
    "x = Conv2D(1, kernel_size = 5, padding = 'same', name = 'generator_conv_4')(x)\n",
    "\n",
    "generator_output = Activation('tanh')(x)\n",
    "\n",
    "generator = Model(generator_input, generator_output)\n",
    "\n",
    "generator.summary()"
   ]
  },
  {
   "cell_type": "markdown",
   "metadata": {},
   "source": [
    "Wat je opvalt is het erg veel layers heeft, en daarin veel verschillende \n",
    "soorten layers, zoals convelutional layers maar ook activatie en dense \n",
    "layers.  "
   ]
  },
  {
   "cell_type": "markdown",
   "metadata": {},
   "source": [
    "# 6. Adversarial Network <a class='anchor' id='6'></a>\n",
    "\n",
    "Het volledige Adversarial Network combineert de `generator` en de `discriminator`. Voordat we het model compileren, geven we aan dat de parameters van de `discriminator` in dit geval niet mogen veranderen. Anders zou de `discriminator` simpelweg alle afbeeldingen als echt bestempelen."
   ]
  },
  {
   "cell_type": "code",
   "execution_count": 14,
   "metadata": {},
   "outputs": [],
   "source": [
    "discriminator.trainable = False\n",
    "\n",
    "gan_input = Input(shape = (z_dim,))\n",
    "gan_output = discriminator(generator(gan_input))\n",
    "\n",
    "gan = Model(gan_input, gan_output)\n",
    "\n",
    "gan_optimizer = RMSprop(lr = 0.0004, clipvalue = 1.0, decay = 1e-8)\n",
    "\n",
    "gan.compile(optimizer = gan_optimizer, loss = 'binary_crossentropy', metrics = ['accuracy'])\n",
    "\n",
    "discriminator.trainable = True"
   ]
  },
  {
   "cell_type": "markdown",
   "metadata": {},
   "source": [
    "## Verover de data <a class='anchor' id='7'></a>"
   ]
  },
  {
   "cell_type": "code",
   "execution_count": 15,
   "metadata": {},
   "outputs": [],
   "source": [
    "from keras.datasets import mnist\n",
    "\n",
    "(x_train, y_train), (x_test, y_test) = mnist.load_data()\n",
    "\n",
    "x_train = x_train.astype('float32') / 255.\n",
    "x_train = x_train.reshape(x_train.shape + (1,))\n",
    "    \n",
    "x_test = x_test.astype('float32') / 255.\n",
    "x_test = x_test.reshape(x_test.shape + (1,))"
   ]
  },
  {
   "cell_type": "markdown",
   "metadata": {},
   "source": [
    "# 7. Trainen van een GAN <a class='anchor' id='8'></a>\n",
    "\n",
    "Let op: dit vereist heel veel geduld en een snelle computer, liefst met een GPU.\n",
    "Probeer een paar iteraties te runnen."
   ]
  },
  {
   "cell_type": "code",
   "execution_count": 16,
   "metadata": {},
   "outputs": [
    {
     "name": "stdout",
     "output_type": "stream",
     "text": [
      "discriminator loss: 0.7100896239280701 ,acc: 0.0\n",
      "\tdiscriminator loss (real): 0.7085728645324707 , acc (real:) 0.0\n",
      "\tdiscriminator loss (fake): 0.7085728645324707 , acc (fake:) 0.0\n",
      "adversarial loss: 0.6475754976272583 , acc: 1.0\n"
     ]
    },
    {
     "data": {
      "image/png": "[encoded data removed]",
      "text/plain": [
       "<Figure size 432x288 with 1 Axes>"
      ]
     },
     "metadata": {
      "needs_background": "light"
     },
     "output_type": "display_data"
    },
    {
     "name": "stdout",
     "output_type": "stream",
     "text": [
      "discriminator loss: 0.6675936579704285 ,acc: 0.0\n",
      "\tdiscriminator loss (real): 0.15748131275177002 , acc (real:) 0.0\n",
      "\tdiscriminator loss (fake): 0.15748131275177002 , acc (fake:) 0.0\n",
      "adversarial loss: 3.4063994884490967 , acc: 0.05000000074505806\n"
     ]
    },
    {
     "data": {
      "image/png": "[encoded data removed]",
      "text/plain": [
       "<Figure size 432x288 with 1 Axes>"
      ]
     },
     "metadata": {
      "needs_background": "light"
     },
     "output_type": "display_data"
    },
    {
     "name": "stdout",
     "output_type": "stream",
     "text": [
      "discriminator loss: -0.24799080938100815 ,acc: 0.0\n",
      "\tdiscriminator loss (real): 0.16679050028324127 , acc (real:) 0.0\n",
      "\tdiscriminator loss (fake): 0.16679050028324127 , acc (fake:) 0.0\n",
      "adversarial loss: 28.378814697265625 , acc: 0.0\n"
     ]
    },
    {
     "data": {
      "image/png": "[encoded data removed]",
      "text/plain": [
       "<Figure size 432x288 with 1 Axes>"
      ]
     },
     "metadata": {
      "needs_background": "light"
     },
     "output_type": "display_data"
    },
    {
     "name": "stdout",
     "output_type": "stream",
     "text": [
      "discriminator loss: -0.012338869273662567 ,acc: 0.0\n",
      "\tdiscriminator loss (real): 0.17352578043937683 , acc (real:) 0.0\n",
      "\tdiscriminator loss (fake): 0.17352578043937683 , acc (fake:) 0.0\n",
      "adversarial loss: 36.626060485839844 , acc: 0.05000000074505806\n"
     ]
    },
    {
     "data": {
      "image/png": "[encoded data removed]",
      "text/plain": [
       "<Figure size 432x288 with 1 Axes>"
      ]
     },
     "metadata": {
      "needs_background": "light"
     },
     "output_type": "display_data"
    }
   ],
   "source": [
    "import matplotlib.pyplot as plt\n",
    "\n",
    "iterations = 400\n",
    "batch_size = 20\n",
    "\n",
    "start = 0\n",
    "for step in range(iterations):\n",
    "    stop = start + batch_size\n",
    "    \n",
    "    # genereer afbeeldingen\n",
    "    random_latent_vectors = np.random.normal(size = (batch_size, z_dim))\n",
    "    generated_images = generator.predict(random_latent_vectors)\n",
    "    \n",
    "    fake = np.ones((batch_size, 1))\n",
    "    fake += 0.05 * np.random.random(fake.shape) # voeg een beetje ruis toe aan de labels\n",
    "    \n",
    "    # selecteer echte afbeeldingen\n",
    "    real_images = x_train[start: stop]\n",
    "    valid =  np.zeros((batch_size, 1))\n",
    "    valid += 0.05 * np.random.random(valid.shape) # voeg een beetje ruis toe aan de labels \n",
    "    \n",
    "    # train de discriminator\n",
    "    d_loss_real, d_acc_real = discriminator.train_on_batch(real_images, valid)\n",
    "    d_loss_fake, d_acc_fake = discriminator.train_on_batch(generated_images, fake)\n",
    "    d_loss = 0.5 * (d_loss_real + d_loss_fake)\n",
    "    d_acc = 0.5 * (d_acc_real + d_acc_fake)\n",
    "    \n",
    "    # nieuwe willekeurige vectoren\n",
    "    random_latent_vectors = np.random.normal(size = (batch_size, z_dim))\n",
    "    \n",
    "    # geef deze allemaal het label 'echt' (maar dat zijn ze niet)\n",
    "    misleading = np.zeros((batch_size, 1))\n",
    "    \n",
    "    # train de gewichten van de generator door het trainen van de gan als geheel\n",
    "    a_loss, a_acc = gan.train_on_batch(random_latent_vectors, misleading)\n",
    "    \n",
    "    start += batch_size\n",
    "    if start > len(x_train) - batch_size:\n",
    "        start = 0\n",
    "        \n",
    "    if step % 100 == 0:        \n",
    "        print('discriminator loss:', d_loss, ',acc:', d_acc)\n",
    "        print('\\tdiscriminator loss (real):', d_loss_real, ', acc (real:)', d_acc_real)\n",
    "        print('\\tdiscriminator loss (fake):', d_loss_real, ', acc (fake:)', d_acc_real)\n",
    "        print('adversarial loss:', a_loss, ', acc:', a_acc)\n",
    "        \n",
    "        img = generated_images[0].reshape((28,28))\n",
    "        plt.imshow(img, cmap='gray_r')\n",
    "        plt.show()"
   ]
  },
  {
   "cell_type": "markdown",
   "metadata": {},
   "source": [
    "## Conclusie GAN <a class='anchor' id='9'></a>"
   ]
  },
  {
   "cell_type": "markdown",
   "metadata": {},
   "source": [
    "De conclusie dat we kunnen trekken uit deze simpele GAN is dat het toch \n",
    "best moeilijk is om zelf foto’s te genereren voor een GAN. En dat dit \n",
    "(misschien) meer kracht en geduld nodig heeft voor betere resultaten. We \n",
    "zien wel dat er een figuur uit ontstaat ten opzichte van de eerste iteraties. \n",
    "Maar nog niet iets wat te herkennen is als mens."
   ]
  }
 ],
 "metadata": {
  "interpreter": {
   "hash": "1b4072f7559b260cf498e2145256c874391bb92289285b6eda6e3dcc453506d7"
  },
  "kernelspec": {
   "display_name": "Python 3.9.6 64-bit",
   "name": "python3"
  },
  "language_info": {
   "codemirror_mode": {
    "name": "ipython",
    "version": 3
   },
   "file_extension": ".py",
   "mimetype": "text/x-python",
   "name": "python",
   "nbconvert_exporter": "python",
   "pygments_lexer": "ipython3",
   "version": "3.9.6"
  }
 },
 "nbformat": 4,
 "nbformat_minor": 2
}
