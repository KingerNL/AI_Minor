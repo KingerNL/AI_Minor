{
 "cells": [
  {
   "cell_type": "markdown",
   "metadata": {},
   "source": [
    "# Deep Learning - imbd\n",
    "\n",
    "### Van: Mart Veldkamp"
   ]
  },
  {
   "cell_type": "markdown",
   "metadata": {},
   "source": [
    "# Inhoudsopgave\n",
    "\n",
    "1. [Inleiding](#1)\n",
    "2. [Het probleem](#2)\n",
    "3. [Library's laden + data ophalen](#3)\n",
    "    - [Versie's van de verschillende library's](#4)\n",
    "    - [Data ophalen](#5)\n",
    "4. [Embedding](#6)\n",
    "    - [Conclusie Embedding](#7)\n",
    "5. [Maak test images](#8)\n",
    "6. [1D Convolutie](#9)\n",
    "    - [Conclusie 1D convolutie](#10)\n",
    "7. [Eenvoudig RNN](#11)\n",
    "    - [Conclusie RNN](#12)\n",
    "8. [LSTM](#13)\n",
    "    - [Conclusie LSTM](#14)\n",
    "9. [Combineer Conv1D en LSTM](#15)\n",
    "    - [Conclusie Conv1D met LSTM](#16)\n",
    "10. [Bidirectional](#17)\n",
    "    - [Conclusie Bidirectional](#18)\n",
    "11. [Bronnen](#19)"
   ]
  },
  {
   "cell_type": "markdown",
   "metadata": {},
   "source": [
    "# 1. Inleiding <a class='anchor' id='1'></a>\n",
    "\n",
    "Deze opdracht is onderdeel van het overkoepelende vak Deep Learning, dit is één van de meerdere opgaves die ik gebruik in dit vak om te laten zien hoe deep learning gebruikt kan worden voor verschillende doeleinde. Al deze opgaves zijn daarom ook op de lossen door middel van Deep Learning.\n",
    "\n",
    "Alle code in deze opdrachten zijn van mijzelf, gebasseerd op code uit de lessen, of waar ik zelf vast liep gebaseerd op code snippets van het internet. Mocht het toch voorkomen dat er code 1 op 1 is overgenomen, dan staat dit vermeld in de bronnen"
   ]
  },
  {
   "cell_type": "markdown",
   "metadata": {},
   "source": [
    "# 2. Het probleem <a class='anchor' id='2'></a>\n",
    "\n",
    "Het probleem dat ik in deze notebook ga behandelen is het classificeren van recensies aan de hand van of een review veel woorden heeft wat gezien wordt als slecht of als goed. Dit gaan we met heel veel verschillende soorten modellen doen om zo te kijken welke nou uiteindelijk het beste werkt. Dit worden lezen wordt gedaan door middel van in de zien te kijken naar bijvoorbeeld een woord zoals \"slecht\" of \"Leuk\". Maar je kan je voorstellen dat er ook kon staan \"niet slecht\" of \"Alles behalve leuk\". Daarom moeten we goed kijken naar de context waarin deze woorden staan. En daar mee gaan spelen."
   ]
  },
  {
   "cell_type": "markdown",
   "metadata": {},
   "source": [
    "# 3. Library's laden + data ophalen <a class='anchor' id='3'></a>"
   ]
  },
  {
   "cell_type": "code",
   "execution_count": 133,
   "metadata": {},
   "outputs": [],
   "source": [
    "import numpy as np\n",
    "import pandas as pd\n",
    "import warnings\n",
    "\n",
    "warnings.filterwarnings('ignore')\n",
    "\n",
    "import matplotlib.pyplot as plt\n",
    "import seaborn as sns\n",
    "\n",
    "from keras.models import Sequential\n",
    "from keras.layers import Flatten, Dense"
   ]
  },
  {
   "cell_type": "markdown",
   "metadata": {},
   "source": [
    "## Versie's van de verschillende library's <a class='anchor' id='4'></a>"
   ]
  },
  {
   "cell_type": "code",
   "execution_count": 134,
   "metadata": {},
   "outputs": [
    {
     "name": "stdout",
     "output_type": "stream",
     "text": [
      "Versie van PandaS: 1.3.4\n",
      "Versie van Numpy: 1.19.5\n"
     ]
    }
   ],
   "source": [
    "print(\"Versie van PandaS:\", pd.__version__)\n",
    "print(\"Versie van Numpy:\", np.__version__)"
   ]
  },
  {
   "cell_type": "markdown",
   "metadata": {},
   "source": [
    "## data ophalen <a class='anchor' id='5'></a>"
   ]
  },
  {
   "cell_type": "code",
   "execution_count": 135,
   "metadata": {},
   "outputs": [],
   "source": [
    "from keras.datasets import imdb\n",
    "from keras import preprocessing\n",
    "\n",
    "max_features = 10000\n",
    "maxlen = 60 # gebruik alleen de eerste x woorden van iedere review\n",
    "\n",
    "(x_train, y_train), (x_test, y_test) = imdb.load_data(num_words = max_features)\n",
    "\n",
    "# gebruik alleen de eerste 20 woorden\n",
    "# vul sequences korter dan 20 woorden aan met nullen\n",
    "x_train = preprocessing.sequence.pad_sequences(x_train, maxlen = maxlen)\n",
    "x_test = preprocessing.sequence.pad_sequences(x_test, maxlen = maxlen)\n",
    "\n",
    "number_of_examples = 10000\n",
    "\n",
    "x_val_set = x_train[:number_of_examples]\n",
    "x_train_set = x_train[number_of_examples:]\n",
    "\n",
    "y_val_set = y_train[:number_of_examples]\n",
    "y_train_set = y_train[number_of_examples:]"
   ]
  },
  {
   "cell_type": "markdown",
   "metadata": {},
   "source": [
    "# 4. Embedding <a class='anchor' id='6'></a>"
   ]
  },
  {
   "cell_type": "markdown",
   "metadata": {},
   "source": [
    "We trainen een embedding layer in combinatie met een Dense netwerk."
   ]
  },
  {
   "cell_type": "code",
   "execution_count": 136,
   "metadata": {},
   "outputs": [],
   "source": [
    "from keras.layers import Embedding\n",
    "\n",
    "model = Sequential()\n",
    "model.add(Embedding(10000, 6, input_length = maxlen))\n",
    "model.add(Flatten())\n",
    "model.add(Dense(1, activation = 'sigmoid'))\n"
   ]
  },
  {
   "cell_type": "code",
   "execution_count": 137,
   "metadata": {},
   "outputs": [
    {
     "name": "stdout",
     "output_type": "stream",
     "text": [
      "Model: \"sequential_13\"\n",
      "_________________________________________________________________\n",
      "Layer (type)                 Output Shape              Param #   \n",
      "=================================================================\n",
      "embedding_14 (Embedding)     (None, 60, 6)             60000     \n",
      "_________________________________________________________________\n",
      "flatten_9 (Flatten)          (None, 360)               0         \n",
      "_________________________________________________________________\n",
      "dense_13 (Dense)             (None, 1)                 361       \n",
      "=================================================================\n",
      "Total params: 60,361\n",
      "Trainable params: 60,361\n",
      "Non-trainable params: 0\n",
      "_________________________________________________________________\n"
     ]
    }
   ],
   "source": [
    "def compile(model, opt = 'rmsprop', loss = 'binary_crossentropy'):\n",
    "    model.compile(optimizer = opt,\n",
    "                  metrics = ['acc'],\n",
    "                 loss = loss)\n",
    "\n",
    "    model.summary()\n",
    "    \n",
    "compile(model)"
   ]
  },
  {
   "cell_type": "code",
   "execution_count": 138,
   "metadata": {},
   "outputs": [
    {
     "name": "stdout",
     "output_type": "stream",
     "text": [
      "Epoch 1/5\n",
      "469/469 [==============================] - 1s 1ms/step - loss: 0.6645 - acc: 0.6448 - val_loss: 0.6016 - val_acc: 0.7372\n",
      "Epoch 2/5\n",
      "469/469 [==============================] - 0s 926us/step - loss: 0.5023 - acc: 0.7929 - val_loss: 0.4571 - val_acc: 0.7987\n",
      "Epoch 3/5\n",
      "469/469 [==============================] - 0s 950us/step - loss: 0.3861 - acc: 0.8393 - val_loss: 0.4024 - val_acc: 0.8182\n",
      "Epoch 4/5\n",
      "469/469 [==============================] - 0s 931us/step - loss: 0.3294 - acc: 0.8639 - val_loss: 0.3836 - val_acc: 0.8272\n",
      "Epoch 5/5\n",
      "469/469 [==============================] - 0s 948us/step - loss: 0.2940 - acc: 0.8775 - val_loss: 0.3772 - val_acc: 0.8319\n"
     ]
    }
   ],
   "source": [
    "def fit(model, epochs = 5, batch_size = 32):\n",
    "    return model.fit(x_train_set, y_train_set,\n",
    "                     epochs = epochs,\n",
    "                     batch_size = batch_size,\n",
    "                     validation_data = (x_val_set, y_val_set))\n",
    "\n",
    "history = fit(model)"
   ]
  },
  {
   "cell_type": "code",
   "execution_count": 139,
   "metadata": {},
   "outputs": [
    {
     "data": {
      "image/png": "[encoded data removed]",
      "text/plain": [
       "<Figure size 432x288 with 1 Axes>"
      ]
     },
     "metadata": {},
     "output_type": "display_data"
    }
   ],
   "source": [
    "def plot_learning_curves(history):\n",
    "    \n",
    "    acc = history.history['acc']\n",
    "    val_acc = history.history['val_acc']\n",
    "    loss = history.history['loss']\n",
    "    val_loss = history.history['val_loss']\n",
    "\n",
    "    epochs = range(1, len(acc) + 1)\n",
    "\n",
    "    sns.set_theme(style=\"darkgrid\")\n",
    "    sns.lineplot(x=epochs, y=acc, label='training acc', color=\"b\", linestyle=\"dashed\", marker=\"o\")\n",
    "    sns.lineplot(x=epochs, y=val_acc, label='validation acc', color='tab:orange', marker=\"o\")\n",
    "    plt.title('training and validation accuracy')\n",
    "    plt.xlabel('Epochs')\n",
    "    plt.ylabel('Accuracy')\n",
    "    plt.ylim(0,1)\n",
    "    plt.legend()\n",
    "\n",
    "    plt.show()\n",
    "    \n",
    "plot_learning_curves(history)"
   ]
  },
  {
   "cell_type": "markdown",
   "metadata": {},
   "source": [
    "## Conclusie Embedding <a class='anchor' id='7'></a>\n",
    "\n",
    "Na meerdere iteraties kwam ik erachter dat hoe kleiner ik de embedding laag maak, hoe beter het model werkt. En daarna heb ik de maxlen die het model afleest per review verhoogt. Om zo meer mee te nemen van de reviews. Uiteindelijk kwam ik op een accuracy van 83% (Beste run). En denk dat er met embedding ook niet veel meer uit te halen valt."
   ]
  },
  {
   "cell_type": "markdown",
   "metadata": {},
   "source": [
    "# 5. Maak test images <a class='anchor' id='8'></a>"
   ]
  },
  {
   "cell_type": "markdown",
   "metadata": {},
   "source": [
    "We maken hier test images om te experimenteren met een netwerk met een Embedding en éénn of meer `Conv1D' lagen. Om te kijken wat het resultaat dan is."
   ]
  },
  {
   "cell_type": "code",
   "execution_count": 140,
   "metadata": {},
   "outputs": [],
   "source": [
    "from keras.layers import Conv1D, MaxPooling1D, GlobalMaxPooling1D\n",
    "\n",
    "model = Sequential()\n",
    "model.add(Embedding(10000, 16, input_length = maxlen))\n",
    "model.add(Conv1D(32, 5, activation = 'relu'))\n",
    "model.add(Flatten())\n",
    "model.add(Dense(1, activation = 'sigmoid'))"
   ]
  },
  {
   "cell_type": "code",
   "execution_count": 141,
   "metadata": {},
   "outputs": [
    {
     "name": "stdout",
     "output_type": "stream",
     "text": [
      "Model: \"sequential_14\"\n",
      "_________________________________________________________________\n",
      "Layer (type)                 Output Shape              Param #   \n",
      "=================================================================\n",
      "embedding_15 (Embedding)     (None, 60, 16)            160000    \n",
      "_________________________________________________________________\n",
      "conv1d_6 (Conv1D)            (None, 56, 32)            2592      \n",
      "_________________________________________________________________\n",
      "flatten_10 (Flatten)         (None, 1792)              0         \n",
      "_________________________________________________________________\n",
      "dense_14 (Dense)             (None, 1)                 1793      \n",
      "=================================================================\n",
      "Total params: 164,385\n",
      "Trainable params: 164,385\n",
      "Non-trainable params: 0\n",
      "_________________________________________________________________\n"
     ]
    }
   ],
   "source": [
    "compile(model)"
   ]
  },
  {
   "cell_type": "markdown",
   "metadata": {},
   "source": [
    "# 6. 1D convolutie <a class='anchor' id='9'></a>"
   ]
  },
  {
   "cell_type": "code",
   "execution_count": 142,
   "metadata": {},
   "outputs": [
    {
     "name": "stdout",
     "output_type": "stream",
     "text": [
      "Epoch 1/5\n",
      "469/469 [==============================] - 2s 3ms/step - loss: 0.5538 - acc: 0.6925 - val_loss: 0.4013 - val_acc: 0.8170\n",
      "Epoch 2/5\n",
      "469/469 [==============================] - 1s 2ms/step - loss: 0.3448 - acc: 0.8468 - val_loss: 0.3799 - val_acc: 0.8277\n",
      "Epoch 3/5\n",
      "469/469 [==============================] - 1s 2ms/step - loss: 0.2894 - acc: 0.8763 - val_loss: 0.3800 - val_acc: 0.8293\n",
      "Epoch 4/5\n",
      "469/469 [==============================] - 1s 3ms/step - loss: 0.2561 - acc: 0.8937 - val_loss: 0.3918 - val_acc: 0.8274\n",
      "Epoch 5/5\n",
      "469/469 [==============================] - 1s 3ms/step - loss: 0.2322 - acc: 0.9067 - val_loss: 0.4086 - val_acc: 0.8238\n"
     ]
    }
   ],
   "source": [
    "history = fit(model)"
   ]
  },
  {
   "cell_type": "code",
   "execution_count": 143,
   "metadata": {},
   "outputs": [
    {
     "data": {
      "image/png": "[encoded data removed]",
      "text/plain": [
       "<Figure size 432x288 with 1 Axes>"
      ]
     },
     "metadata": {},
     "output_type": "display_data"
    }
   ],
   "source": [
    "plot_learning_curves(history)"
   ]
  },
  {
   "cell_type": "markdown",
   "metadata": {},
   "source": [
    "## Conclusie 1D Convolutie <a class='anchor' id='10'></a>\n",
    "\n",
    "De conclusie dat we hieruit kunnen trekken is dat er niet een erg groot verschil zit tussen de embedding laag en de conv1d laag. Bij de aller eerste iteratie zat er nog een max pooling en conv1D laag tussen. En deze zijn er uit gehaald voor betere resultaten. De uiteindelijke accuracy is: 83.21%"
   ]
  },
  {
   "cell_type": "markdown",
   "metadata": {},
   "source": [
    "# 7. Eenvoudig RNN <a class='anchor' id='11'></a>"
   ]
  },
  {
   "cell_type": "markdown",
   "metadata": {},
   "source": [
    "Experimenteer met een netwerk met een Embedding en een of meer `SimpleRNN' lagen."
   ]
  },
  {
   "cell_type": "code",
   "execution_count": 206,
   "metadata": {},
   "outputs": [],
   "source": [
    "from keras.layers import SimpleRNN\n",
    "from keras.layers import GaussianNoise\n",
    "\n",
    "model = Sequential()\n",
    "model.add(Embedding(10000, 8, input_length = maxlen))\n",
    "model.add(SimpleRNN(12, return_sequences = True))\n",
    "model.add(GaussianNoise(0.4))\n",
    "model.add(SimpleRNN(24))\n",
    "model.add(Dense(1, activation = 'sigmoid'))"
   ]
  },
  {
   "cell_type": "code",
   "execution_count": 207,
   "metadata": {},
   "outputs": [
    {
     "name": "stdout",
     "output_type": "stream",
     "text": [
      "Model: \"sequential_33\"\n",
      "_________________________________________________________________\n",
      "Layer (type)                 Output Shape              Param #   \n",
      "=================================================================\n",
      "embedding_35 (Embedding)     (None, 60, 8)             80000     \n",
      "_________________________________________________________________\n",
      "simple_rnn_36 (SimpleRNN)    (None, 60, 12)            252       \n",
      "_________________________________________________________________\n",
      "gaussian_noise_6 (GaussianNo (None, 60, 12)            0         \n",
      "_________________________________________________________________\n",
      "simple_rnn_37 (SimpleRNN)    (None, 24)                888       \n",
      "_________________________________________________________________\n",
      "dense_32 (Dense)             (None, 1)                 25        \n",
      "=================================================================\n",
      "Total params: 81,165\n",
      "Trainable params: 81,165\n",
      "Non-trainable params: 0\n",
      "_________________________________________________________________\n"
     ]
    }
   ],
   "source": [
    "compile(model)"
   ]
  },
  {
   "cell_type": "code",
   "execution_count": 208,
   "metadata": {},
   "outputs": [
    {
     "name": "stdout",
     "output_type": "stream",
     "text": [
      "Epoch 1/5\n",
      "469/469 [==============================] - 10s 19ms/step - loss: 0.7044 - acc: 0.5062 - val_loss: 0.6916 - val_acc: 0.5226\n",
      "Epoch 2/5\n",
      "469/469 [==============================] - 9s 19ms/step - loss: 0.5831 - acc: 0.6817 - val_loss: 0.5268 - val_acc: 0.7472\n",
      "Epoch 3/5\n",
      "469/469 [==============================] - 9s 18ms/step - loss: 0.4209 - acc: 0.8167 - val_loss: 0.4996 - val_acc: 0.7867\n",
      "Epoch 4/5\n",
      "469/469 [==============================] - 8s 18ms/step - loss: 0.3512 - acc: 0.8563 - val_loss: 0.4298 - val_acc: 0.8038\n",
      "Epoch 5/5\n",
      "469/469 [==============================] - 9s 19ms/step - loss: 0.3066 - acc: 0.8767 - val_loss: 0.4459 - val_acc: 0.8124\n"
     ]
    }
   ],
   "source": [
    "history = fit(model)"
   ]
  },
  {
   "cell_type": "code",
   "execution_count": 209,
   "metadata": {},
   "outputs": [
    {
     "data": {
      "image/png": "[encoded data removed]",
      "text/plain": [
       "<Figure size 432x288 with 1 Axes>"
      ]
     },
     "metadata": {},
     "output_type": "display_data"
    }
   ],
   "source": [
    "plot_learning_curves(history)"
   ]
  },
  {
   "cell_type": "markdown",
   "metadata": {},
   "source": [
    "## Conclusie RNN <a class='anchor' id='12'></a>\n",
    " \n",
    "Bij de Recurrent neural network (RNN) zie je dat deze zoals misschien voorspeld hetzelfde resultaat geeft als bij de vorige, en dat is dat er teveel getrained wordt voor het probleem wat je wil oplossen. Er kan eventueel verdere tests gedaan worden met lagere Epochs om zo te kijken of de validatie set (wat ik een beetje zie als kleine test set) hoger uitkomt."
   ]
  },
  {
   "cell_type": "markdown",
   "metadata": {},
   "source": [
    "# 8. LSTM <a class='anchor' id='13'></a>"
   ]
  },
  {
   "cell_type": "markdown",
   "metadata": {},
   "source": [
    "Experimenteer met een netwerk met een embedding en een of meer LSTM lagen."
   ]
  },
  {
   "cell_type": "code",
   "execution_count": 210,
   "metadata": {},
   "outputs": [],
   "source": [
    "from keras.layers import LSTM\n",
    "\n",
    "model = Sequential()\n",
    "model.add(Embedding(10000, 16, input_length = maxlen))\n",
    "model.add(GaussianNoise(0.4))\n",
    "model.add(LSTM(32, return_sequences = True, dropout = 0.2, recurrent_dropout = 0.2))\n",
    "model.add(LSTM(32, dropout = 0.2, recurrent_dropout = 0.2))\n",
    "model.add(Dense(1, activation = 'sigmoid'))"
   ]
  },
  {
   "cell_type": "code",
   "execution_count": 211,
   "metadata": {},
   "outputs": [
    {
     "name": "stdout",
     "output_type": "stream",
     "text": [
      "Model: \"sequential_34\"\n",
      "_________________________________________________________________\n",
      "Layer (type)                 Output Shape              Param #   \n",
      "=================================================================\n",
      "embedding_36 (Embedding)     (None, 60, 16)            160000    \n",
      "_________________________________________________________________\n",
      "gaussian_noise_7 (GaussianNo (None, 60, 16)            0         \n",
      "_________________________________________________________________\n",
      "lstm_4 (LSTM)                (None, 60, 32)            6272      \n",
      "_________________________________________________________________\n",
      "lstm_5 (LSTM)                (None, 32)                8320      \n",
      "_________________________________________________________________\n",
      "dense_33 (Dense)             (None, 1)                 33        \n",
      "=================================================================\n",
      "Total params: 174,625\n",
      "Trainable params: 174,625\n",
      "Non-trainable params: 0\n",
      "_________________________________________________________________\n"
     ]
    }
   ],
   "source": [
    "compile(model)"
   ]
  },
  {
   "cell_type": "code",
   "execution_count": 212,
   "metadata": {},
   "outputs": [
    {
     "name": "stdout",
     "output_type": "stream",
     "text": [
      "Epoch 1/5\n",
      "469/469 [==============================] - 38s 74ms/step - loss: 0.6777 - acc: 0.5579 - val_loss: 0.5817 - val_acc: 0.6971\n",
      "Epoch 2/5\n",
      "469/469 [==============================] - 35s 75ms/step - loss: 0.5982 - acc: 0.6768 - val_loss: 0.4828 - val_acc: 0.7834\n",
      "Epoch 3/5\n",
      "469/469 [==============================] - 35s 75ms/step - loss: 0.5324 - acc: 0.7357 - val_loss: 0.4284 - val_acc: 0.8053\n",
      "Epoch 4/5\n",
      "469/469 [==============================] - 35s 75ms/step - loss: 0.4852 - acc: 0.7657 - val_loss: 0.4132 - val_acc: 0.8163\n",
      "Epoch 5/5\n",
      "469/469 [==============================] - 36s 76ms/step - loss: 0.4482 - acc: 0.7933 - val_loss: 0.4188 - val_acc: 0.8012\n"
     ]
    }
   ],
   "source": [
    "history = fit(model)"
   ]
  },
  {
   "cell_type": "code",
   "execution_count": 213,
   "metadata": {},
   "outputs": [
    {
     "data": {
      "image/png": "[encoded data removed]",
      "text/plain": [
       "<Figure size 432x288 with 1 Axes>"
      ]
     },
     "metadata": {},
     "output_type": "display_data"
    }
   ],
   "source": [
    "plot_learning_curves(history)"
   ]
  },
  {
   "cell_type": "markdown",
   "metadata": {},
   "source": [
    "## Conclusie LSTM <a class='anchor' id='14'></a>\n",
    "\n",
    "Dit heeft een erg mooie plot, niet erg handig. Ik heb wat ruis toegevoegd om ervoor te zorgen dat het model niet teveel traind op de trainingsset. En door deze toevoeging is het model van een accuracy van 76% naar 81% gegaan."
   ]
  },
  {
   "cell_type": "markdown",
   "metadata": {},
   "source": [
    "# 9. Combineer Conv1D en LSTM <a class='anchor' id='15'></a>"
   ]
  },
  {
   "cell_type": "code",
   "execution_count": 230,
   "metadata": {},
   "outputs": [],
   "source": [
    "model = Sequential()\n",
    "model.add(Embedding(10000, 16, input_length = maxlen))\n",
    "model.add(GaussianNoise(0.35))\n",
    "model.add(Conv1D(16, 5, activation = 'relu'))\n",
    "model.add(MaxPooling1D(3))\n",
    "model.add(Conv1D(24, 5, activation = 'relu'))\n",
    "model.add(LSTM(24))\n",
    "model.add(Dense(1, activation = 'sigmoid'))"
   ]
  },
  {
   "cell_type": "code",
   "execution_count": 231,
   "metadata": {},
   "outputs": [
    {
     "name": "stdout",
     "output_type": "stream",
     "text": [
      "Model: \"sequential_39\"\n",
      "_________________________________________________________________\n",
      "Layer (type)                 Output Shape              Param #   \n",
      "=================================================================\n",
      "embedding_41 (Embedding)     (None, 60, 16)            160000    \n",
      "_________________________________________________________________\n",
      "gaussian_noise_12 (GaussianN (None, 60, 16)            0         \n",
      "_________________________________________________________________\n",
      "conv1d_18 (Conv1D)           (None, 56, 16)            1296      \n",
      "_________________________________________________________________\n",
      "max_pooling1d_8 (MaxPooling1 (None, 18, 16)            0         \n",
      "_________________________________________________________________\n",
      "conv1d_19 (Conv1D)           (None, 14, 24)            1944      \n",
      "_________________________________________________________________\n",
      "lstm_10 (LSTM)               (None, 24)                4704      \n",
      "_________________________________________________________________\n",
      "dense_38 (Dense)             (None, 1)                 25        \n",
      "=================================================================\n",
      "Total params: 167,969\n",
      "Trainable params: 167,969\n",
      "Non-trainable params: 0\n",
      "_________________________________________________________________\n"
     ]
    }
   ],
   "source": [
    "compile(model)"
   ]
  },
  {
   "cell_type": "code",
   "execution_count": 232,
   "metadata": {},
   "outputs": [
    {
     "name": "stdout",
     "output_type": "stream",
     "text": [
      "Epoch 1/5\n",
      "469/469 [==============================] - 6s 10ms/step - loss: 0.6924 - acc: 0.5156 - val_loss: 0.6804 - val_acc: 0.6685\n",
      "Epoch 2/5\n",
      "469/469 [==============================] - 4s 8ms/step - loss: 0.6339 - acc: 0.6391 - val_loss: 0.5689 - val_acc: 0.7426\n",
      "Epoch 3/5\n",
      "469/469 [==============================] - 4s 8ms/step - loss: 0.5563 - acc: 0.7131 - val_loss: 0.4971 - val_acc: 0.7768\n",
      "Epoch 4/5\n",
      "469/469 [==============================] - 4s 8ms/step - loss: 0.5030 - acc: 0.7537 - val_loss: 0.4599 - val_acc: 0.7951\n",
      "Epoch 5/5\n",
      "469/469 [==============================] - 4s 9ms/step - loss: 0.4656 - acc: 0.7816 - val_loss: 0.4402 - val_acc: 0.8020\n"
     ]
    }
   ],
   "source": [
    "history = fit(model)"
   ]
  },
  {
   "cell_type": "code",
   "execution_count": 233,
   "metadata": {},
   "outputs": [
    {
     "data": {
      "image/png": "[encoded data removed]",
      "text/plain": [
       "<Figure size 432x288 with 1 Axes>"
      ]
     },
     "metadata": {},
     "output_type": "display_data"
    }
   ],
   "source": [
    "plot_learning_curves(history)"
   ]
  },
  {
   "cell_type": "markdown",
   "metadata": {},
   "source": [
    "## Conclusie Conv1D met LSTM <a class='anchor' id='16'></a>\n",
    "\n",
    "Door middel van nog maals noise toe te voegen heb ik de accuracy omhoog gekregen van 74% naar 80%. Dit is een 6% verhoging wat mooi is. In vergelijking met andere modellen vind ik het niet zo super hoog. Het mooie wat je hier ziet is dat de validatie set steeds hoger is dan de training set als je kijkt naar de accuracy. Dit is opvallend omdat meestal de trainingsset hoger is. Dit kan komen door de noise. Waardoor in de trainingsset er minder hoge accuracy is, maar daardoor wordt er ook minder overtrained. Wat leidt tot een hoge validatie accuracy."
   ]
  },
  {
   "cell_type": "markdown",
   "metadata": {},
   "source": [
    "# 10. bidirectional <a class='anchor' id='17'></a>"
   ]
  },
  {
   "cell_type": "code",
   "execution_count": 246,
   "metadata": {},
   "outputs": [],
   "source": [
    "from keras.layers import Bidirectional\n",
    "\n",
    "model = Sequential()\n",
    "model.add(Embedding(10000, 32, input_length = maxlen))\n",
    "model.add(GaussianNoise(0.4))\n",
    "model.add(Conv1D(32, 5, activation = 'relu'))\n",
    "\n",
    "model.add(Bidirectional(LSTM(32)))\n",
    "\n",
    "model.add(Dense(1, activation = 'sigmoid'))"
   ]
  },
  {
   "cell_type": "code",
   "execution_count": 247,
   "metadata": {},
   "outputs": [
    {
     "name": "stdout",
     "output_type": "stream",
     "text": [
      "Model: \"sequential_43\"\n",
      "_________________________________________________________________\n",
      "Layer (type)                 Output Shape              Param #   \n",
      "=================================================================\n",
      "embedding_45 (Embedding)     (None, 60, 32)            320000    \n",
      "_________________________________________________________________\n",
      "gaussian_noise_16 (GaussianN (None, 60, 32)            0         \n",
      "_________________________________________________________________\n",
      "conv1d_23 (Conv1D)           (None, 56, 32)            5152      \n",
      "_________________________________________________________________\n",
      "bidirectional_4 (Bidirection (None, 64)                16640     \n",
      "_________________________________________________________________\n",
      "dense_42 (Dense)             (None, 1)                 65        \n",
      "=================================================================\n",
      "Total params: 341,857\n",
      "Trainable params: 341,857\n",
      "Non-trainable params: 0\n",
      "_________________________________________________________________\n"
     ]
    }
   ],
   "source": [
    "compile(model)"
   ]
  },
  {
   "cell_type": "code",
   "execution_count": 248,
   "metadata": {},
   "outputs": [
    {
     "name": "stdout",
     "output_type": "stream",
     "text": [
      "Epoch 1/5\n",
      "469/469 [==============================] - 15s 28ms/step - loss: 0.6832 - acc: 0.5461 - val_loss: 0.6118 - val_acc: 0.7396\n",
      "Epoch 2/5\n",
      "469/469 [==============================] - 12s 27ms/step - loss: 0.5726 - acc: 0.7064 - val_loss: 0.4794 - val_acc: 0.7745\n",
      "Epoch 3/5\n",
      "469/469 [==============================] - 12s 26ms/step - loss: 0.4944 - acc: 0.7615 - val_loss: 0.4353 - val_acc: 0.8093\n",
      "Epoch 4/5\n",
      "469/469 [==============================] - 13s 27ms/step - loss: 0.4383 - acc: 0.7948 - val_loss: 0.4058 - val_acc: 0.8201\n",
      "Epoch 5/5\n",
      "469/469 [==============================] - 13s 27ms/step - loss: 0.4084 - acc: 0.8148 - val_loss: 0.3905 - val_acc: 0.8232\n"
     ]
    }
   ],
   "source": [
    "history = fit(model)"
   ]
  },
  {
   "cell_type": "code",
   "execution_count": 249,
   "metadata": {},
   "outputs": [
    {
     "data": {
      "image/png": "[encoded data removed]",
      "text/plain": [
       "<Figure size 432x288 with 1 Axes>"
      ]
     },
     "metadata": {},
     "output_type": "display_data"
    }
   ],
   "source": [
    "plot_learning_curves(history)"
   ]
  },
  {
   "cell_type": "markdown",
   "metadata": {},
   "source": [
    "## Conclusie Bidirectional <a class='anchor' id='18'></a>\n",
    "\n",
    "Wat je kan zien bij Bidirectional is dat de val accuracy een toppunt heeft van rond de 83%, wat 6% hoger is dan een base line Bidirectional netwerk. Wat redelijk goed is. Net zoals bij de Conv1D met LSTM model zie je een mooie relatie tussen de validatie en trainings acc. "
   ]
  },
  {
   "cell_type": "markdown",
   "metadata": {},
   "source": [
    "# 11. Bronnen <a class='anchor' id='19'></a>\n",
    "\n",
    "- [Verschil Bidirectional LSTM en LSTM](https://stackoverflow.com/questions/43035827/whats-the-difference-between-a-bidirectional-lstm-and-an-lstm)\n",
    "- [LSTM explained](https://machinelearningmastery.com/gentle-introduction-long-short-term-memory-networks-experts/)\n",
    "- [Conv1D layer explained](https://towardsdatascience.com/understanding-1d-and-3d-convolution-neural-network-keras-9d8f76e29610)"
   ]
  }
 ],
 "metadata": {
  "kernelspec": {
   "display_name": "Python 3",
   "language": "python",
   "name": "python3"
  },
  "language_info": {
   "codemirror_mode": {
    "name": "ipython",
    "version": 3
   },
   "file_extension": ".py",
   "mimetype": "text/x-python",
   "name": "python",
   "nbconvert_exporter": "python",
   "pygments_lexer": "ipython3",
   "version": "3.9.6"
  }
 },
 "nbformat": 4,
 "nbformat_minor": 2
}
