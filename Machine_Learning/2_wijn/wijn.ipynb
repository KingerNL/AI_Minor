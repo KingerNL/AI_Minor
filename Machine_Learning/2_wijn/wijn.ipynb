{
 "cells": [
  {
   "cell_type": "markdown",
   "metadata": {},
   "source": [
    "# Machine Learning - wijn\n",
    "\n",
    "### van: Mart Veldkamp"
   ]
  },
  {
   "cell_type": "markdown",
   "metadata": {},
   "source": [
    "# Inhoudsopgave\n",
    "\n",
    "1. Inleiding\n",
    "2. Het probleem\n",
    "3. Library's laden + data ophalen\n",
    "4. Data visualiseren\n",
    "    - Distributies\n",
    "    - Features tov. target vector\n",
    "    - Normaalverdeling\n",
    "5. Data voorbereiden & opschonen\n",
    "    - waardes verranderen\n",
    "    - Normaliseren\n",
    "    - Data opsplitsen\n",
    "6. Modellen selecteren\n",
    "    - Decision tree\n",
    "    - SVM\n",
    "7. Modellen trainen en testen\n",
    "    - Modellen trainen\n",
    "    - Modellen testen\n",
    "    - de accuracy, precision, recall en f1\n",
    "    - Confusion matrix\n",
    "8. Conclusie\n",
    "    - Correlatie matrix\n",
    "- Bronnen"
   ]
  },
  {
   "cell_type": "markdown",
   "metadata": {},
   "source": [
    "# 1. Inleiding\n",
    "Deze opdracht is onderdeel van het overkoepelende vak Machine Learning, dit is één van de meerdere datasets die ik gebruik in dit vak, per dataset zijn ten minste 2 verschillende classifiers gebruikt. Deze 6 opdrachten bestaan uit classificatie- en regressieproblemen. En zijn allemaal op een andere manier opgelost.\n",
    "\n",
    "Alle code in deze opdrachten zijn van mijzelf, gebasseerd op code uit de lessen, of waar ik zelf vast liep gebaseerd op code snippets van het internet. Mocht het toch voorkomen dat er code 1 op 1 is overgenomen, dan staat dit vermeld in de bronnen"
   ]
  },
  {
   "cell_type": "markdown",
   "metadata": {},
   "source": [
    "# 2. Het probleem"
   ]
  },
  {
   "cell_type": "markdown",
   "metadata": {},
   "source": [
    "Het probleem dat ik in deze notebook ga behandelen is het bepalen of een wijn wit of rood is. Dit wordt gedaan aan de hand van een best groot stuk features, onder andere de pH waarde van de wijnen. Om te bepalen of wijn wit of rood is zal er gekeken worden naar de dataset om zo een conlusie te halen uit voorgaande data. Dit probleem is een classificatie probleem aangezien er maar 2 mogelijke uitkomsten zijn. Wit of rode wijn. Dus een binaire classificatie."
   ]
  },
  {
   "cell_type": "markdown",
   "metadata": {},
   "source": [
    "# 3. Library's laden + data ophalen\n",
    "\n",
    "Deze dataset is afkomstig van kaggle"
   ]
  },
  {
   "cell_type": "code",
   "execution_count": 1,
   "metadata": {},
   "outputs": [],
   "source": [
    "import numpy as np\n",
    "import pandas as pd\n",
    "import matplotlib.pyplot as plt\n",
    "import scipy\n",
    "import seaborn as sns\n",
    "import statsmodels.api as sm\n",
    "import math \n",
    "import sklearn\n",
    "\n",
    "from pandas.plotting import scatter_matrix\n",
    "from scipy import stats\n",
    "from scipy.stats import kurtosis, skew\n",
    "from sklearn import metrics\n",
    "from sklearn.preprocessing import StandardScaler\n",
    "from sklearn.preprocessing import OneHotEncoder\n",
    "from sklearn.model_selection import GridSearchCV\n",
    "from sklearn.model_selection import train_test_split\n",
    "from sklearn.linear_model import LogisticRegression\n",
    "from sklearn.neighbors import KNeighborsClassifier\n",
    "from sklearn.metrics import mean_squared_error, r2_score, mean_absolute_error, f1_score, roc_curve, roc_auc_score\n",
    "from sklearn.metrics import precision_score, recall_score\n",
    "from random import sample\n",
    "%matplotlib inline "
   ]
  },
  {
   "cell_type": "code",
   "execution_count": 2,
   "metadata": {},
   "outputs": [
    {
     "name": "stdout",
     "output_type": "stream",
     "text": [
      "De dataset heeft 6497 rijen, en 13 kolommen\n",
      "\n",
      "Dit zijn de features/target\n",
      "type                     object\n",
      "fixed acidity           float64\n",
      "volatile acidity        float64\n",
      "citric acid             float64\n",
      "residual sugar          float64\n",
      "chlorides               float64\n",
      "free sulfur dioxide     float64\n",
      "total sulfur dioxide    float64\n",
      "density                 float64\n",
      "pH                      float64\n",
      "sulphates               float64\n",
      "alcohol                 float64\n",
      "quality                   int64\n",
      "dtype: object\n",
      "\n",
      "Hier een kleine sample van de dataset\n"
     ]
    },
    {
     "data": {
      "text/html": [
       "<div>\n",
       "<style scoped>\n",
       "    .dataframe tbody tr th:only-of-type {\n",
       "        vertical-align: middle;\n",
       "    }\n",
       "\n",
       "    .dataframe tbody tr th {\n",
       "        vertical-align: top;\n",
       "    }\n",
       "\n",
       "    .dataframe thead th {\n",
       "        text-align: right;\n",
       "    }\n",
       "</style>\n",
       "<table border=\"1\" class=\"dataframe\">\n",
       "  <thead>\n",
       "    <tr style=\"text-align: right;\">\n",
       "      <th></th>\n",
       "      <th>type</th>\n",
       "      <th>fixed acidity</th>\n",
       "      <th>volatile acidity</th>\n",
       "      <th>citric acid</th>\n",
       "      <th>residual sugar</th>\n",
       "      <th>chlorides</th>\n",
       "      <th>free sulfur dioxide</th>\n",
       "      <th>total sulfur dioxide</th>\n",
       "      <th>density</th>\n",
       "      <th>pH</th>\n",
       "      <th>sulphates</th>\n",
       "      <th>alcohol</th>\n",
       "      <th>quality</th>\n",
       "    </tr>\n",
       "  </thead>\n",
       "  <tbody>\n",
       "    <tr>\n",
       "      <th>0</th>\n",
       "      <td>white</td>\n",
       "      <td>7.0</td>\n",
       "      <td>0.270</td>\n",
       "      <td>0.36</td>\n",
       "      <td>20.7</td>\n",
       "      <td>0.045</td>\n",
       "      <td>45.0</td>\n",
       "      <td>170.0</td>\n",
       "      <td>1.00100</td>\n",
       "      <td>3.00</td>\n",
       "      <td>0.45</td>\n",
       "      <td>8.8</td>\n",
       "      <td>6</td>\n",
       "    </tr>\n",
       "    <tr>\n",
       "      <th>1</th>\n",
       "      <td>white</td>\n",
       "      <td>6.3</td>\n",
       "      <td>0.300</td>\n",
       "      <td>0.34</td>\n",
       "      <td>1.6</td>\n",
       "      <td>0.049</td>\n",
       "      <td>14.0</td>\n",
       "      <td>132.0</td>\n",
       "      <td>0.99400</td>\n",
       "      <td>3.30</td>\n",
       "      <td>0.49</td>\n",
       "      <td>9.5</td>\n",
       "      <td>6</td>\n",
       "    </tr>\n",
       "    <tr>\n",
       "      <th>2</th>\n",
       "      <td>white</td>\n",
       "      <td>8.1</td>\n",
       "      <td>0.280</td>\n",
       "      <td>0.40</td>\n",
       "      <td>6.9</td>\n",
       "      <td>0.050</td>\n",
       "      <td>30.0</td>\n",
       "      <td>97.0</td>\n",
       "      <td>0.99510</td>\n",
       "      <td>3.26</td>\n",
       "      <td>0.44</td>\n",
       "      <td>10.1</td>\n",
       "      <td>6</td>\n",
       "    </tr>\n",
       "    <tr>\n",
       "      <th>3</th>\n",
       "      <td>white</td>\n",
       "      <td>7.2</td>\n",
       "      <td>0.230</td>\n",
       "      <td>0.32</td>\n",
       "      <td>8.5</td>\n",
       "      <td>0.058</td>\n",
       "      <td>47.0</td>\n",
       "      <td>186.0</td>\n",
       "      <td>0.99560</td>\n",
       "      <td>3.19</td>\n",
       "      <td>0.40</td>\n",
       "      <td>9.9</td>\n",
       "      <td>6</td>\n",
       "    </tr>\n",
       "    <tr>\n",
       "      <th>4</th>\n",
       "      <td>white</td>\n",
       "      <td>7.2</td>\n",
       "      <td>0.230</td>\n",
       "      <td>0.32</td>\n",
       "      <td>8.5</td>\n",
       "      <td>0.058</td>\n",
       "      <td>47.0</td>\n",
       "      <td>186.0</td>\n",
       "      <td>0.99560</td>\n",
       "      <td>3.19</td>\n",
       "      <td>0.40</td>\n",
       "      <td>9.9</td>\n",
       "      <td>6</td>\n",
       "    </tr>\n",
       "    <tr>\n",
       "      <th>...</th>\n",
       "      <td>...</td>\n",
       "      <td>...</td>\n",
       "      <td>...</td>\n",
       "      <td>...</td>\n",
       "      <td>...</td>\n",
       "      <td>...</td>\n",
       "      <td>...</td>\n",
       "      <td>...</td>\n",
       "      <td>...</td>\n",
       "      <td>...</td>\n",
       "      <td>...</td>\n",
       "      <td>...</td>\n",
       "      <td>...</td>\n",
       "    </tr>\n",
       "    <tr>\n",
       "      <th>6492</th>\n",
       "      <td>red</td>\n",
       "      <td>6.2</td>\n",
       "      <td>0.600</td>\n",
       "      <td>0.08</td>\n",
       "      <td>2.0</td>\n",
       "      <td>0.090</td>\n",
       "      <td>32.0</td>\n",
       "      <td>44.0</td>\n",
       "      <td>0.99490</td>\n",
       "      <td>3.45</td>\n",
       "      <td>0.58</td>\n",
       "      <td>10.5</td>\n",
       "      <td>5</td>\n",
       "    </tr>\n",
       "    <tr>\n",
       "      <th>6493</th>\n",
       "      <td>red</td>\n",
       "      <td>5.9</td>\n",
       "      <td>0.550</td>\n",
       "      <td>0.10</td>\n",
       "      <td>2.2</td>\n",
       "      <td>0.062</td>\n",
       "      <td>39.0</td>\n",
       "      <td>51.0</td>\n",
       "      <td>0.99512</td>\n",
       "      <td>3.52</td>\n",
       "      <td>NaN</td>\n",
       "      <td>11.2</td>\n",
       "      <td>6</td>\n",
       "    </tr>\n",
       "    <tr>\n",
       "      <th>6494</th>\n",
       "      <td>red</td>\n",
       "      <td>6.3</td>\n",
       "      <td>0.510</td>\n",
       "      <td>0.13</td>\n",
       "      <td>2.3</td>\n",
       "      <td>0.076</td>\n",
       "      <td>29.0</td>\n",
       "      <td>40.0</td>\n",
       "      <td>0.99574</td>\n",
       "      <td>3.42</td>\n",
       "      <td>0.75</td>\n",
       "      <td>11.0</td>\n",
       "      <td>6</td>\n",
       "    </tr>\n",
       "    <tr>\n",
       "      <th>6495</th>\n",
       "      <td>red</td>\n",
       "      <td>5.9</td>\n",
       "      <td>0.645</td>\n",
       "      <td>0.12</td>\n",
       "      <td>2.0</td>\n",
       "      <td>0.075</td>\n",
       "      <td>32.0</td>\n",
       "      <td>44.0</td>\n",
       "      <td>0.99547</td>\n",
       "      <td>3.57</td>\n",
       "      <td>0.71</td>\n",
       "      <td>10.2</td>\n",
       "      <td>5</td>\n",
       "    </tr>\n",
       "    <tr>\n",
       "      <th>6496</th>\n",
       "      <td>red</td>\n",
       "      <td>6.0</td>\n",
       "      <td>0.310</td>\n",
       "      <td>0.47</td>\n",
       "      <td>3.6</td>\n",
       "      <td>0.067</td>\n",
       "      <td>18.0</td>\n",
       "      <td>42.0</td>\n",
       "      <td>0.99549</td>\n",
       "      <td>3.39</td>\n",
       "      <td>0.66</td>\n",
       "      <td>11.0</td>\n",
       "      <td>6</td>\n",
       "    </tr>\n",
       "  </tbody>\n",
       "</table>\n",
       "<p>6497 rows × 13 columns</p>\n",
       "</div>"
      ],
      "text/plain": [
       "       type  fixed acidity  volatile acidity  citric acid  residual sugar  \\\n",
       "0     white            7.0             0.270         0.36            20.7   \n",
       "1     white            6.3             0.300         0.34             1.6   \n",
       "2     white            8.1             0.280         0.40             6.9   \n",
       "3     white            7.2             0.230         0.32             8.5   \n",
       "4     white            7.2             0.230         0.32             8.5   \n",
       "...     ...            ...               ...          ...             ...   \n",
       "6492    red            6.2             0.600         0.08             2.0   \n",
       "6493    red            5.9             0.550         0.10             2.2   \n",
       "6494    red            6.3             0.510         0.13             2.3   \n",
       "6495    red            5.9             0.645         0.12             2.0   \n",
       "6496    red            6.0             0.310         0.47             3.6   \n",
       "\n",
       "      chlorides  free sulfur dioxide  total sulfur dioxide  density    pH  \\\n",
       "0         0.045                 45.0                 170.0  1.00100  3.00   \n",
       "1         0.049                 14.0                 132.0  0.99400  3.30   \n",
       "2         0.050                 30.0                  97.0  0.99510  3.26   \n",
       "3         0.058                 47.0                 186.0  0.99560  3.19   \n",
       "4         0.058                 47.0                 186.0  0.99560  3.19   \n",
       "...         ...                  ...                   ...      ...   ...   \n",
       "6492      0.090                 32.0                  44.0  0.99490  3.45   \n",
       "6493      0.062                 39.0                  51.0  0.99512  3.52   \n",
       "6494      0.076                 29.0                  40.0  0.99574  3.42   \n",
       "6495      0.075                 32.0                  44.0  0.99547  3.57   \n",
       "6496      0.067                 18.0                  42.0  0.99549  3.39   \n",
       "\n",
       "      sulphates  alcohol  quality  \n",
       "0          0.45      8.8        6  \n",
       "1          0.49      9.5        6  \n",
       "2          0.44     10.1        6  \n",
       "3          0.40      9.9        6  \n",
       "4          0.40      9.9        6  \n",
       "...         ...      ...      ...  \n",
       "6492       0.58     10.5        5  \n",
       "6493        NaN     11.2        6  \n",
       "6494       0.75     11.0        6  \n",
       "6495       0.71     10.2        5  \n",
       "6496       0.66     11.0        6  \n",
       "\n",
       "[6497 rows x 13 columns]"
      ]
     },
     "execution_count": 2,
     "metadata": {},
     "output_type": "execute_result"
    }
   ],
   "source": [
    "data = pd.read_csv('winequalityN.csv')\n",
    "\n",
    "print(f'De dataset heeft {data.shape[0]} rijen, en {data.shape[1]} kolommen')\n",
    "print('\\nDit zijn de features/target')\n",
    "print(data.dtypes)\n",
    "\n",
    "print('\\nHier een kleine sample van de dataset')\n",
    "data"
   ]
  },
  {
   "cell_type": "markdown",
   "metadata": {},
   "source": [
    "De kolommen worden als volgt geïnterpreteerd:\n",
    "- type: Het type wijn, wit en rood.\n",
    "- fixed acidity: Dit is de vaste zuurgraad van wijn, hoe lager de pH, de hoger de zuurgraad.\n",
    "- volatile acidity: Dit is vluchtige zuurgraad, dit komt minder voor in wijn.\n",
    "- citric acid: De hoeveelheid citroenzuur in wijn.\n",
    "- residual sugar: Het hoeveelheid suiker in wijn.\n",
    "- chlorides: De hoeveelheid chloor in wijn.\n",
    "- free sulfur dioxide: Het zwevende zwaveldioxide in de wijn.\n",
    "- total sulfur dioxide: Het totale aantal zwaveldioxide in de wijn.\n",
    "- density: De dichtheid in de wijn.\n",
    "- pH: De pH waarde in wijn, dit wordt gebruikt om de wijn sterker of minder sterk te maken.\n",
    "- sulfates: De hoeveelheid sulfaat in wijn.\n",
    "- alcohol: De alcohol graag de wijn.\n",
    "- quality: De qualiteid van de wijn. Dit wordt meestal gemeten door zintuigelijke kenmerken."
   ]
  },
  {
   "cell_type": "markdown",
   "metadata": {},
   "source": [
    "# 4. Data visualiseren"
   ]
  },
  {
   "cell_type": "code",
   "execution_count": 3,
   "metadata": {},
   "outputs": [
    {
     "data": {
      "text/plain": [
       "type                      white\n",
       "fixed acidity              15.9\n",
       "volatile acidity           1.58\n",
       "citric acid                1.66\n",
       "residual sugar             65.8\n",
       "chlorides                 0.611\n",
       "free sulfur dioxide       289.0\n",
       "total sulfur dioxide      440.0\n",
       "density                 1.03898\n",
       "pH                         4.01\n",
       "sulphates                   2.0\n",
       "alcohol                    14.9\n",
       "quality                       9\n",
       "dtype: object"
      ]
     },
     "execution_count": 3,
     "metadata": {},
     "output_type": "execute_result"
    }
   ],
   "source": [
    "data.max()"
   ]
  },
  {
   "cell_type": "code",
   "execution_count": 4,
   "metadata": {},
   "outputs": [
    {
     "data": {
      "image/png": "[encoded data removed]",
      "text/plain": [
       "<Figure size 1080x720 with 12 Axes>"
      ]
     },
     "metadata": {
      "needs_background": "light"
     },
     "output_type": "display_data"
    }
   ],
   "source": [
    " data.hist(bins = 20, figsize = (15,10));"
   ]
  },
  {
   "cell_type": "markdown",
   "metadata": {},
   "source": [
    "Het belangrijkste wat je hier kan zien is dat de pH mogelijk een normaal verdeling heeft, met mogelijk een paar outliers. Verder staat er bij het totale aantal sulfur dioxide een totale aantal van 400+. Dit is warscheinlijk een uitschieter en zal mogelijk vervangen moeten worden. Wat ook opvalt is dat er bij de kwaliteit niks hoger is dan 8 of lager dan 3. Dit betekend dat het warscheinlijk erg dicht bij elkaar licht, wat slecht is voor modellen trainen.\n",
    "\n",
    "Wat ook opvalt is dat hoewel er een redelijke normaal verdeling is bij het pH waarde. Het nog steeds aan de lage kant licht. Aangezien ik nog nooit wijn heb gedronken is dit best schokkend. Aangezien vanaf aan pH waarde van onder de 5.5 er al tandglazuur kan worden aangepast. Wat natuurlijk slecht voor je is."
   ]
  },
  {
   "cell_type": "markdown",
   "metadata": {},
   "source": [
    "# 5. Data voorbereiden & opschonen"
   ]
  },
  {
   "cell_type": "markdown",
   "metadata": {},
   "source": [
    "## waardes verranderen\n",
    "\n",
    "Om te controleren of elke kolom gevuld is kan het onderstaande gebruikt worden."
   ]
  },
  {
   "cell_type": "code",
   "execution_count": 5,
   "metadata": {},
   "outputs": [
    {
     "name": "stdout",
     "output_type": "stream",
     "text": [
      "<class 'pandas.core.frame.DataFrame'>\n",
      "RangeIndex: 6497 entries, 0 to 6496\n",
      "Data columns (total 13 columns):\n",
      " #   Column                Non-Null Count  Dtype  \n",
      "---  ------                --------------  -----  \n",
      " 0   type                  6497 non-null   object \n",
      " 1   fixed acidity         6487 non-null   float64\n",
      " 2   volatile acidity      6489 non-null   float64\n",
      " 3   citric acid           6494 non-null   float64\n",
      " 4   residual sugar        6495 non-null   float64\n",
      " 5   chlorides             6495 non-null   float64\n",
      " 6   free sulfur dioxide   6497 non-null   float64\n",
      " 7   total sulfur dioxide  6497 non-null   float64\n",
      " 8   density               6497 non-null   float64\n",
      " 9   pH                    6488 non-null   float64\n",
      " 10  sulphates             6493 non-null   float64\n",
      " 11  alcohol               6497 non-null   float64\n",
      " 12  quality               6497 non-null   int64  \n",
      "dtypes: float64(11), int64(1), object(1)\n",
      "memory usage: 660.0+ KB\n"
     ]
    }
   ],
   "source": [
    "data.info()"
   ]
  },
  {
   "cell_type": "markdown",
   "metadata": {},
   "source": [
    "Zoals je kan zien zijn er niet echt rare waardes, naast de enige hoge totale sulfur dioxide."
   ]
  },
  {
   "cell_type": "code",
   "execution_count": 6,
   "metadata": {},
   "outputs": [],
   "source": [
    "data['total sulfur dioxide'] = data['total sulfur dioxide'].replace(440, data['total sulfur dioxide'].mean())\n",
    "data = data.fillna(data.mean())"
   ]
  },
  {
   "cell_type": "markdown",
   "metadata": {},
   "source": [
    "Ik heb hier de hoogte waarde van sulfur dioxide verranderd in het gemiddelde, dit kan niet altijd slim zijn aangezien het gemiddelde misschien net naar een andere wijn verwijst. Maar aangezien ik graag alle data wil houden verwacht ik ook niet dat het een grote invloed zal hebben op de mass data."
   ]
  },
  {
   "cell_type": "markdown",
   "metadata": {},
   "source": [
    "## Verrander 'type' naar 0 of 1"
   ]
  },
  {
   "cell_type": "code",
   "execution_count": 7,
   "metadata": {},
   "outputs": [
    {
     "data": {
      "text/plain": [
       "0       0\n",
       "1       0\n",
       "2       0\n",
       "3       0\n",
       "4       0\n",
       "       ..\n",
       "6492    1\n",
       "6493    1\n",
       "6494    1\n",
       "6495    1\n",
       "6496    1\n",
       "Name: type, Length: 6497, dtype: int64"
      ]
     },
     "execution_count": 7,
     "metadata": {},
     "output_type": "execute_result"
    }
   ],
   "source": [
    "data['type'] = data['type'].map({'red': 1, 'white': 0})\n",
    "\n",
    "data['type']"
   ]
  },
  {
   "cell_type": "markdown",
   "metadata": {},
   "source": [
    "## Normaliseren"
   ]
  },
  {
   "cell_type": "markdown",
   "metadata": {},
   "source": [
    "Bij standaardisering/normalisering wordt de data zo omgevord dat het gemiddelde gelijk is aan 0, en de standaardafwijking gelijk aan1. Dit wordt gedaan door de data om te vormen naar een z-score, zoals eerder behandeld. Dit is ook een soort van normalisatie van de data. Het heeft als voordeel dat er minder 'biases' in de data zitten. Dit passen we allen toe op numerieke data."
   ]
  },
  {
   "cell_type": "code",
   "execution_count": 10,
   "metadata": {},
   "outputs": [],
   "source": [
    "\n",
    "data_z = data.copy()\n",
    "scaler = StandardScaler().fit(data_z[['alcohol', 'sulphates', 'pH','density', 'total sulfur dioxide', 'free sulfur dioxide', 'chlorides', 'residual sugar', 'citric acid', 'volatile acidity', 'fixed acidity']])\n",
    "data_z[['alcohol', 'sulphates', 'pH','density', 'total sulfur dioxide', 'free sulfur dioxide', 'chlorides', 'residual sugar', 'citric acid', 'volatile acidity', 'fixed acidity']] = scaler.transform(data_z[['alcohol', 'sulphates', 'pH','density', 'total sulfur dioxide', 'free sulfur dioxide', 'chlorides', 'residual sugar', 'citric acid', 'volatile acidity', 'fixed acidity']])"
   ]
  },
  {
   "cell_type": "markdown",
   "metadata": {},
   "source": [
    "## Data opsplitsen"
   ]
  },
  {
   "cell_type": "code",
   "execution_count": null,
   "metadata": {},
   "outputs": [],
   "source": [
    "x_data = data_z.drop('type', axis=1)\n",
    "y_data = data_z['type']\n",
    "\n",
    "x_train, x_test, y_train, y_test = train_test_split(x_data, y_data, test_size = 0.2, random_state = 42)"
   ]
  },
  {
   "cell_type": "markdown",
   "metadata": {},
   "source": [
    "# 6. Modellen selecteren & instellen"
   ]
  },
  {
   "cell_type": "markdown",
   "metadata": {},
   "source": [
    "Voor deze opdracht zullen 2 moddelen gebruikt worden:\n",
    "\n",
    "- Decision tree\n",
    "- SVM (Support Vector Machine)\n",
    "\n",
    "Uit onderzoek blijkt dat Support vector machine beter zou moeten werken dan Decision tree, daarom is mijn hypothese ook dat Support Vector Machine het beste zou moeten werken ten opzichte van de 2 classifiers."
   ]
  },
  {
   "cell_type": "markdown",
   "metadata": {},
   "source": [
    "# 7. Modellen trainen en testen"
   ]
  },
  {
   "cell_type": "markdown",
   "metadata": {},
   "source": [
    "## Decision tree"
   ]
  },
  {
   "cell_type": "markdown",
   "metadata": {},
   "source": [
    "### Train en test het model"
   ]
  },
  {
   "cell_type": "code",
   "execution_count": null,
   "metadata": {},
   "outputs": [],
   "source": [
    "from sklearn.tree import DecisionTreeClassifier\n",
    "\n",
    "dt_model = DecisionTreeClassifier()\n",
    "dt_model.fit(x_train, y_train)\n",
    "\n",
    "dt_pred = dt_model.predict(x_test)"
   ]
  },
  {
   "cell_type": "markdown",
   "metadata": {},
   "source": [
    "### De accuracu, precision, recall en f1"
   ]
  },
  {
   "cell_type": "code",
   "execution_count": null,
   "metadata": {},
   "outputs": [
    {
     "name": "stdout",
     "output_type": "stream",
     "text": [
      "accuracy:  0.9853846153846154\n",
      "Precision:  0.9853846153846154\n",
      "Recall:  0.9853846153846154\n",
      "f1:  0.9853846153846154\n"
     ]
    }
   ],
   "source": [
    "print('accuracy: ',metrics.accuracy_score(y_test, dt_pred))\n",
    "print('Precision: ',metrics.precision_score(y_test, dt_pred, average='micro'))\n",
    "print('Recall: ',metrics.recall_score(y_test, dt_pred, average='micro'))\n",
    "print('f1: ',metrics.f1_score(y_test, dt_pred, average='micro'))"
   ]
  },
  {
   "cell_type": "markdown",
   "metadata": {},
   "source": [
    "### Cunfusion matrix"
   ]
  },
  {
   "cell_type": "code",
   "execution_count": null,
   "metadata": {},
   "outputs": [
    {
     "name": "stdout",
     "output_type": "stream",
     "text": [
      "[[978   8]\n",
      " [ 11 303]]\n",
      "\n",
      "Dit wil zeggen dat van de 1300, Logistic regression er 1277 goed heeft\n",
      "Dit is 98.23076923076923 %\n"
     ]
    }
   ],
   "source": [
    "matrix = metrics.confusion_matrix(y_test, dt_pred)\n",
    "print(matrix)\n",
    "\n",
    "print('\\nDit wil zeggen dat van de 1300, Logistic regression er 1277 goed heeft')\n",
    "print('Dit is', 1277/1300*100, '%')"
   ]
  },
  {
   "cell_type": "markdown",
   "metadata": {},
   "source": [
    "## SVM (Support Vector Machine)"
   ]
  },
  {
   "cell_type": "markdown",
   "metadata": {},
   "source": [
    "### Train en test het model"
   ]
  },
  {
   "cell_type": "code",
   "execution_count": null,
   "metadata": {},
   "outputs": [],
   "source": [
    "from sklearn.svm import SVC\n",
    "\n",
    "svm_model = SVC(kernel='linear')\n",
    "svm_model.fit(x_train, y_train)\n",
    "\n",
    "svm_pred = svm_model.predict(x_test)"
   ]
  },
  {
   "cell_type": "markdown",
   "metadata": {},
   "source": [
    "### De accuracu, precision, recall en f1"
   ]
  },
  {
   "cell_type": "code",
   "execution_count": null,
   "metadata": {},
   "outputs": [
    {
     "name": "stdout",
     "output_type": "stream",
     "text": [
      "accuracy:  0.9946153846153846\n",
      "Precision:  0.9946153846153846\n",
      "Recall:  0.9946153846153846\n",
      "f1:  0.9946153846153846\n"
     ]
    }
   ],
   "source": [
    "print('accuracy: ',metrics.accuracy_score(y_test, svm_pred))\n",
    "print('Precision: ',metrics.precision_score(y_test, svm_pred, average='micro'))\n",
    "print('Recall: ',metrics.recall_score(y_test, svm_pred, average='micro'))\n",
    "print('f1: ',metrics.f1_score(y_test, svm_pred, average='micro'))"
   ]
  },
  {
   "cell_type": "markdown",
   "metadata": {},
   "source": [
    "### Confusion matrix"
   ]
  },
  {
   "cell_type": "code",
   "execution_count": null,
   "metadata": {},
   "outputs": [
    {
     "name": "stdout",
     "output_type": "stream",
     "text": [
      "[[983   3]\n",
      " [  4 310]]\n",
      "\n",
      "Dit wil zeggen dat van de 1300, Logistic regression er 1293 goed heeft\n",
      "Dit is 99.46153846153845 %\n"
     ]
    }
   ],
   "source": [
    "matrix = metrics.confusion_matrix(y_test, svm_pred)\n",
    "print(matrix)\n",
    "\n",
    "print('\\nDit wil zeggen dat van de 1300, Logistic regression er 1293 goed heeft')\n",
    "print('Dit is', 1293/1300*100, '%')"
   ]
  },
  {
   "cell_type": "markdown",
   "metadata": {},
   "source": [
    "Dit is de hoogste percentage die ik tot nu toe heb gezien, ik kan niet zeggen dat ik dit niet had verwacht aangezien support vector machine als 1 van de beste modellen wordt gezien voor het leren van dit soort data."
   ]
  },
  {
   "cell_type": "markdown",
   "metadata": {},
   "source": [
    "### ROC-curve"
   ]
  },
  {
   "cell_type": "markdown",
   "metadata": {},
   "source": [
    "# 8. Conclusie"
   ]
  },
  {
   "cell_type": "markdown",
   "metadata": {},
   "source": [
    "## Correlatie matrix\n",
    "\n",
    "Bij een correlatiematrix wordt de Pearson's T gebruikt. Dit correlatiecoëfficient zegt iets over twee features; als er een hoge positieve correlatie ism dat dan als het gemiddelde van ene omhoog gaat, dat de andere dan ook omhoog gaat, of juist allebei omlaag. Bij een negatieve correlatie gaat het juist andersom, dit houdt in dat als de ene omhoog gaat, de andere juist omlaag gaat. Bijvoorbeeld bij het wachten op de trein en algeme ervaring; Hoe langer iemand wacht (omhoog), hoe slechter de algemene ervaring (omlaag)."
   ]
  },
  {
   "cell_type": "code",
   "execution_count": null,
   "metadata": {},
   "outputs": [
    {
     "data": {
      "text/plain": [
       "<AxesSubplot:>"
      ]
     },
     "execution_count": 17,
     "metadata": {},
     "output_type": "execute_result"
    },
    {
     "data": {
      "image/png": "[encoded data removed]",
      "text/plain": [
       "<Figure size 720x576 with 2 Axes>"
      ]
     },
     "metadata": {
      "needs_background": "light"
     },
     "output_type": "display_data"
    }
   ],
   "source": [
    "plt.figure(figsize = (10, 8))\n",
    "sns.heatmap(data_z.corr(method='pearson'), annot=True, cmap='viridis', vmin=-1, vmax=1)"
   ]
  },
  {
   "cell_type": "markdown",
   "metadata": {},
   "source": [
    "Zo een correlatie matrix is erg fijn om conclusies uit te trekken ter herkenning dat de dataset klopt. Een goed voorbeeld hiervan is het verband tussen het vrije zwavel in de fles ten opzichte van het totale zwavel. Daarnaast is het zoals eerder vernomen negatieve verband tussen de pH en de citroenzuur ook aanwezig. Omdat wanneer er meer citroenzuur in een fles wijn aanwezig is, de wijn zuurder wordt, wat weer als gevolg heeft dat de pH zal stagneren. Het is erg mooi om deze correlaties tussen de verschillende features te zien aangezien ze allemaal goed te redeneren zijn waarom deze correlatie bestaat."
   ]
  },
  {
   "cell_type": "markdown",
   "metadata": {},
   "source": [
    "## Conclusie Decision tree vs SVM (Support Vector Machine)"
   ]
  },
  {
   "cell_type": "markdown",
   "metadata": {},
   "source": [
    "Mijn conclusie is dat er bij grote datasets beide decision tree als support vector machine erg goed te gebruiken zijn. Maar de support vector machine toch wel beter is zoals verwacht. Het is nog interresant om te zien hoe een Support Vector Machine -model presteert in kleinere datasets."
   ]
  }
 ],
 "metadata": {
  "interpreter": {
   "hash": "4905652b14e4b7eb92899b78ac499a22c488804455b27940a322fd82aaf71031"
  },
  "kernelspec": {
   "display_name": "Python 3.8.8 64-bit ('base': conda)",
   "name": "python3"
  },
  "language_info": {
   "codemirror_mode": {
    "name": "ipython",
    "version": 3
   },
   "file_extension": ".py",
   "mimetype": "text/x-python",
   "name": "python",
   "nbconvert_exporter": "python",
   "pygments_lexer": "ipython3",
   "version": "3.8.8"
  },
  "orig_nbformat": 4
 },
 "nbformat": 4,
 "nbformat_minor": 2
}
