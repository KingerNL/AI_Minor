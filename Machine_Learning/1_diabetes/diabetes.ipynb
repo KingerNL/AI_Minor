{
 "cells": [
  {
   "cell_type": "markdown",
   "id": "42654ed9",
   "metadata": {},
   "source": [
    "# Machine Learning - diabetes\n",
    "\n",
    "### van: Mart Veldkamp"
   ]
  },
  {
   "cell_type": "markdown",
   "id": "a8909b94",
   "metadata": {},
   "source": [
    "# Inhoudsopgave\n",
    "\n",
    "1. [Inleiding](#Inleiding)\n",
    "2. [Het probleem](#probleem)\n",
    "3. [Library's laden + data ophalen](#ophalen)\n",
    "4. [Data visualiseren](#visualiseren)\n",
    "    - [Distributies](#Distributies)\n",
    "    - [Features tov. target vector](#vector)\n",
    "    - [Normaalverdeling](#Normaalverdeling)\n",
    "5. [Data voorbereiden & opschonen](#opschonen)\n",
    "    - [Null waardes weghalen](#weghalen)\n",
    "    - [Normaliseren](#Normaliseren)\n",
    "    - [Data opsplitsen](#opsplitsen)\n",
    "6. [Modellen selecteren](#selecteren)\n",
    "    - [Logistic regression](#regression)\n",
    "    - [kNN](#kNN)\n",
    "7. [Modellen trainen en testen](#testen1)\n",
    "    - [Modellen trainen](#trainen)\n",
    "    - [Modellen testen](#testen2)\n",
    "    - [coefficienten en intercept](#intercept)\n",
    "    - [de accuracy, precision, recall en f1](#f1)\n",
    "    - [Confusion matrix](#matrix1)\n",
    "    - [ROC/AUC -curve](#curve)\n",
    "8. [Conclusie](#Conclusie)\n",
    "    - [Correlatie matrix](#matrix2)\n",
    "- [Bronnen](#Bronnen)\n"
   ]
  },
  {
   "cell_type": "markdown",
   "id": "8e401583",
   "metadata": {},
   "source": [
    "# 1. Inleiding <a class='anchor' id='Inleiding'></a>\n",
    "Deze opdracht is onderdeel van het overkoepelende vak Machine Learning, dit is één van de meerdere datasets die ik gebruik in dit vak, per dataset zijn ten minste 2 verschillende classifiers gebruikt. Deze 6 opdrachten bestaan uit classificatie- en regressieproblemen. En zijn allemaal op een andere manier opgelost.\n",
    "\n",
    "Alle code in deze opdrachten zijn van mijzelf, gebasseerd op code uit de lessen, of waar ik zelf vast liep gebaseerd op code snippets van het internet. Mocht het toch voorkomen dat er code 1 op 1 is overgenomen, dan staat dit vermeld in de bronnen"
   ]
  },
  {
   "cell_type": "markdown",
   "id": "0c8dff8d",
   "metadata": {},
   "source": [
    "# 2. Het probleem <a class='anchor' id='probleem'></a>\n",
    "\n",
    "Het probleem dat ik in deze notebook ga behandelen is het bepalen of een patiënt wel of niet diabetes heeft. Dit wordt gedaan aan de hand van een paar features, onder andere het glucose gehalte in het bloed. Om te bepalen of iemand wel of geen diabetes heeft zal er gekeken worden naar de dataset om zo een conclusie te halen uit voorgaande data. Dit probleem is een classificatie probleem omdat er maar 2 mogelijke uitkomsten zijn; wel of geen diabetes. Dus een binaire classificatie."
   ]
  },
  {
   "cell_type": "markdown",
   "id": "df65f99e",
   "metadata": {},
   "source": [
    "# 3. Library's laden + data ophalen <a class='anchor' id='ophalen'></a>\n",
    "\n",
    "Deze dataset is afkomstig van DLO"
   ]
  },
  {
   "cell_type": "code",
   "execution_count": 2,
   "id": "efa540ab",
   "metadata": {},
   "outputs": [],
   "source": [
    "import numpy as np\n",
    "import pandas as pd\n",
    "import matplotlib.pyplot as plt\n",
    "import scipy\n",
    "import seaborn as sns\n",
    "import statsmodels.api as sm\n",
    "import math \n",
    "import sklearn\n",
    "\n",
    "from pandas.plotting import scatter_matrix\n",
    "from scipy import stats\n",
    "from scipy.stats import kurtosis, skew\n",
    "from sklearn import metrics\n",
    "from sklearn.preprocessing import StandardScaler\n",
    "from sklearn.model_selection import GridSearchCV\n",
    "from sklearn.model_selection import train_test_split\n",
    "from sklearn.linear_model import LogisticRegression\n",
    "from sklearn.neighbors import KNeighborsClassifier\n",
    "from sklearn.metrics import mean_squared_error, r2_score, mean_absolute_error, f1_score, roc_curve, roc_auc_score\n",
    "from random import sample\n",
    "%matplotlib inline "
   ]
  },
  {
   "cell_type": "code",
   "execution_count": 3,
   "id": "fb1e671c",
   "metadata": {},
   "outputs": [
    {
     "name": "stdout",
     "output_type": "stream",
     "text": [
      "De dataset heeft 768 rijen, en 9 kolommen\n",
      "\n",
      "Dit zijn de features/target\n",
      "Pregnancies                   int64\n",
      "Glucose                       int64\n",
      "BloodPressure                 int64\n",
      "SkinThickness                 int64\n",
      "Insulin                       int64\n",
      "BMI                         float64\n",
      "DiabetesPedigreeFunction    float64\n",
      "Age                           int64\n",
      "Outcome                       int64\n",
      "dtype: object\n",
      "\n",
      "Hier een kleine sample van de dataset\n"
     ]
    },
    {
     "data": {
      "text/html": [
       "<div>\n",
       "<style scoped>\n",
       "    .dataframe tbody tr th:only-of-type {\n",
       "        vertical-align: middle;\n",
       "    }\n",
       "\n",
       "    .dataframe tbody tr th {\n",
       "        vertical-align: top;\n",
       "    }\n",
       "\n",
       "    .dataframe thead th {\n",
       "        text-align: right;\n",
       "    }\n",
       "</style>\n",
       "<table border=\"1\" class=\"dataframe\">\n",
       "  <thead>\n",
       "    <tr style=\"text-align: right;\">\n",
       "      <th></th>\n",
       "      <th>Pregnancies</th>\n",
       "      <th>Glucose</th>\n",
       "      <th>BloodPressure</th>\n",
       "      <th>SkinThickness</th>\n",
       "      <th>Insulin</th>\n",
       "      <th>BMI</th>\n",
       "      <th>DiabetesPedigreeFunction</th>\n",
       "      <th>Age</th>\n",
       "      <th>Outcome</th>\n",
       "    </tr>\n",
       "  </thead>\n",
       "  <tbody>\n",
       "    <tr>\n",
       "      <th>0</th>\n",
       "      <td>6</td>\n",
       "      <td>148</td>\n",
       "      <td>72</td>\n",
       "      <td>35</td>\n",
       "      <td>0</td>\n",
       "      <td>33.6</td>\n",
       "      <td>0.627</td>\n",
       "      <td>50</td>\n",
       "      <td>1</td>\n",
       "    </tr>\n",
       "    <tr>\n",
       "      <th>1</th>\n",
       "      <td>1</td>\n",
       "      <td>85</td>\n",
       "      <td>66</td>\n",
       "      <td>29</td>\n",
       "      <td>0</td>\n",
       "      <td>26.6</td>\n",
       "      <td>0.351</td>\n",
       "      <td>31</td>\n",
       "      <td>0</td>\n",
       "    </tr>\n",
       "    <tr>\n",
       "      <th>2</th>\n",
       "      <td>8</td>\n",
       "      <td>183</td>\n",
       "      <td>64</td>\n",
       "      <td>0</td>\n",
       "      <td>0</td>\n",
       "      <td>23.3</td>\n",
       "      <td>0.672</td>\n",
       "      <td>32</td>\n",
       "      <td>1</td>\n",
       "    </tr>\n",
       "    <tr>\n",
       "      <th>3</th>\n",
       "      <td>1</td>\n",
       "      <td>89</td>\n",
       "      <td>66</td>\n",
       "      <td>23</td>\n",
       "      <td>94</td>\n",
       "      <td>28.1</td>\n",
       "      <td>0.167</td>\n",
       "      <td>21</td>\n",
       "      <td>0</td>\n",
       "    </tr>\n",
       "    <tr>\n",
       "      <th>4</th>\n",
       "      <td>0</td>\n",
       "      <td>137</td>\n",
       "      <td>40</td>\n",
       "      <td>35</td>\n",
       "      <td>168</td>\n",
       "      <td>43.1</td>\n",
       "      <td>2.288</td>\n",
       "      <td>33</td>\n",
       "      <td>1</td>\n",
       "    </tr>\n",
       "  </tbody>\n",
       "</table>\n",
       "</div>"
      ],
      "text/plain": [
       "   Pregnancies  Glucose  BloodPressure  SkinThickness  Insulin   BMI  \\\n",
       "0            6      148             72             35        0  33.6   \n",
       "1            1       85             66             29        0  26.6   \n",
       "2            8      183             64              0        0  23.3   \n",
       "3            1       89             66             23       94  28.1   \n",
       "4            0      137             40             35      168  43.1   \n",
       "\n",
       "   DiabetesPedigreeFunction  Age  Outcome  \n",
       "0                     0.627   50        1  \n",
       "1                     0.351   31        0  \n",
       "2                     0.672   32        1  \n",
       "3                     0.167   21        0  \n",
       "4                     2.288   33        1  "
      ]
     },
     "execution_count": 3,
     "metadata": {},
     "output_type": "execute_result"
    }
   ],
   "source": [
    "diabetes = pd.read_csv('diabetes.csv')\n",
    "\n",
    "print(f'De dataset heeft {diabetes.shape[0]} rijen, en {diabetes.shape[1]} kolommen')\n",
    "print('\\nDit zijn de features/target')\n",
    "print(diabetes.dtypes)\n",
    "\n",
    "print('\\nHier een kleine sample van de dataset')\n",
    "diabetes.head()"
   ]
  },
  {
   "cell_type": "markdown",
   "id": "eb5d146a",
   "metadata": {},
   "source": [
    "De kolommen worden als volgt geïnterpreteerd:\n",
    "\n",
    "- Pregnancies: De hoeveelheid zwangerschappen desbetreffende persoon heeft gehad.\n",
    "- Glucose: Het glucose gehalte in het bloed.\n",
    "- BloodPressure: De bloeddruk van de patient.\n",
    "- SkinThickness: De dikte van hun huid.\n",
    "- Insulin: Het insuline gehalte in het bloed.\n",
    "- BMI: De patient hun BMI waarde.\n",
    "- DiabetesPedigreeFunction: Dit is een score wat gegeven wordt, en aangeeft wat de kans van diabetes is ten opzichte van family geschiedenis.\n",
    "- Age: Hoe oud de patient is.\n",
    "- Outcome: Dit is de target, en 0 staat voor geen diabetes, en 1 staat voor wel diabetes."
   ]
  },
  {
   "cell_type": "markdown",
   "id": "ba3a9033",
   "metadata": {},
   "source": [
    "# 4. Data visualiseren <a class='anchor' id='visualiseren'></a>"
   ]
  },
  {
   "cell_type": "code",
   "execution_count": 4,
   "id": "997c7381",
   "metadata": {},
   "outputs": [
    {
     "data": {
      "image/png": "[encoded data removed]",
      "text/plain": [
       "<Figure size 1440x720 with 9 Axes>"
      ]
     },
     "metadata": {
      "needs_background": "light"
     },
     "output_type": "display_data"
    }
   ],
   "source": [
    " diabetes.hist(bins = 20, figsize = (20,10));"
   ]
  },
  {
   "cell_type": "markdown",
   "id": "f872e474",
   "metadata": {},
   "source": [
    "Het belangrijkste wat je hier kan zien is dat we in onze dataset vooral te maken hebben met jongen mensen, dit betekend van mensen tussen de 20 en 30 jaar. Daarnaast zie je dat sommigen waardes aangepast moeten worden, zoals de BloodPressure is bij sommigen mensen 0... Dit is natuurlijk niet mogelijk en zal aangepast moeten worden. Verder zie je dat de BMI en BloodPressure lijken op een normaalverdeling, met mogelijk een paar outliers.\n",
    "\n",
    "Verder is het ook logisch dat de meeste Pregnancies tussen de 0 en 2 vallen, aangezien we te maken hebben met een jognen mensen. Is de kans dat ze zwanger zijn lager dan bij een oudere groep mensen. Ten slot zie je dat bij de Outcome er een stuk meer mensen geen diabetes hebben ten opzichte van die wel diabetes hebben, dit is in ons geval jammer aangezien dit de label is waar we op gaan trainen."
   ]
  },
  {
   "cell_type": "markdown",
   "id": "2d1c4b68",
   "metadata": {},
   "source": [
    "# 5. Data voorbereiden & opschonen <a class='anchor' id='opschonen'></a>"
   ]
  },
  {
   "cell_type": "markdown",
   "id": "3b97af12",
   "metadata": {},
   "source": [
    "## Null waardes weghalen <a class='anchor' id='weghalen'></a>\n",
    "\n",
    "Om te controleren of elke kolom gevuld is kan het onderstaande gebruikt worden."
   ]
  },
  {
   "cell_type": "code",
   "execution_count": 5,
   "id": "2a71cc65",
   "metadata": {},
   "outputs": [
    {
     "name": "stdout",
     "output_type": "stream",
     "text": [
      "<class 'pandas.core.frame.DataFrame'>\n",
      "RangeIndex: 768 entries, 0 to 767\n",
      "Data columns (total 9 columns):\n",
      " #   Column                    Non-Null Count  Dtype  \n",
      "---  ------                    --------------  -----  \n",
      " 0   Pregnancies               768 non-null    int64  \n",
      " 1   Glucose                   768 non-null    int64  \n",
      " 2   BloodPressure             768 non-null    int64  \n",
      " 3   SkinThickness             768 non-null    int64  \n",
      " 4   Insulin                   768 non-null    int64  \n",
      " 5   BMI                       768 non-null    float64\n",
      " 6   DiabetesPedigreeFunction  768 non-null    float64\n",
      " 7   Age                       768 non-null    int64  \n",
      " 8   Outcome                   768 non-null    int64  \n",
      "dtypes: float64(2), int64(7)\n",
      "memory usage: 54.1 KB\n"
     ]
    }
   ],
   "source": [
    "diabetes.info()"
   ]
  },
  {
   "cell_type": "markdown",
   "id": "5afeb058",
   "metadata": {},
   "source": [
    "Zoals je kan zien zijn er bij een aantal Columns nog een paar 0-waardes. Omdat de dataset niet groot is zal ik deze missende waardes vervangen voor het gemiddelde. Zodat we de data wel kunnen gebruiken om te trainen en testen."
   ]
  },
  {
   "cell_type": "code",
   "execution_count": 6,
   "id": "21b66bca",
   "metadata": {},
   "outputs": [],
   "source": [
    "diabetes['Glucose'] = diabetes['Glucose'].replace(0, diabetes['Glucose'].mean())\n",
    "diabetes['BloodPressure'] = diabetes['BloodPressure'].replace(0, diabetes['BloodPressure'].mean())\n",
    "diabetes['SkinThickness'] = diabetes['SkinThickness'].replace(0, diabetes['SkinThickness'].mean())\n",
    "diabetes['BMI'] = diabetes['BMI'].replace(0, diabetes['BMI'].mean())\n",
    "diabetes['Age'] = diabetes['Age'].replace(0, diabetes['Age'].mean())"
   ]
  },
  {
   "cell_type": "markdown",
   "id": "5e7d06fc",
   "metadata": {},
   "source": [
    "Ik vervang hier de plekken waar de waarde 0 onrealistisch is ten opzichte van het gemiddelde. Let op: Haal geen 0 waardes die kloppen weg, zoals Pregnancies of Insulin."
   ]
  },
  {
   "cell_type": "markdown",
   "id": "cf1b270a",
   "metadata": {},
   "source": [
    "## Normaliseren <a class='anchor' id='Normaliseren'></a>"
   ]
  },
  {
   "cell_type": "markdown",
   "id": "6cff270f",
   "metadata": {},
   "source": [
    "Bij standaardisering/normalisering wordt de data zo omgevord dat het gemiddelde gelijk is aan 0, en de standaardafwijking gelijk aan1. Dit wordt gedaan door de data om te vormen naar een z-score, zoals eerder behandeld. Dit is ook een soort van normalisatie van de data. Het heeft als voordeel dat er minder 'biases' in de data zitten. Dit passen we allen toe op numerieke data."
   ]
  },
  {
   "cell_type": "code",
   "execution_count": 7,
   "id": "acfd3bed",
   "metadata": {},
   "outputs": [],
   "source": [
    "diabetes_z = diabetes.copy()\n",
    "scaler = StandardScaler().fit(diabetes_z[['Age', 'BMI', 'Pregnancies', 'Glucose', 'BloodPressure', 'SkinThickness', 'Insulin', 'SkinThickness']])\n",
    "diabetes_z[['Age', 'BMI', 'Pregnancies', 'Glucose', 'BloodPressure', 'SkinThickness', 'Insulin', 'SkinThickness']] = scaler.transform(diabetes_z[['Age', 'BMI', 'Pregnancies', 'Glucose', 'BloodPressure', 'SkinThickness', 'Insulin', 'SkinThickness']])"
   ]
  },
  {
   "cell_type": "markdown",
   "id": "cd2c67d1",
   "metadata": {},
   "source": [
    "## Data opsplitsen <a class='anchor' id='opsplitsen'></a>"
   ]
  },
  {
   "cell_type": "code",
   "execution_count": 8,
   "id": "c95f7685",
   "metadata": {},
   "outputs": [],
   "source": [
    "x_diabetes = diabetes_z.drop('Outcome', axis=1)\n",
    "y_diabetes = diabetes_z['Outcome']\n",
    "\n",
    "x_train, x_test, y_train, y_test = train_test_split(x_diabetes, y_diabetes, test_size = 0.2, random_state = 42)"
   ]
  },
  {
   "cell_type": "markdown",
   "id": "ea11906b",
   "metadata": {},
   "source": [
    "# 6. Modellen selecteren & instellen <a class='anchor' id='instellen'></a>"
   ]
  },
  {
   "cell_type": "markdown",
   "id": "955442dc",
   "metadata": {},
   "source": [
    "Voor deze opdracht zullen 2 moddelen gebruikt worden:\n",
    "\n",
    "- Logistsche regressie\n",
    "- KNN\n",
    "\n",
    "Uit desk-research maak ik de volgende hypothese over de resultaten: Ik ga ervanuit dat Logistsche regressie het snelst zal zijn, maar kNN makkelijker aan te passen is door middel van de hyperparameter k te 'tunen'. Dit kan lijden tot een accurater model."
   ]
  },
  {
   "cell_type": "markdown",
   "id": "c019e6e0",
   "metadata": {},
   "source": [
    "# 7. Modellen trainen en testen <a class='anchor' id='testen1'></a>"
   ]
  },
  {
   "cell_type": "markdown",
   "id": "a84f4c1c",
   "metadata": {},
   "source": [
    "## Logistic regression <a class='anchor' id='regression'></a>"
   ]
  },
  {
   "cell_type": "markdown",
   "id": "1d6aab23",
   "metadata": {},
   "source": [
    "### Train en test het model  <a class='anchor' id='model'></a>"
   ]
  },
  {
   "cell_type": "code",
   "execution_count": 9,
   "id": "79541c3b",
   "metadata": {},
   "outputs": [],
   "source": [
    "lg_model = LogisticRegression()\n",
    "lg_model.fit(x_train, y_train)\n",
    "\n",
    "pred = lg_model.predict(x_test)"
   ]
  },
  {
   "cell_type": "markdown",
   "id": "9542cfab",
   "metadata": {},
   "source": [
    "### coefficienten en intercept <a class='anchor' id='intercept'></a>"
   ]
  },
  {
   "cell_type": "code",
   "execution_count": 10,
   "id": "abfa0b53",
   "metadata": {},
   "outputs": [
    {
     "name": "stdout",
     "output_type": "stream",
     "text": [
      "      coeff                     label\n",
      "4 -0.237382                   Insulin\n",
      "2 -0.177810             BloodPressure\n",
      "3  0.053918             SkinThickness\n",
      "0  0.221884               Pregnancies\n",
      "7  0.385455                       Age\n",
      "6  0.596936  DiabetesPedigreeFunction\n",
      "5  0.718282                       BMI\n",
      "1  1.154720                   Glucose\n",
      "\n",
      " Intercept:  -1.1296728597865229\n"
     ]
    }
   ],
   "source": [
    "coeff = pd.DataFrame({'coeff':lg_model.coef_[0], 'label':x_train.columns})\n",
    "print(coeff.sort_values(by = 'coeff'))\n",
    "\n",
    "intercept = lg_model.intercept_\n",
    "print('\\n Intercept: ', intercept[0])"
   ]
  },
  {
   "cell_type": "markdown",
   "id": "436e8542",
   "metadata": {},
   "source": [
    "### De accuracy, precision, recall en f1 <a class='anchor' id='f1'></a>"
   ]
  },
  {
   "cell_type": "markdown",
   "id": "4a215b0a",
   "metadata": {},
   "source": [
    "Hierin kan je per feuture de coefficient bekijken, hieruit kunenn we opmaken dat Glucose het belangrijkste was bij het bepalen of iemand wel of geen Diabetes heeft. Maar zowel BMI als DiabetesPedigreeFunction er ook toe doen."
   ]
  },
  {
   "cell_type": "code",
   "execution_count": 11,
   "id": "b202c0c5",
   "metadata": {},
   "outputs": [
    {
     "name": "stdout",
     "output_type": "stream",
     "text": [
      "accuracy:  0.7662337662337663\n",
      "Precision:  0.6792452830188679\n",
      "Recall:  0.6545454545454545\n",
      "f1:  0.6666666666666666\n"
     ]
    }
   ],
   "source": [
    "print('accuracy: ',metrics.accuracy_score(y_test, pred))\n",
    "print('Precision: ',metrics.precision_score(y_test, pred))\n",
    "print('Recall: ',metrics.recall_score(y_test, pred))\n",
    "print('f1: ',metrics.f1_score(y_test, pred))"
   ]
  },
  {
   "cell_type": "markdown",
   "id": "25c75901",
   "metadata": {},
   "source": [
    "De accuracy vindt ik tegenvallen (laag), aangezien het zelfs nog onder de 80% is. En je graag wel met een hoog percentage wil kunnen zeggen of iemand diabetes heeft of niet."
   ]
  },
  {
   "cell_type": "markdown",
   "id": "2de04546",
   "metadata": {},
   "source": [
    "### Confusion matrix <a class='anchor' id='matrix1'></a>"
   ]
  },
  {
   "cell_type": "code",
   "execution_count": 12,
   "id": "026fb200",
   "metadata": {},
   "outputs": [
    {
     "name": "stdout",
     "output_type": "stream",
     "text": [
      "[[82 17]\n",
      " [19 36]]\n",
      "\n",
      "Dit wil zeggen dat van de 154, Logistic regression er 118 goed heeft\n",
      "Dit is 76.62337662337663 %\n"
     ]
    }
   ],
   "source": [
    "matrix = metrics.confusion_matrix(y_test, pred)\n",
    "print(matrix)\n",
    "\n",
    "print('\\nDit wil zeggen dat van de 154, Logistic regression er 118 goed heeft')\n",
    "print('Dit is', 118/154*100, '%')\n"
   ]
  },
  {
   "cell_type": "markdown",
   "id": "efb32f6a",
   "metadata": {},
   "source": [
    "### ROC-curve <a class='anchor' id='curve'></a>"
   ]
  },
  {
   "cell_type": "code",
   "execution_count": 13,
   "id": "f35c52b0",
   "metadata": {},
   "outputs": [
    {
     "name": "stdout",
     "output_type": "stream",
     "text": [
      "AUC 0.8176308539944903\n"
     ]
    },
    {
     "data": {
      "image/png": "[encoded data removed]",
      "text/plain": [
       "<Figure size 432x288 with 1 Axes>"
      ]
     },
     "metadata": {
      "needs_background": "light"
     },
     "output_type": "display_data"
    }
   ],
   "source": [
    "probs = lg_model.predict_proba(x_test)[::,1]\n",
    "fpr, tpr, _ = roc_curve(y_test, probs)\n",
    "auc = roc_auc_score(y_test, probs)\n",
    "print('AUC', auc)\n",
    "\n",
    "plt.plot(fpr,tpr)\n",
    "plt.title('ROC-CURVE')\n",
    "plt.xlabel('False Positive rate')\n",
    "plt.ylabel('True positive rate')\n",
    "plt.show()"
   ]
  },
  {
   "cell_type": "markdown",
   "id": "e6c631d0",
   "metadata": {},
   "source": [
    "In de ROC-CURVE kan je zien dat als er een erge verticale curf aan het begin is, het een goed model is. Helaas is er rond de 0.6 een vervlakking wat betekend dat de False Positives omhoog gaan, wat betekend dat het model minder accuraat wordt. Dit is slecht."
   ]
  },
  {
   "cell_type": "markdown",
   "id": "5ff80e12",
   "metadata": {},
   "source": [
    "## KNN (k-Nearest Neighbors) <a class='anchor' id='kNN'></a>"
   ]
  },
  {
   "cell_type": "markdown",
   "id": "29b394fc",
   "metadata": {},
   "source": [
    "### Train en test het model"
   ]
  },
  {
   "cell_type": "code",
   "execution_count": 14,
   "id": "d127ae43",
   "metadata": {},
   "outputs": [],
   "source": [
    "knn_model = KNeighborsClassifier()\n",
    "knn_model.fit(x_train, y_train)\n",
    "\n",
    "\n",
    "pred_knn = knn_model.predict(x_test)"
   ]
  },
  {
   "cell_type": "markdown",
   "id": "748630a4",
   "metadata": {},
   "source": [
    "### De accuracy, precision, recall en f1"
   ]
  },
  {
   "cell_type": "code",
   "execution_count": null,
   "id": "89b09596",
   "metadata": {},
   "outputs": [
    {
     "name": "stdout",
     "output_type": "stream",
     "text": [
      "accuracy:  0.7532467532467533\n",
      "Precision:  0.6491228070175439\n",
      "Recall:  0.6727272727272727\n",
      "f1:  0.6607142857142858\n"
     ]
    }
   ],
   "source": [
    "print('accuracy: ',metrics.accuracy_score(y_test, pred_knn))\n",
    "print('Precision: ',metrics.precision_score(y_test, pred_knn))\n",
    "print('Recall: ',metrics.recall_score(y_test, pred_knn))\n",
    "print('f1: ',metrics.f1_score(y_test, pred_knn))"
   ]
  },
  {
   "cell_type": "markdown",
   "id": "0749ab15",
   "metadata": {},
   "source": [
    "### Confusion matrix"
   ]
  },
  {
   "cell_type": "code",
   "execution_count": null,
   "id": "b1c1be67",
   "metadata": {},
   "outputs": [
    {
     "name": "stdout",
     "output_type": "stream",
     "text": [
      "[[79 20]\n",
      " [18 37]]\n",
      "\n",
      "Dit wil zeggen dat van de 154, Logistic regression er 116 goed heeft\n",
      "Dit is 74.67532467532467 %\n"
     ]
    }
   ],
   "source": [
    "matrix = metrics.confusion_matrix(y_test, pred_knn)\n",
    "print(matrix)\n",
    "\n",
    "print('\\nDit wil zeggen dat van de 154, Logistic regression er 116 goed heeft')\n",
    "print('Dit is', 115/154*100, '%')\n"
   ]
  },
  {
   "cell_type": "markdown",
   "id": "37b3903c",
   "metadata": {},
   "source": [
    "### ROC-curve"
   ]
  },
  {
   "cell_type": "code",
   "execution_count": null,
   "id": "34b11a4c",
   "metadata": {},
   "outputs": [
    {
     "name": "stdout",
     "output_type": "stream",
     "text": [
      "AUC 0.8062442607897153\n"
     ]
    },
    {
     "data": {
      "image/png": "[encoded data removed]",
      "text/plain": [
       "<Figure size 432x288 with 1 Axes>"
      ]
     },
     "metadata": {
      "needs_background": "light"
     },
     "output_type": "display_data"
    }
   ],
   "source": [
    "probs = knn_model.predict_proba(x_test)[::,1]\n",
    "fpr, tpr, _ = roc_curve(y_test, probs)\n",
    "auc = roc_auc_score(y_test, probs)\n",
    "print('AUC', auc)\n",
    "\n",
    "plt.plot(fpr,tpr)\n",
    "plt.title('ROC-CURVE')\n",
    "plt.xlabel('False Positive rate')\n",
    "plt.ylabel('True positive rate')\n",
    "plt.show()"
   ]
  },
  {
   "cell_type": "markdown",
   "id": "879750fa",
   "metadata": {},
   "source": [
    "Zoals je in deze ROC-CURVE kan zien is de grafiek zoals bij Logistic regression iets te snel aan het afdalen, wat tot meer False Positives lijd. Ik zou dezelfde conclusie moeten trekken bij knn als bij logistic regression, en dat is dat het een te lage accuracy is."
   ]
  },
  {
   "cell_type": "markdown",
   "id": "f98f98fc",
   "metadata": {},
   "source": [
    "# 8. Conclusie <a class='anchor' id='Conclusie'></a>"
   ]
  },
  {
   "cell_type": "markdown",
   "id": "47e4163f",
   "metadata": {},
   "source": [
    "## Correlatie matrix <a class='anchor' id='matrix2'></a>\n",
    "\n",
    "Bij een correlatiematrix wordt de Pearson's T gebruikt. Dit correlatiecoëfficient zegt iets over twee features; als er een hoge positieve correlatie ism dat dan als het gemiddelde van ene omhoog gaat, dat de andere dan ook omhoog gaat, of juist allebei omlaag. Bij een negatieve correlatie gaat het juist andersom, dit houdt in dat als de ene omhoog gaat, de andere juist omlaag gaat. Bijvoorbeeld bij het wachten op de trein en algeme ervaring; Hoe langer iemand wacht (omhoog), hoe slechter de algemene ervaring (omlaag)."
   ]
  },
  {
   "cell_type": "code",
   "execution_count": null,
   "id": "8be1ff18",
   "metadata": {},
   "outputs": [
    {
     "data": {
      "text/plain": [
       "<AxesSubplot:>"
      ]
     },
     "execution_count": 88,
     "metadata": {},
     "output_type": "execute_result"
    },
    {
     "data": {
      "image/png": "[encoded data removed]",
      "text/plain": [
       "<Figure size 720x576 with 2 Axes>"
      ]
     },
     "metadata": {
      "needs_background": "light"
     },
     "output_type": "display_data"
    }
   ],
   "source": [
    "plt.figure(figsize = (10, 8))\n",
    "sns.heatmap(diabetes_z.corr(method='pearson'), annot=True, cmap='viridis', vmin=-1, vmax=1)"
   ]
  },
  {
   "cell_type": "markdown",
   "id": "74eb6a9a",
   "metadata": {},
   "source": [
    "## Conclusie Logistic regression vs KNN (kNearest Neighbours)\n",
    "\n",
    "Mijn uiteindelijke conclusie is dat er bijna geen verschil zit tussen beide modellen. Hoewel ik had verwacht dat KNN beter zou presenteren bleek dat toch tegen te vallen. Dit komt warscheinlijk door het feit dat dit een best kleine dataset is. Ik ga er dan ook vanuit dat beide modellen slecht werken op kleine datasets, en daarmee ook in andere opdrachten grotere datasets getest moeten worden om dit vast te stellen."
   ]
  }
 ],
 "metadata": {
  "interpreter": {
   "hash": "4905652b14e4b7eb92899b78ac499a22c488804455b27940a322fd82aaf71031"
  },
  "kernelspec": {
   "display_name": "Python 3.8.8 64-bit ('base': conda)",
   "name": "python3"
  },
  "language_info": {
   "codemirror_mode": {
    "name": "ipython",
    "version": 3
   },
   "file_extension": ".py",
   "mimetype": "text/x-python",
   "name": "python",
   "nbconvert_exporter": "python",
   "pygments_lexer": "ipython3",
   "version": "3.8.8"
  }
 },
 "nbformat": 4,
 "nbformat_minor": 5
}
