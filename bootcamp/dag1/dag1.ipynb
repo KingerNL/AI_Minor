{
 "cells": [
  {
   "cell_type": "markdown",
   "metadata": {
    "id": "jyXtZsK1kZCN"
   },
   "source": [
    "# dag 1\n",
    "\n",
    "\n",
    "\n",
    "1.   Hello World\n",
    "2.   Sommetjes en lijstjes\n",
    "3.   Meer functies en conditionals\n",
    "4.   Dictionary\n",
    "\n",
    "#### (ik heb tussen de opdrachten de Jupyter opdracht gedaan)\n"
   ]
  },
  {
   "cell_type": "markdown",
   "metadata": {
    "id": "Gk1tjKcvt2J1"
   },
   "source": [
    "### Hello world"
   ]
  },
  {
   "cell_type": "code",
   "execution_count": null,
   "metadata": {
    "colab": {
     "base_uri": "https://localhost:8080/"
    },
    "id": "7Y28IBzWglXn",
    "outputId": "5651d69b-ce03-4f80-ce23-c551c562b7d5"
   },
   "outputs": [
    {
     "name": "stdout",
     "output_type": "stream",
     "text": [
      "hello world\n",
      "hello world\n",
      "l\n",
      "hello\n",
      "d\n"
     ]
    }
   ],
   "source": [
    "hw = \"hello world\"\n",
    "\n",
    "print(\"hello world\")\n",
    "print(hw)\n",
    "print(hw[2])\n",
    "print(hw[0:5])\n",
    "print(hw[-1])"
   ]
  },
  {
   "cell_type": "code",
   "execution_count": null,
   "metadata": {
    "colab": {
     "base_uri": "https://localhost:8080/"
    },
    "id": "DrtTMMRUh92f",
    "outputId": "e2af16d3-21b3-4467-9137-9b5149f02aca"
   },
   "outputs": [
    {
     "name": "stdout",
     "output_type": "stream",
     "text": [
      "Hello World\n"
     ]
    }
   ],
   "source": [
    "def hello(): #docstrings\n",
    "  print(\"Hello World\")\n",
    "\n",
    "hello()"
   ]
  },
  {
   "cell_type": "code",
   "execution_count": null,
   "metadata": {
    "colab": {
     "base_uri": "https://localhost:8080/",
     "height": 35
    },
    "id": "zwdzP4-Bisln",
    "outputId": "ed38cb67-73ad-4bb4-85a6-16734b526b5a"
   },
   "outputs": [
    {
     "data": {
      "application/vnd.google.colaboratory.intrinsic+json": {
       "type": "string"
      },
      "text/plain": [
       "'Hello world!'"
      ]
     },
     "execution_count": 3,
     "metadata": {},
     "output_type": "execute_result"
    }
   ],
   "source": [
    "def hello():\n",
    "  #bonjour\n",
    "  return \"Hello world!\"\n",
    "\n",
    "hello()"
   ]
  },
  {
   "cell_type": "code",
   "execution_count": null,
   "metadata": {
    "colab": {
     "base_uri": "https://localhost:8080/"
    },
    "id": "p6Ts04EDjNSK",
    "outputId": "c7b9dc81-9e4d-4975-d780-a81c060ccee1"
   },
   "outputs": [
    {
     "name": "stdout",
     "output_type": "stream",
     "text": [
      "ik praat je na\n"
     ]
    }
   ],
   "source": [
    "def hello(napraten): #docstrings\n",
    "  print(napraten)\n",
    "\n",
    "hello(\"ik praat je na\")"
   ]
  },
  {
   "cell_type": "code",
   "execution_count": null,
   "metadata": {
    "colab": {
     "base_uri": "https://localhost:8080/"
    },
    "id": "HAuKbp2zjaoi",
    "outputId": "8665465b-3ec2-4908-d4f0-337de33bb8be"
   },
   "outputs": [
    {
     "name": "stdout",
     "output_type": "stream",
     "text": [
      "5\n"
     ]
    }
   ],
   "source": [
    "def hello(): #docstrings\n",
    "   variabel = 5\n",
    "   print(variabel)\n",
    "\n",
    "hello()"
   ]
  },
  {
   "cell_type": "markdown",
   "metadata": {
    "id": "gmU01MxCk9Rh"
   },
   "source": [
    "### Sommetjes en lijstjes"
   ]
  },
  {
   "cell_type": "code",
   "execution_count": null,
   "metadata": {
    "colab": {
     "base_uri": "https://localhost:8080/"
    },
    "id": "usDb8PxTlA8b",
    "outputId": "6567a53e-d5a3-472c-b8f0-7cf1ba231722"
   },
   "outputs": [
    {
     "name": "stdout",
     "output_type": "stream",
     "text": [
      "2\n"
     ]
    }
   ],
   "source": [
    "x = 1\n",
    "y = 1\n",
    "som = x + y #opdracht 1\n",
    "\n",
    "print(som) "
   ]
  },
  {
   "cell_type": "code",
   "execution_count": null,
   "metadata": {
    "colab": {
     "base_uri": "https://localhost:8080/"
    },
    "id": "zojGW5qulAup",
    "outputId": "79a11f88-fad0-46ac-baaf-f2ab0873f766"
   },
   "outputs": [
    {
     "name": "stdout",
     "output_type": "stream",
     "text": [
      "[1, 2, 3, 4, 5, 6, 7, 8, 9, 10]\n",
      "[1, 2, 3, 4, 5, 6, 7, 8, 9, 10, 11, 12, 13, 14, 15]\n",
      "[6, 7, 8, 9, 10, 11, 12, 13, 14, 15, 16, 17, 18, 19, 20]\n",
      "195\n"
     ]
    }
   ],
   "source": [
    "ar1 = list(range(1,11)) #opdracht 2\n",
    "ar2 = [11, 12, 13, 14, 15]\n",
    "ar3 = ar1 + ar2\n",
    "\n",
    "print(ar1)\n",
    "print(ar3)\n",
    "\n",
    "ar4 = [x+5 for x in ar3]\n",
    "print(ar4)\n",
    "\n",
    "ar5 = sum(ar4)\n",
    "print(ar5)"
   ]
  },
  {
   "cell_type": "code",
   "execution_count": null,
   "metadata": {
    "colab": {
     "base_uri": "https://localhost:8080/"
    },
    "id": "wrjgw_dFsJUq",
    "outputId": "e56515c9-8cd5-44fc-d8dd-ed32d5c009e4"
   },
   "outputs": [
    {
     "name": "stdout",
     "output_type": "stream",
     "text": [
      "5050\n"
     ]
    }
   ],
   "source": [
    "i = sum(list(range(0,101))) # geef aan dat i 100 is met range 0 tot 101\n",
    "\n",
    "print(i)"
   ]
  },
  {
   "cell_type": "markdown",
   "metadata": {
    "id": "iLRxY9ELt8CC"
   },
   "source": [
    "### Meer functies en conditionals"
   ]
  },
  {
   "cell_type": "code",
   "execution_count": null,
   "metadata": {
    "colab": {
     "base_uri": "https://localhost:8080/"
    },
    "id": "kR3j5_Cyt_nO",
    "outputId": "eebe5596-afe9-4158-b9e6-2f87aca44bc9"
   },
   "outputs": [
    {
     "name": "stdout",
     "output_type": "stream",
     "text": [
      "False\n",
      "True\n",
      "True\n",
      "False\n",
      "False\n",
      "True\n"
     ]
    }
   ],
   "source": [
    "print( 5 == 6 )\n",
    "print( 5 != 6 )\n",
    "print( 5 < 6 )\n",
    "print( 5 > 6 )\n",
    "print( 5 >= 6 )\n",
    "print( 5 <= 6 )"
   ]
  },
  {
   "cell_type": "code",
   "execution_count": null,
   "metadata": {
    "colab": {
     "base_uri": "https://localhost:8080/"
    },
    "id": "NHLXAvA1uNsa",
    "outputId": "52f5e723-4aea-434c-c5d6-ad7f5146400c"
   },
   "outputs": [
    {
     "name": "stdout",
     "output_type": "stream",
     "text": [
      "True\n",
      "True\n",
      "False\n"
     ]
    }
   ],
   "source": [
    "\tprint('s' in 'Mississippi')       # single chars\n",
    "\tprint('sip' in 'Mississippi')     # substrings\n",
    "\tprint('mis' in 'Mississippi')     # case-sensitive\n"
   ]
  },
  {
   "cell_type": "code",
   "execution_count": null,
   "metadata": {
    "colab": {
     "base_uri": "https://localhost:8080/"
    },
    "id": "jhjC3b27uX56",
    "outputId": "6093a2e5-0583-47b5-9da5-9fb3772cd5dd"
   },
   "outputs": [
    {
     "name": "stdout",
     "output_type": "stream",
     "text": [
      "Hello World!\n",
      "<class 'str'>\n"
     ]
    }
   ],
   "source": [
    "x = \"Hello \"\n",
    "y = \"World!\"\n",
    "z = x + y\n",
    "print(z)\n",
    "print(type(z))"
   ]
  },
  {
   "cell_type": "code",
   "execution_count": null,
   "metadata": {
    "id": "ToHGaObnu0rf"
   },
   "outputs": [],
   "source": [
    "x = 5\n",
    "y = 10\n",
    "\n",
    "if x < y: #Telt op als de 2e (y) groter is dan x\n",
    "  z = x + y"
   ]
  },
  {
   "cell_type": "code",
   "execution_count": null,
   "metadata": {
    "id": "-UE5ONhGvNAx"
   },
   "outputs": [],
   "source": [
    "x = 5\n",
    "y = 10\n",
    "\n",
    "if x == y: #Telt op als x gelijk is aan y\n",
    "  z = x + y"
   ]
  },
  {
   "cell_type": "code",
   "execution_count": null,
   "metadata": {
    "colab": {
     "base_uri": "https://localhost:8080/"
    },
    "id": "AIf_lXPJwGXC",
    "outputId": "5e2a01c4-df93-4cf6-cc3d-f5130051f0b7"
   },
   "outputs": [
    {
     "name": "stdout",
     "output_type": "stream",
     "text": [
      "5\n",
      "6\n",
      "7\n",
      "8\n",
      "9\n",
      "10\n"
     ]
    }
   ],
   "source": [
    "x = 5\n",
    "y = 10\n",
    "\n",
    "while x <= y:\n",
    "  print(x)\n",
    "  x += 1"
   ]
  },
  {
   "cell_type": "code",
   "execution_count": null,
   "metadata": {
    "colab": {
     "base_uri": "https://localhost:8080/"
    },
    "id": "xuPZ5OAew7eD",
    "outputId": "1ff5ec51-361b-4bd6-cc9e-d6d40cb14bd2"
   },
   "outputs": [
    {
     "name": "stdout",
     "output_type": "stream",
     "text": [
      "15.707963267948966\n"
     ]
    }
   ],
   "source": [
    "x = 5\n",
    "y = 10\n",
    "\n",
    "x = x * 3.14159265358979323846264338327950288419 # De pi deed ik uit mijn hoofd :P\n",
    "if x > y:\n",
    "  print(x)\n",
    "elif x < y:\n",
    "  print(y)"
   ]
  },
  {
   "cell_type": "markdown",
   "metadata": {
    "id": "hVZb0eKKx7o1"
   },
   "source": [
    "### Dictionary"
   ]
  },
  {
   "cell_type": "code",
   "execution_count": null,
   "metadata": {
    "colab": {
     "base_uri": "https://localhost:8080/"
    },
    "id": "EEbt6llbx9hY",
    "outputId": "7467a7b4-f6f0-44a9-a4e7-44f43d89941e"
   },
   "outputs": [
    {
     "name": "stdout",
     "output_type": "stream",
     "text": [
      "{'a': 1, 'b': 20, 'c': 5}\n",
      "dict_keys(['a', 'b', 'c'])\n",
      "dict_values([1, 20, 5])\n"
     ]
    }
   ],
   "source": [
    "a = {'a':1, 'b':20}\n",
    "a['c'] = 5            # Voeg 'c'=5 toe aan bestand\n",
    "\n",
    "print(a)              # Kijk of values er nu in zitten (1/2)\n",
    "\n",
    "print(a.keys())       # loop over de keys\n",
    "print(a.values())     # loop over de values"
   ]
  },
  {
   "cell_type": "code",
   "execution_count": null,
   "metadata": {
    "colab": {
     "base_uri": "https://localhost:8080/"
    },
    "id": "eWlCcahjzxTG",
    "outputId": "01b7a091-d295-4649-8c3d-70f0c5beaf1d"
   },
   "outputs": [
    {
     "name": "stdout",
     "output_type": "stream",
     "text": [
      "a 1\n",
      "b 20\n",
      "c 5\n"
     ]
    }
   ],
   "source": [
    "a = {'a':1, 'c':5, 'b':20}\n",
    "\n",
    "for i in sorted(a): # Loop over de gesorteerde keys\n",
    "\tprint(i, a[i])   "
   ]
  },
  {
   "cell_type": "code",
   "execution_count": null,
   "metadata": {
    "colab": {
     "base_uri": "https://localhost:8080/"
    },
    "id": "qOjnOnzKJD9A",
    "outputId": "ece761d4-7948-4654-9c83-8785becd6ca3"
   },
   "outputs": [
    {
     "name": "stdout",
     "output_type": "stream",
     "text": [
      "a 1\n",
      "c 5\n",
      "b 20\n"
     ]
    }
   ],
   "source": [
    "a = {'a':1, 'c':5, 'b':20}  #Andere volgorde voor het \"sorted()\"effect\n",
    "\n",
    "for i,e in a.items(): # Loop over de gesoorteerde values\n",
    "  print(i,e)      "
   ]
  },
  {
   "cell_type": "code",
   "execution_count": null,
   "metadata": {
    "colab": {
     "base_uri": "https://localhost:8080/"
    },
    "id": "l0KNreCCjVDG",
    "outputId": "f6a404d2-6fed-4e6b-ff00-062496029143"
   },
   "outputs": [
    {
     "data": {
      "text/plain": [
       "{'a': 6,\n",
       " 'd': 1,\n",
       " 'e': 4,\n",
       " 'g': 1,\n",
       " 'h': 2,\n",
       " 'i': 3,\n",
       " 'l': 3,\n",
       " 'm': 2,\n",
       " 'n': 1,\n",
       " 'o': 3,\n",
       " 'r': 1,\n",
       " 's': 1,\n",
       " 't': 1,\n",
       " 'v': 1,\n",
       " 'w': 1}"
      ]
     },
     "execution_count": 16,
     "metadata": {},
     "output_type": "execute_result"
    }
   ],
   "source": [
    "def telLet(zin):\n",
    "  d={}\n",
    "  for letter in zin:\n",
    "    if letter.isalpha():\n",
    "      if letter not in d:\n",
    "        d[letter]=1\n",
    "      else:\n",
    "        d[letter]+=1\n",
    "  return d\n",
    "\n",
    "voorbeeldzin=\"hoi allemaal, het is vandaag mooi weer!\"\n",
    "telLet(voorbeeldzin)"
   ]
  },
  {
   "cell_type": "code",
   "execution_count": null,
   "metadata": {
    "colab": {
     "base_uri": "https://localhost:8080/"
    },
    "id": "0jLozaw8MTT4",
    "outputId": "7b0f0eee-5b81-4eca-c799-5ad1543d5415"
   },
   "outputs": [
    {
     "name": "stdout",
     "output_type": "stream",
     "text": [
      "{'Hier': 4, 'wordt': 5, 'de': 2, 'zin': 3, 'geteld!': 7}\n",
      "{2, 3, 4, 5, 7}\n",
      "{21}\n"
     ]
    }
   ],
   "source": [
    "def my_func():                                          #schrijf hier een functie die een dict gebruikt om aantal letters te tellen in een zin\n",
    "  zin = \"Hier wordt de zin geteld!\"\n",
    "  words = zin.split()\n",
    "\n",
    "  letter_count_per_word1 = {w:len(w) for w in words}    #Hier worden de getallen geteld met desbestreffende worden\n",
    "  letter_count_per_word2 = {len(w) for w in words}      #Hier worden de getallen geteld zonder desbetreffende worden\n",
    "  letter_count_sentence = {len(zin) - zin.count(' ')}   #Hier worden de getallen geteld in de zin\n",
    "\n",
    "  print(letter_count_per_word1)\n",
    "  print(letter_count_per_word2)\n",
    "  print(letter_count_sentence)\n",
    "\n",
    "my_func()"
   ]
  }
 ],
 "metadata": {
  "colab": {
   "collapsed_sections": [
    "Gk1tjKcvt2J1",
    "iLRxY9ELt8CC"
   ],
   "name": "dag1",
   "provenance": []
  },
  "kernelspec": {
   "display_name": "Python 3",
   "language": "python",
   "name": "python3"
  },
  "language_info": {
   "codemirror_mode": {
    "name": "ipython",
    "version": 3
   },
   "file_extension": ".py",
   "mimetype": "text/x-python",
   "name": "python",
   "nbconvert_exporter": "python",
   "pygments_lexer": "ipython3",
   "version": "3.8.8"
  }
 },
 "nbformat": 4,
 "nbformat_minor": 1
}
