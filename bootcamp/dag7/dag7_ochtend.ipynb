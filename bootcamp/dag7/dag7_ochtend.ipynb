{
 "cells": [
  {
   "cell_type": "markdown",
   "metadata": {},
   "source": [
    "# Dag 7 - ochtend\n",
    "\n",
    "\n",
    "### Wat ik vandaag ga doen:\n",
    "- Importeren Library's\n",
    "- Laad de dataset 'iris'\n",
    "- Maak een feature matrix X en een target vector y\n",
    "- reshape de target vector y\n",
    "- splits de data in train / test data\n",
    "- maak een eenvoudig neuraal netwerk\n",
    "- Compileer en bekijk het neuraal netwerk\n",
    "- Train het model\n",
    "- evaluate het model"
   ]
  },
  {
   "cell_type": "markdown",
   "metadata": {},
   "source": [
    "In deze opgave classificeren afbeeldingen van bloemen uit de iris dataset met behulp van een neuraal netwerk."
   ]
  },
  {
   "cell_type": "code",
   "execution_count": 11,
   "metadata": {},
   "outputs": [],
   "source": [
    "import numpy as np\n",
    "import pandas as pd\n",
    "from matplotlib import pyplot as plt\n",
    "import seaborn as sns\n",
    "from sklearn.model_selection import train_test_split\n",
    "from sklearn.preprocessing import OneHotEncoder"
   ]
  },
  {
   "cell_type": "markdown",
   "metadata": {},
   "source": [
    "Laad de dataset en maak een feature matrix X en een target vector y."
   ]
  },
  {
   "cell_type": "code",
   "execution_count": 12,
   "metadata": {},
   "outputs": [
    {
     "name": "stdout",
     "output_type": "stream",
     "text": [
      "     sepal_length  sepal_width  petal_length  petal_width    species\n",
      "0             5.1          3.5           1.4          0.2     setosa\n",
      "1             4.9          3.0           1.4          0.2     setosa\n",
      "2             4.7          3.2           1.3          0.2     setosa\n",
      "3             4.6          3.1           1.5          0.2     setosa\n",
      "4             5.0          3.6           1.4          0.2     setosa\n",
      "..            ...          ...           ...          ...        ...\n",
      "145           6.7          3.0           5.2          2.3  virginica\n",
      "146           6.3          2.5           5.0          1.9  virginica\n",
      "147           6.5          3.0           5.2          2.0  virginica\n",
      "148           6.2          3.4           5.4          2.3  virginica\n",
      "149           5.9          3.0           5.1          1.8  virginica\n",
      "\n",
      "[150 rows x 5 columns]\n"
     ]
    }
   ],
   "source": [
    "iris = sns.load_dataset('iris')\n",
    "# we gebruiken .values om een Numpy array te krijgen in plaats van een Pandas DataFrame\n",
    "x_iris = iris.drop('species', axis=1).values \n",
    "y_iris = iris['species'].values\n",
    "\n",
    "print(iris)"
   ]
  },
  {
   "cell_type": "markdown",
   "metadata": {},
   "source": [
    ">__x_iris__ = de sepal_length totaan de petal_width. Deze features zijn belangrijk bij het uitzoeken welke 'Species' het is. Dit is de feature matrix. Omdat het een matrix is van features (wow).\n",
    "\n",
    "\n",
    ">__y_iris__ = de daadwerkelijke species, aangezien dit namen (strings) zijn moeten we deze nog verranderen zodat het neuraal netwerk ze kan lezen. Dit is de target vector. Omdat dit een lijst is met targets die het neurale netwerk moet gaan raken.\n",
    "\n",
    ">__conclusie__ = Dus we kunnen hieruit zeggen dat we op de x-as de features hebben en op de y-as de waardes die we willen dat het neuraal netwerk vindt (targets). "
   ]
  },
  {
   "cell_type": "code",
   "execution_count": 13,
   "metadata": {},
   "outputs": [],
   "source": [
    "y_iris = y_iris.reshape(-1, 1) # maak een array van array's, dit is nodig voor de volgende stap"
   ]
  },
  {
   "cell_type": "markdown",
   "metadata": {},
   "source": [
    "Een neuraal netwerk kan niet omgaan met categorische labels zoals de namen van de planten, maar heeft getallen als uitput nodig. We hebben hier drie klassen (setosa, versicolor, virginica) daarom maken we een target vector met per label drie waarden. Een 1 voor de eerste waarde correspondeert met 'setosa', een 1 voor de 2e waade met 'versicolor' en een 1 voor de derde waarde met 'virginica'."
   ]
  },
  {
   "cell_type": "markdown",
   "metadata": {},
   "source": [
    "Doe dit met behulp van het `OneHotEncoder` object uit sklearn."
   ]
  },
  {
   "cell_type": "code",
   "execution_count": 14,
   "metadata": {},
   "outputs": [
    {
     "name": "stdout",
     "output_type": "stream",
     "text": [
      "[[1. 0. 0.]\n",
      " [1. 0. 0.]\n",
      " [1. 0. 0.]\n",
      " [1. 0. 0.]\n",
      " [1. 0. 0.]\n",
      " [1. 0. 0.]\n",
      " [1. 0. 0.]\n",
      " [1. 0. 0.]\n",
      " [1. 0. 0.]\n",
      " [1. 0. 0.]\n",
      " [1. 0. 0.]\n",
      " [1. 0. 0.]\n",
      " [1. 0. 0.]\n",
      " [1. 0. 0.]\n",
      " [1. 0. 0.]\n",
      " [1. 0. 0.]\n",
      " [1. 0. 0.]\n",
      " [1. 0. 0.]\n",
      " [1. 0. 0.]\n",
      " [1. 0. 0.]\n",
      " [1. 0. 0.]\n",
      " [1. 0. 0.]\n",
      " [1. 0. 0.]\n",
      " [1. 0. 0.]\n",
      " [1. 0. 0.]\n",
      " [1. 0. 0.]\n",
      " [1. 0. 0.]\n",
      " [1. 0. 0.]\n",
      " [1. 0. 0.]\n",
      " [1. 0. 0.]\n",
      " [1. 0. 0.]\n",
      " [1. 0. 0.]\n",
      " [1. 0. 0.]\n",
      " [1. 0. 0.]\n",
      " [1. 0. 0.]\n",
      " [1. 0. 0.]\n",
      " [1. 0. 0.]\n",
      " [1. 0. 0.]\n",
      " [1. 0. 0.]\n",
      " [1. 0. 0.]\n",
      " [1. 0. 0.]\n",
      " [1. 0. 0.]\n",
      " [1. 0. 0.]\n",
      " [1. 0. 0.]\n",
      " [1. 0. 0.]\n",
      " [1. 0. 0.]\n",
      " [1. 0. 0.]\n",
      " [1. 0. 0.]\n",
      " [1. 0. 0.]\n",
      " [1. 0. 0.]\n",
      " [0. 1. 0.]\n",
      " [0. 1. 0.]\n",
      " [0. 1. 0.]\n",
      " [0. 1. 0.]\n",
      " [0. 1. 0.]\n",
      " [0. 1. 0.]\n",
      " [0. 1. 0.]\n",
      " [0. 1. 0.]\n",
      " [0. 1. 0.]\n",
      " [0. 1. 0.]\n",
      " [0. 1. 0.]\n",
      " [0. 1. 0.]\n",
      " [0. 1. 0.]\n",
      " [0. 1. 0.]\n",
      " [0. 1. 0.]\n",
      " [0. 1. 0.]\n",
      " [0. 1. 0.]\n",
      " [0. 1. 0.]\n",
      " [0. 1. 0.]\n",
      " [0. 1. 0.]\n",
      " [0. 1. 0.]\n",
      " [0. 1. 0.]\n",
      " [0. 1. 0.]\n",
      " [0. 1. 0.]\n",
      " [0. 1. 0.]\n",
      " [0. 1. 0.]\n",
      " [0. 1. 0.]\n",
      " [0. 1. 0.]\n",
      " [0. 1. 0.]\n",
      " [0. 1. 0.]\n",
      " [0. 1. 0.]\n",
      " [0. 1. 0.]\n",
      " [0. 1. 0.]\n",
      " [0. 1. 0.]\n",
      " [0. 1. 0.]\n",
      " [0. 1. 0.]\n",
      " [0. 1. 0.]\n",
      " [0. 1. 0.]\n",
      " [0. 1. 0.]\n",
      " [0. 1. 0.]\n",
      " [0. 1. 0.]\n",
      " [0. 1. 0.]\n",
      " [0. 1. 0.]\n",
      " [0. 1. 0.]\n",
      " [0. 1. 0.]\n",
      " [0. 1. 0.]\n",
      " [0. 1. 0.]\n",
      " [0. 1. 0.]\n",
      " [0. 1. 0.]\n",
      " [0. 1. 0.]\n",
      " [0. 0. 1.]\n",
      " [0. 0. 1.]\n",
      " [0. 0. 1.]\n",
      " [0. 0. 1.]\n",
      " [0. 0. 1.]\n",
      " [0. 0. 1.]\n",
      " [0. 0. 1.]\n",
      " [0. 0. 1.]\n",
      " [0. 0. 1.]\n",
      " [0. 0. 1.]\n",
      " [0. 0. 1.]\n",
      " [0. 0. 1.]\n",
      " [0. 0. 1.]\n",
      " [0. 0. 1.]\n",
      " [0. 0. 1.]\n",
      " [0. 0. 1.]\n",
      " [0. 0. 1.]\n",
      " [0. 0. 1.]\n",
      " [0. 0. 1.]\n",
      " [0. 0. 1.]\n",
      " [0. 0. 1.]\n",
      " [0. 0. 1.]\n",
      " [0. 0. 1.]\n",
      " [0. 0. 1.]\n",
      " [0. 0. 1.]\n",
      " [0. 0. 1.]\n",
      " [0. 0. 1.]\n",
      " [0. 0. 1.]\n",
      " [0. 0. 1.]\n",
      " [0. 0. 1.]\n",
      " [0. 0. 1.]\n",
      " [0. 0. 1.]\n",
      " [0. 0. 1.]\n",
      " [0. 0. 1.]\n",
      " [0. 0. 1.]\n",
      " [0. 0. 1.]\n",
      " [0. 0. 1.]\n",
      " [0. 0. 1.]\n",
      " [0. 0. 1.]\n",
      " [0. 0. 1.]\n",
      " [0. 0. 1.]\n",
      " [0. 0. 1.]\n",
      " [0. 0. 1.]\n",
      " [0. 0. 1.]\n",
      " [0. 0. 1.]\n",
      " [0. 0. 1.]\n",
      " [0. 0. 1.]\n",
      " [0. 0. 1.]\n",
      " [0. 0. 1.]\n",
      " [0. 0. 1.]]\n"
     ]
    }
   ],
   "source": [
    "encoder = OneHotEncoder(sparse=False) \n",
    "y_encoded = encoder.fit_transform(y_iris)\n",
    "print(y_encoded)"
   ]
  },
  {
   "cell_type": "markdown",
   "metadata": {},
   "source": [
    ">__conclusie__: Aangezien de computer niet weet wat een string is, en als output getallen geeft. Moeten we onze waardes omschrijven in getallen. Dit kan erg makkelijk met ***'OneHotEncoder'***. Dit encode onze data zodat het neuraal netwerk het snapt"
   ]
  },
  {
   "cell_type": "markdown",
   "metadata": {},
   "source": [
    "We hebben de data nu in een geschikt formaat. Splits de data in training en test data."
   ]
  },
  {
   "cell_type": "code",
   "execution_count": 16,
   "metadata": {},
   "outputs": [],
   "source": [
    "X_train, X_test, y_train, y_test = train_test_split(x_iris, y_encoded, test_size=0.2, random_state = 6)"
   ]
  },
  {
   "cell_type": "markdown",
   "metadata": {},
   "source": [
    "> __conclusie__: Nu zijn we op het punt aangekomen om onze dataset te ***splitsen*** in een train en test set. Dit doen we om overfitting te voorkomen. We geven 0.2 (20%) van onze totale dataset mee om uiteindelijk te gaan testen. In dit geval is dat 150 * 0.2 = 30 rows."
   ]
  },
  {
   "cell_type": "markdown",
   "metadata": {},
   "source": [
    "Maak een eenvoudig neuraal netwerk met 3 lagen, waarin elke neuron in een laag met elk neuron in de vorige laag verbonden is ('Dense'). \n",
    "Voeg voor de eeste laag een parameter `input_shape` toe die aangeeft hoeveel features een element in 'X' heeft.\n",
    "Het aantal neuronen in de laaste laag is gelijk aan het aantal waarden in een label in `y`. "
   ]
  },
  {
   "cell_type": "code",
   "execution_count": 11,
   "metadata": {},
   "outputs": [],
   "source": [
    "from keras.models import Sequential\n",
    "from keras.layers import Dense\n",
    "\n",
    "model = Sequential()\n",
    "model.add(Dense(4, input_shape = (4,), activation = 'relu'))\n",
    "model.add(Dense(3, activation = 'relu'))\n",
    "model.add(Dense(3, activation = 'softmax'))"
   ]
  },
  {
   "cell_type": "markdown",
   "metadata": {},
   "source": [
    "> __conlusie__: We hebben hier een \"eenvoudig\" neuraal netwerk gemaakt. Dit kan met de library keras. Nu gebruiken we een model die gebasseerd is op ***Sequential*** lagen. En 3 lagen toegevoegd met ***model.add***. De Dense is de dikte van de laag (hoeveel neuronen). Daarnaast hebben we een softmax functie meegegeven aan de laastse laag om zo de output makkelijk weer te geven omdat we moeten alleen heoven te kijken naar welk het dichst bij de 1 zit.\n",
    "\n",
    ">**LET OP!** De laaste laag moet altijd hetzelfde aantal neuronen (Dense) hebben als je hoeveel uitkomsten die je krijgt."
   ]
  },
  {
   "cell_type": "markdown",
   "metadata": {},
   "source": [
    "Compileer en bekijk het netwerk door onderstaande code te runnen."
   ]
  },
  {
   "cell_type": "code",
   "execution_count": 12,
   "metadata": {},
   "outputs": [
    {
     "name": "stdout",
     "output_type": "stream",
     "text": [
      "Model: \"sequential\"\n",
      "_________________________________________________________________\n",
      "Layer (type)                 Output Shape              Param #   \n",
      "=================================================================\n",
      "dense (Dense)                (None, 4)                 20        \n",
      "_________________________________________________________________\n",
      "dense_1 (Dense)              (None, 3)                 15        \n",
      "_________________________________________________________________\n",
      "dense_2 (Dense)              (None, 3)                 12        \n",
      "=================================================================\n",
      "Total params: 47\n",
      "Trainable params: 47\n",
      "Non-trainable params: 0\n",
      "_________________________________________________________________\n"
     ]
    }
   ],
   "source": [
    "from tensorflow.keras.optimizers import Adam\n",
    "\n",
    "model.compile(Adam(learning_rate=0.01),'categorical_crossentropy',metrics=['accuracy'])\n",
    "\n",
    "model.summary()"
   ]
  },
  {
   "cell_type": "markdown",
   "metadata": {},
   "source": [
    "> __conclusie__: Nu hebben we het netwerk gecompileerd en gebruiken categorical crossentropy als een functie omdat die erg goed is in ___classification___. We meten met de metric genaamd ___accuracy___. Soms ook wel acc genoemd."
   ]
  },
  {
   "cell_type": "markdown",
   "metadata": {},
   "source": [
    "Nu kunnen we ons model trainen met behulp van de `fit` methode."
   ]
  },
  {
   "cell_type": "code",
   "execution_count": 13,
   "metadata": {},
   "outputs": [
    {
     "name": "stdout",
     "output_type": "stream",
     "text": [
      "Epoch 1/25\n",
      "24/24 [==============================] - 0s 566us/step - loss: 1.3079 - accuracy: 0.3583\n",
      "Epoch 2/25\n",
      "24/24 [==============================] - 0s 522us/step - loss: 1.1091 - accuracy: 0.3917\n",
      "Epoch 3/25\n",
      "24/24 [==============================] - 0s 566us/step - loss: 1.0971 - accuracy: 0.3583\n",
      "Epoch 4/25\n",
      "24/24 [==============================] - 0s 566us/step - loss: 1.0709 - accuracy: 0.4917\n",
      "Epoch 5/25\n",
      "24/24 [==============================] - 0s 522us/step - loss: 1.0097 - accuracy: 0.3583\n",
      "Epoch 6/25\n",
      "24/24 [==============================] - 0s 522us/step - loss: 0.8681 - accuracy: 0.5583\n",
      "Epoch 7/25\n",
      "24/24 [==============================] - 0s 566us/step - loss: 0.7480 - accuracy: 0.6917\n",
      "Epoch 8/25\n",
      "24/24 [==============================] - 0s 566us/step - loss: 0.6694 - accuracy: 0.7917\n",
      "Epoch 9/25\n",
      "24/24 [==============================] - 0s 566us/step - loss: 0.6053 - accuracy: 0.7500\n",
      "Epoch 10/25\n",
      "24/24 [==============================] - 0s 522us/step - loss: 0.5571 - accuracy: 0.8500\n",
      "Epoch 11/25\n",
      "24/24 [==============================] - 0s 522us/step - loss: 0.5143 - accuracy: 0.8667\n",
      "Epoch 12/25\n",
      "24/24 [==============================] - 0s 609us/step - loss: 0.4655 - accuracy: 0.8833\n",
      "Epoch 13/25\n",
      "24/24 [==============================] - 0s 566us/step - loss: 0.4338 - accuracy: 0.9167\n",
      "Epoch 14/25\n",
      "24/24 [==============================] - 0s 522us/step - loss: 0.4162 - accuracy: 0.8583\n",
      "Epoch 15/25\n",
      "24/24 [==============================] - 0s 566us/step - loss: 0.3568 - accuracy: 0.9333\n",
      "Epoch 16/25\n",
      "24/24 [==============================] - 0s 566us/step - loss: 0.3515 - accuracy: 0.8917\n",
      "Epoch 17/25\n",
      "24/24 [==============================] - 0s 522us/step - loss: 0.3085 - accuracy: 0.9500\n",
      "Epoch 18/25\n",
      "24/24 [==============================] - 0s 566us/step - loss: 0.2727 - accuracy: 0.9500\n",
      "Epoch 19/25\n",
      "24/24 [==============================] - 0s 522us/step - loss: 0.2861 - accuracy: 0.9167\n",
      "Epoch 20/25\n",
      "24/24 [==============================] - 0s 522us/step - loss: 0.2095 - accuracy: 0.9583\n",
      "Epoch 21/25\n",
      "24/24 [==============================] - 0s 522us/step - loss: 0.2027 - accuracy: 0.9667\n",
      "Epoch 22/25\n",
      "24/24 [==============================] - 0s 522us/step - loss: 0.2195 - accuracy: 0.9417\n",
      "Epoch 23/25\n",
      "24/24 [==============================] - 0s 609us/step - loss: 0.1721 - accuracy: 0.9750\n",
      "Epoch 24/25\n",
      "24/24 [==============================] - 0s 609us/step - loss: 0.1534 - accuracy: 0.9750\n",
      "Epoch 25/25\n",
      "24/24 [==============================] - 0s 566us/step - loss: 0.1455 - accuracy: 0.9667\n"
     ]
    },
    {
     "data": {
      "text/plain": [
       "<keras.callbacks.History at 0x1c6d7dd2c40>"
      ]
     },
     "execution_count": 13,
     "metadata": {},
     "output_type": "execute_result"
    }
   ],
   "source": [
    "model.fit(X_train, y_train, epochs = 25, batch_size = 5) "
   ]
  },
  {
   "cell_type": "markdown",
   "metadata": {},
   "source": [
    "> __conclusie__: We hebben nu voor het eerst getrained (wow). De Epochs is 1 volledige run door het neurale netwerk, en batch size is na hoeveel runs hij zichzelf leert. Daarnaast zie je loss en accuracy staan. Hoe dichter de accuracy bij 1 zit, hoe ebter. En hoe kleiner de loss is, hoe beter."
   ]
  },
  {
   "cell_type": "markdown",
   "metadata": {},
   "source": [
    "Met `model_evaluate` kunnen we bepalen hoe goed het model werkt op de test data."
   ]
  },
  {
   "cell_type": "code",
   "execution_count": 14,
   "metadata": {},
   "outputs": [
    {
     "name": "stdout",
     "output_type": "stream",
     "text": [
      "1/1 [==============================] - 0s 121ms/step - loss: 0.1190 - accuracy: 0.9667\n",
      "0.9666666388511658\n"
     ]
    }
   ],
   "source": [
    "test_loss, test_acc = model.evaluate(X_test, y_test)\n",
    "print(test_acc)"
   ]
  },
  {
   "cell_type": "markdown",
   "metadata": {},
   "source": [
    ">__conclusie__: Zoals hierboven vermeld wordt model_evaluate gebruikt om te bepalen hoe goed het model werkt op de test data."
   ]
  },
  {
   "cell_type": "markdown",
   "metadata": {},
   "source": [
    "Experimenteer met bovenstaand model. Wat gebeurt er als je meer lagen toevoegt of een laag weghaalt of het aantal neuronen in een laag verandert? \n",
    "\n",
    "Probeer ook eens andere activatiefuncties dan `relu`, zoals `tanh` of `sigmoid`.\n",
    "\n",
    "Welke invloed heeft het aantal epochs?"
   ]
  },
  {
   "cell_type": "code",
   "execution_count": 15,
   "metadata": {},
   "outputs": [
    {
     "name": "stdout",
     "output_type": "stream",
     "text": [
      "Epoch 1/50\n",
      "24/24 [==============================] - 0s 566us/step - loss: 0.1228 - accuracy: 0.9750\n",
      "Epoch 2/50\n",
      "24/24 [==============================] - 0s 522us/step - loss: 0.1304 - accuracy: 0.9750\n",
      "Epoch 3/50\n",
      "24/24 [==============================] - 0s 522us/step - loss: 0.1300 - accuracy: 0.9750\n",
      "Epoch 4/50\n",
      "24/24 [==============================] - 0s 566us/step - loss: 0.1033 - accuracy: 0.9750\n",
      "Epoch 5/50\n",
      "24/24 [==============================] - 0s 566us/step - loss: 0.1782 - accuracy: 0.9250\n",
      "Epoch 6/50\n",
      "24/24 [==============================] - 0s 609us/step - loss: 0.1467 - accuracy: 0.9417\n",
      "Epoch 7/50\n",
      "24/24 [==============================] - 0s 566us/step - loss: 0.1089 - accuracy: 0.9667\n",
      "Epoch 8/50\n",
      "24/24 [==============================] - 0s 566us/step - loss: 0.1008 - accuracy: 0.9750\n",
      "Epoch 9/50\n",
      "24/24 [==============================] - 0s 566us/step - loss: 0.1057 - accuracy: 0.9833\n",
      "Epoch 10/50\n",
      "24/24 [==============================] - 0s 522us/step - loss: 0.1312 - accuracy: 0.9583\n",
      "Epoch 11/50\n",
      "24/24 [==============================] - 0s 522us/step - loss: 0.0957 - accuracy: 0.9750\n",
      "Epoch 12/50\n",
      "24/24 [==============================] - 0s 566us/step - loss: 0.1079 - accuracy: 0.9583\n",
      "Epoch 13/50\n",
      "24/24 [==============================] - 0s 783us/step - loss: 0.1066 - accuracy: 0.9667\n",
      "Epoch 14/50\n",
      "24/24 [==============================] - 0s 522us/step - loss: 0.0847 - accuracy: 0.9750\n",
      "Epoch 15/50\n",
      "24/24 [==============================] - 0s 566us/step - loss: 0.1131 - accuracy: 0.9583\n",
      "Epoch 16/50\n",
      "24/24 [==============================] - 0s 522us/step - loss: 0.1149 - accuracy: 0.9500\n",
      "Epoch 17/50\n",
      "24/24 [==============================] - 0s 566us/step - loss: 0.0764 - accuracy: 0.9833\n",
      "Epoch 18/50\n",
      "24/24 [==============================] - 0s 609us/step - loss: 0.0761 - accuracy: 0.9833\n",
      "Epoch 19/50\n",
      "24/24 [==============================] - 0s 522us/step - loss: 0.0829 - accuracy: 0.9750\n",
      "Epoch 20/50\n",
      "24/24 [==============================] - 0s 566us/step - loss: 0.0743 - accuracy: 0.9833\n",
      "Epoch 21/50\n",
      "24/24 [==============================] - 0s 522us/step - loss: 0.0978 - accuracy: 0.9583\n",
      "Epoch 22/50\n",
      "24/24 [==============================] - 0s 566us/step - loss: 0.0942 - accuracy: 0.9667\n",
      "Epoch 23/50\n",
      "24/24 [==============================] - 0s 522us/step - loss: 0.0917 - accuracy: 0.9583\n",
      "Epoch 24/50\n",
      "24/24 [==============================] - 0s 522us/step - loss: 0.0971 - accuracy: 0.9667\n",
      "Epoch 25/50\n",
      "24/24 [==============================] - 0s 522us/step - loss: 0.1082 - accuracy: 0.9500\n",
      "Epoch 26/50\n",
      "24/24 [==============================] - 0s 522us/step - loss: 0.0888 - accuracy: 0.9667\n",
      "Epoch 27/50\n",
      "24/24 [==============================] - 0s 566us/step - loss: 0.0817 - accuracy: 0.9750\n",
      "Epoch 28/50\n",
      "24/24 [==============================] - 0s 522us/step - loss: 0.0861 - accuracy: 0.9667\n",
      "Epoch 29/50\n",
      "24/24 [==============================] - 0s 566us/step - loss: 0.1365 - accuracy: 0.9500\n",
      "Epoch 30/50\n",
      "24/24 [==============================] - 0s 566us/step - loss: 0.0756 - accuracy: 0.9750\n",
      "Epoch 31/50\n",
      "24/24 [==============================] - 0s 522us/step - loss: 0.0807 - accuracy: 0.9667\n",
      "Epoch 32/50\n",
      "24/24 [==============================] - 0s 522us/step - loss: 0.1450 - accuracy: 0.9417\n",
      "Epoch 33/50\n",
      "24/24 [==============================] - 0s 522us/step - loss: 0.0853 - accuracy: 0.9667\n",
      "Epoch 34/50\n",
      "24/24 [==============================] - 0s 522us/step - loss: 0.0830 - accuracy: 0.9667\n",
      "Epoch 35/50\n",
      "24/24 [==============================] - 0s 566us/step - loss: 0.0949 - accuracy: 0.9583\n",
      "Epoch 36/50\n",
      "24/24 [==============================] - 0s 566us/step - loss: 0.0700 - accuracy: 0.9750\n",
      "Epoch 37/50\n",
      "24/24 [==============================] - 0s 566us/step - loss: 0.0695 - accuracy: 0.9750\n",
      "Epoch 38/50\n",
      "24/24 [==============================] - 0s 566us/step - loss: 0.0857 - accuracy: 0.9667\n",
      "Epoch 39/50\n",
      "24/24 [==============================] - 0s 522us/step - loss: 0.0630 - accuracy: 0.9833\n",
      "Epoch 40/50\n",
      "24/24 [==============================] - 0s 522us/step - loss: 0.0746 - accuracy: 0.9833\n",
      "Epoch 41/50\n",
      "24/24 [==============================] - 0s 522us/step - loss: 0.1233 - accuracy: 0.9583\n",
      "Epoch 42/50\n",
      "24/24 [==============================] - 0s 522us/step - loss: 0.0743 - accuracy: 0.9833\n",
      "Epoch 43/50\n",
      "24/24 [==============================] - 0s 522us/step - loss: 0.0746 - accuracy: 0.9750\n",
      "Epoch 44/50\n",
      "24/24 [==============================] - 0s 522us/step - loss: 0.0773 - accuracy: 0.9750\n",
      "Epoch 45/50\n",
      "24/24 [==============================] - 0s 522us/step - loss: 0.0685 - accuracy: 0.9667\n",
      "Epoch 46/50\n",
      "24/24 [==============================] - 0s 566us/step - loss: 0.1177 - accuracy: 0.9417\n",
      "Epoch 47/50\n",
      "24/24 [==============================] - 0s 522us/step - loss: 0.0788 - accuracy: 0.9583\n",
      "Epoch 48/50\n",
      "24/24 [==============================] - 0s 522us/step - loss: 0.1091 - accuracy: 0.9583\n",
      "Epoch 49/50\n",
      "24/24 [==============================] - 0s 479us/step - loss: 0.0931 - accuracy: 0.9750\n",
      "Epoch 50/50\n",
      "24/24 [==============================] - 0s 522us/step - loss: 0.0699 - accuracy: 0.9833\n"
     ]
    },
    {
     "data": {
      "text/plain": [
       "<keras.callbacks.History at 0x1c6da0a2760>"
      ]
     },
     "execution_count": 15,
     "metadata": {},
     "output_type": "execute_result"
    }
   ],
   "source": [
    "model.fit(X_train, y_train, epochs = 50, batch_size = 5) # 2x zoveel epochs"
   ]
  },
  {
   "cell_type": "code",
   "execution_count": 16,
   "metadata": {},
   "outputs": [
    {
     "name": "stdout",
     "output_type": "stream",
     "text": [
      "1/1 [==============================] - 0s 13ms/step - loss: 0.0837 - accuracy: 0.9667\n",
      "0.9666666388511658\n"
     ]
    }
   ],
   "source": [
    "test_loss, test_acc = model.evaluate(X_test, y_test)\n",
    "print(test_acc) # Een accuracy van 0.9666... Hij is nu erg geoptimaliseerd voor deze dataset."
   ]
  },
  {
   "cell_type": "markdown",
   "metadata": {},
   "source": [
    "We kunnen dezelfde aanpak gebruiken voor andere data, bijvoorbeeld voor het herkennen van cijfers. We gebruiken de `MNist` dataset die bestaat uit plaatjes van cijfers. Ieder plaatje bestaat uit 28 x 28 pixels."
   ]
  },
  {
   "cell_type": "code",
   "execution_count": 17,
   "metadata": {},
   "outputs": [],
   "source": [
    "from keras.datasets import mnist\n",
    "\n",
    "(train_images, train_labels), (test_images, test_labels) = mnist.load_data()\n",
    "\n",
    "import warnings\n",
    "warnings.filterwarnings('ignore')"
   ]
  },
  {
   "cell_type": "code",
   "execution_count": 18,
   "metadata": {},
   "outputs": [
    {
     "data": {
      "text/plain": [
       "(60000, 28, 28)"
      ]
     },
     "execution_count": 18,
     "metadata": {},
     "output_type": "execute_result"
    }
   ],
   "source": [
    "train_images.shape"
   ]
  },
  {
   "cell_type": "code",
   "execution_count": 19,
   "metadata": {},
   "outputs": [
    {
     "data": {
      "text/plain": [
       "60000"
      ]
     },
     "execution_count": 19,
     "metadata": {},
     "output_type": "execute_result"
    }
   ],
   "source": [
    "len(train_labels)"
   ]
  },
  {
   "cell_type": "code",
   "execution_count": 20,
   "metadata": {},
   "outputs": [
    {
     "name": "stdout",
     "output_type": "stream",
     "text": [
      "[5 0 4 ... 5 6 8]\n"
     ]
    }
   ],
   "source": [
    "print(train_labels)"
   ]
  },
  {
   "cell_type": "markdown",
   "metadata": {},
   "source": [
    "Een eenvoudig neuraal netwerk heeft een array van inputwaarden nodig i.p.v. een 2D afbeelding.\n",
    "We maken van de inputs (waarden tussen 0 en 255) getallen tussen 0 en 1."
   ]
  },
  {
   "cell_type": "code",
   "execution_count": 21,
   "metadata": {},
   "outputs": [],
   "source": [
    "train_images = train_images.reshape((60000, 28 * 28)) # lijst van waarden i.p.v. 2D afbeelding\n",
    "train_images = train_images.astype('float32') / 255 # getallen tussen 0 en 1\n",
    "\n",
    "test_images = test_images.reshape((10000, 28 * 28))\n",
    "test_images = test_images.astype('float32') / 255"
   ]
  },
  {
   "cell_type": "markdown",
   "metadata": {},
   "source": [
    "Voor elk label (een cijfer) maken we een array met 10 waarden: 9 nullen en een één, waarbij de positie van de één aangeeft om welk cijfer het gaat (One hot encoding). Dit keer gebruiken we hiervoor de `keras` functie `to_categorical`."
   ]
  },
  {
   "cell_type": "code",
   "execution_count": 22,
   "metadata": {},
   "outputs": [
    {
     "ename": "ImportError",
     "evalue": "cannot import name 'to_categorical' from 'keras.utils' (E:\\Anaconda3\\lib\\site-packages\\keras\\utils\\__init__.py)",
     "output_type": "error",
     "traceback": [
      "\u001b[1;31m---------------------------------------------------------------------------\u001b[0m",
      "\u001b[1;31mImportError\u001b[0m                               Traceback (most recent call last)",
      "\u001b[1;32m<ipython-input-22-d0af169f9c3b>\u001b[0m in \u001b[0;36m<module>\u001b[1;34m\u001b[0m\n\u001b[1;32m----> 1\u001b[1;33m \u001b[1;32mfrom\u001b[0m \u001b[0mkeras\u001b[0m\u001b[1;33m.\u001b[0m\u001b[0mutils\u001b[0m \u001b[1;32mimport\u001b[0m \u001b[0mto_categorical\u001b[0m\u001b[1;33m\u001b[0m\u001b[1;33m\u001b[0m\u001b[0m\n\u001b[0m\u001b[0;32m      2\u001b[0m \u001b[1;33m\u001b[0m\u001b[0m\n\u001b[0;32m      3\u001b[0m \u001b[0mtrain_labels\u001b[0m \u001b[1;33m=\u001b[0m \u001b[0mto_categorical\u001b[0m\u001b[1;33m(\u001b[0m\u001b[0mtrain_labels\u001b[0m\u001b[1;33m)\u001b[0m\u001b[1;33m\u001b[0m\u001b[1;33m\u001b[0m\u001b[0m\n\u001b[0;32m      4\u001b[0m \u001b[0mtest_labels\u001b[0m \u001b[1;33m=\u001b[0m \u001b[0mto_categorical\u001b[0m\u001b[1;33m(\u001b[0m\u001b[0mtest_labels\u001b[0m\u001b[1;33m)\u001b[0m\u001b[1;33m\u001b[0m\u001b[1;33m\u001b[0m\u001b[0m\n\u001b[0;32m      5\u001b[0m \u001b[1;33m\u001b[0m\u001b[0m\n",
      "\u001b[1;31mImportError\u001b[0m: cannot import name 'to_categorical' from 'keras.utils' (E:\\Anaconda3\\lib\\site-packages\\keras\\utils\\__init__.py)"
     ]
    }
   ],
   "source": [
    "from keras.utils import to_categorical\n",
    "\n",
    "train_labels = to_categorical(train_labels)\n",
    "test_labels = to_categorical(test_labels)\n",
    "\n",
    "print(train_labels)"
   ]
  },
  {
   "cell_type": "markdown",
   "metadata": {},
   "source": [
    "Maak nu een neuraal netwerk met twee lagen, een eerste laag met 512 neuronen en een output laag met 10 neuronen. Geef bij de eerste laag aan hoeveel inputs er zijn en wat de activatiefunctie is. De output laag heeft een `softmax` activatiefunctie."
   ]
  },
  {
   "cell_type": "code",
   "execution_count": null,
   "metadata": {},
   "outputs": [],
   "source": []
  },
  {
   "cell_type": "markdown",
   "metadata": {},
   "source": [
    "compileer het netwerk."
   ]
  },
  {
   "cell_type": "code",
   "execution_count": null,
   "metadata": {},
   "outputs": [],
   "source": []
  },
  {
   "cell_type": "markdown",
   "metadata": {},
   "source": [
    "train het netwerk 5 epochs met een batch_size van 128."
   ]
  },
  {
   "cell_type": "code",
   "execution_count": null,
   "metadata": {},
   "outputs": [],
   "source": []
  },
  {
   "cell_type": "markdown",
   "metadata": {},
   "source": [
    "Evalueer het netwerk op de test set."
   ]
  },
  {
   "cell_type": "code",
   "execution_count": null,
   "metadata": {},
   "outputs": [],
   "source": []
  },
  {
   "cell_type": "markdown",
   "metadata": {},
   "source": [
    "Experimenteer met verschillende netwerken. Varieer het aantal lagen, het aantal neuronen, de activatiefunties en het aantal epochs."
   ]
  },
  {
   "cell_type": "code",
   "execution_count": null,
   "metadata": {},
   "outputs": [],
   "source": []
  },
  {
   "cell_type": "code",
   "execution_count": null,
   "metadata": {},
   "outputs": [],
   "source": []
  },
  {
   "cell_type": "code",
   "execution_count": null,
   "metadata": {},
   "outputs": [],
   "source": []
  },
  {
   "cell_type": "code",
   "execution_count": null,
   "metadata": {},
   "outputs": [],
   "source": []
  }
 ],
 "metadata": {
  "kernelspec": {
   "display_name": "Python 3",
   "language": "python",
   "name": "python3"
  },
  "language_info": {
   "codemirror_mode": {
    "name": "ipython",
    "version": 3
   },
   "file_extension": ".py",
   "mimetype": "text/x-python",
   "name": "python",
   "nbconvert_exporter": "python",
   "pygments_lexer": "ipython3",
   "version": "3.8.8"
  }
 },
 "nbformat": 4,
 "nbformat_minor": 2
}
