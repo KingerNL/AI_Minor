{
 "cells": [
  {
   "cell_type": "markdown",
   "metadata": {},
   "source": [
    "# Statestiek - ANOVA\n",
    "\n",
    "### Van: Mart Veldkamp\n",
    "\n",
    "- is er een verschil in leeftijd en de klasse die men vliegt (3 categorieen)\n",
    "- Is er een verschil in flight distance en de klasse die men vliegt\n",
    "- (Voor de ANOVA: gebruikResearchpy: zie https://www.pythonfordatascience.org"
   ]
  },
  {
   "cell_type": "markdown",
   "metadata": {},
   "source": [
    "## 2. Laad de data en laat het zien"
   ]
  },
  {
   "cell_type": "code",
   "execution_count": 2,
   "metadata": {},
   "outputs": [
    {
     "name": "stdout",
     "output_type": "stream",
     "text": [
      "<class 'pandas.core.frame.DataFrame'>\n",
      "RangeIndex: 103904 entries, 0 to 103903\n",
      "Data columns (total 23 columns):\n",
      " #   Column                             Non-Null Count   Dtype  \n",
      "---  ------                             --------------   -----  \n",
      " 0   Gender                             103904 non-null  int64  \n",
      " 1   Customer Type                      103904 non-null  int64  \n",
      " 2   Age                                103904 non-null  int64  \n",
      " 3   Type of Travel                     103904 non-null  int64  \n",
      " 4   Class                              103904 non-null  int64  \n",
      " 5   Flight Distance                    103904 non-null  int64  \n",
      " 6   Inflight wifi service              103904 non-null  int64  \n",
      " 7   Departure/Arrival time convenient  103904 non-null  int64  \n",
      " 8   Ease of Online booking             103904 non-null  int64  \n",
      " 9   Gate location                      103904 non-null  int64  \n",
      " 10  Food and drink                     103904 non-null  int64  \n",
      " 11  Online boarding                    103904 non-null  int64  \n",
      " 12  Seat comfort                       103904 non-null  int64  \n",
      " 13  Inflight entertainment             103904 non-null  int64  \n",
      " 14  On-board service                   103904 non-null  int64  \n",
      " 15  Leg room service                   103904 non-null  int64  \n",
      " 16  Baggage handling                   103904 non-null  int64  \n",
      " 17  Checkin service                    103904 non-null  int64  \n",
      " 18  Inflight service                   103904 non-null  int64  \n",
      " 19  Cleanliness                        103904 non-null  int64  \n",
      " 20  Departure Delay in Minutes         103904 non-null  int64  \n",
      " 21  Arrival Delay in Minutes           103594 non-null  float64\n",
      " 22  satisfaction                       103904 non-null  int64  \n",
      "dtypes: float64(1), int64(22)\n",
      "memory usage: 18.2 MB\n"
     ]
    }
   ],
   "source": [
    "import pandas as pd\n",
    "\n",
    "data = pd.read_csv('Airlinesatisfaction.csv', sep=\",\")\n",
    "data = data.drop(columns = [\"Unnamed: 0\", \"id\"], axis=1) \n",
    "\n",
    "#Voor alles wat geen dataType is, moeten we zelf een datatype \"assignen\"\n",
    "data['satisfaction'].replace({'neutral or dissatisfied': 0, 'satisfied': 1},inplace = True)\n",
    "data['Gender'].replace({'Male': 0, 'Female': 1}, inplace = True)\n",
    "data['Customer Type'].replace({'disloyal Customer': 0, 'Loyal Customer': 1}, inplace = True)\n",
    "data['Type of Travel'].replace({'Personal Travel': 0, 'Business travel': 1}, inplace = True)\n",
    "data['Class'].replace({'Eco': 1, 'Eco Plus': 2, 'Business':3}, inplace = True)\n",
    "\n",
    "data.info()"
   ]
  },
  {
   "cell_type": "markdown",
   "metadata": {},
   "source": [
    "## 3. is er een verschil in leeftijd en de klasse die men vliegt (3 categorieen)"
   ]
  },
  {
   "cell_type": "markdown",
   "metadata": {},
   "source": [
    "Ik vind het altijd fijn om een verband weer te geven door middel van een histogram en Boxplot. Je kan heel makkelijk aflezen uit een histogram welke klasse welke leeftijdsgroep heeft gekocht. En bij een Boxplot waar de gemiddelde leeftijd/outliers liggen."
   ]
  },
  {
   "cell_type": "code",
   "execution_count": 3,
   "metadata": {},
   "outputs": [
    {
     "data": {
      "text/plain": [
       "<AxesSubplot:xlabel='Class', ylabel='Age'>"
      ]
     },
     "execution_count": 3,
     "metadata": {},
     "output_type": "execute_result"
    },
    {
     "data": {
      "image/png": "[encoded data removed]",
      "text/plain": [
       "<Figure size 432x288 with 1 Axes>"
      ]
     },
     "metadata": {
      "needs_background": "light"
     },
     "output_type": "display_data"
    }
   ],
   "source": [
    "import seaborn as sns\n",
    "import matplotlib.pyplot as plt\n",
    "\n",
    "sns.boxplot(data=data, x=\"Class\", y=\"Age\")"
   ]
  },
  {
   "cell_type": "code",
   "execution_count": 4,
   "metadata": {},
   "outputs": [
    {
     "data": {
      "text/plain": [
       "<AxesSubplot:xlabel='Class', ylabel='Age'>"
      ]
     },
     "execution_count": 4,
     "metadata": {},
     "output_type": "execute_result"
    },
    {
     "data": {
      "image/png": "[encoded data removed]",
      "text/plain": [
       "<Figure size 432x288 with 2 Axes>"
      ]
     },
     "metadata": {
      "needs_background": "light"
     },
     "output_type": "display_data"
    }
   ],
   "source": [
    "sns.histplot(data=data, x=\"Class\", y=\"Age\", cbar=True)"
   ]
  },
  {
   "cell_type": "markdown",
   "metadata": {},
   "source": [
    "Wat je hier kan zien is dat gemiddeld genomen, hoe ouder iemand is. Hoe groter de kans is dat hij een 3e class ticket heeft (\"Business\"). Vooral bij de histogram kan de duidelijk zien dat de 1e klass \"Eco\" vooral wordt gebruikt door jongere mensen, rond de 20 tot 30. Wat logisch is, want die groep hebben meestal het minst totaal gewerkte uren, dus warscheinlijk ook minder geld. Wat interresant is om te zien, is dat \"Eco Pro\", de 2e klass. Eigenlijk erg mooi verdeeld is over de totale leeftijd. Hoewel we daar ook minder data van hebben (onder de 500 man per gemeten leeftijd). Terwijl de \"Eco\" wel populairder is, onder de hele leeftijds klasse."
   ]
  },
  {
   "cell_type": "markdown",
   "metadata": {},
   "source": [
    "## 3. Is er een verschil in flight distance en de klasse die men vliegt"
   ]
  },
  {
   "cell_type": "markdown",
   "metadata": {},
   "source": [
    "Hier gaan we dezelfde truck als hierboven gebruiken, aangezien we nog steeds met geclassificeerde data bezig zijn. Zullen er geen mooie scatter/kde plots gemaakt worden. Omdat we hier praten over een grotere variabelen voorspel ik wel dat er warscheinlijk meer outliers/verschil in de resultaten zullen zitten."
   ]
  },
  {
   "cell_type": "code",
   "execution_count": 5,
   "metadata": {},
   "outputs": [
    {
     "data": {
      "text/plain": [
       "<AxesSubplot:xlabel='Class', ylabel='Flight Distance'>"
      ]
     },
     "execution_count": 5,
     "metadata": {},
     "output_type": "execute_result"
    },
    {
     "data": {
      "image/png": "[encoded data removed]",
      "text/plain": [
       "<Figure size 432x288 with 1 Axes>"
      ]
     },
     "metadata": {
      "needs_background": "light"
     },
     "output_type": "display_data"
    }
   ],
   "source": [
    "sns.boxplot(data=data, x=\"Class\", y=\"Flight Distance\")"
   ]
  },
  {
   "cell_type": "code",
   "execution_count": 6,
   "metadata": {},
   "outputs": [
    {
     "data": {
      "text/plain": [
       "<AxesSubplot:xlabel='Class', ylabel='Age'>"
      ]
     },
     "execution_count": 6,
     "metadata": {},
     "output_type": "execute_result"
    },
    {
     "data": {
      "image/png": "[encoded data removed]",
      "text/plain": [
       "<Figure size 432x288 with 2 Axes>"
      ]
     },
     "metadata": {
      "needs_background": "light"
     },
     "output_type": "display_data"
    }
   ],
   "source": [
    "sns.histplot(data=data, x=\"Class\", y=\"Age\", cbar=True)"
   ]
  },
  {
   "cell_type": "markdown",
   "metadata": {},
   "source": [
    "## 4. ANOVA check"
   ]
  },
  {
   "cell_type": "markdown",
   "metadata": {},
   "source": [
    "In dit geval zal ik een ANOVA check doen op de variabele 'Age'. Anova staat voor *Analysis of Variance*. En houdt in dat we de variatie in een variabele meten. Dus het gemiddelde, de standaarddeviatie, de standaard error en nog veel meer. Maar het belangrijkste is het kijken hoe betrouwbaar een variabele is."
   ]
  },
  {
   "cell_type": "code",
   "execution_count": 7,
   "metadata": {},
   "outputs": [
    {
     "name": "stdout",
     "output_type": "stream",
     "text": [
      "\n",
      "\n"
     ]
    },
    {
     "data": {
      "text/html": [
       "<div>\n",
       "<style scoped>\n",
       "    .dataframe tbody tr th:only-of-type {\n",
       "        vertical-align: middle;\n",
       "    }\n",
       "\n",
       "    .dataframe tbody tr th {\n",
       "        vertical-align: top;\n",
       "    }\n",
       "\n",
       "    .dataframe thead th {\n",
       "        text-align: right;\n",
       "    }\n",
       "</style>\n",
       "<table border=\"1\" class=\"dataframe\">\n",
       "  <thead>\n",
       "    <tr style=\"text-align: right;\">\n",
       "      <th></th>\n",
       "      <th>Variable</th>\n",
       "      <th>N</th>\n",
       "      <th>Mean</th>\n",
       "      <th>SD</th>\n",
       "      <th>SE</th>\n",
       "      <th>95% Conf.</th>\n",
       "      <th>Interval</th>\n",
       "    </tr>\n",
       "  </thead>\n",
       "  <tbody>\n",
       "    <tr>\n",
       "      <th>0</th>\n",
       "      <td>Age</td>\n",
       "      <td>103904.0</td>\n",
       "      <td>39.3797</td>\n",
       "      <td>15.115</td>\n",
       "      <td>0.0469</td>\n",
       "      <td>39.2878</td>\n",
       "      <td>39.4716</td>\n",
       "    </tr>\n",
       "  </tbody>\n",
       "</table>\n",
       "</div>"
      ],
      "text/plain": [
       "  Variable         N     Mean      SD      SE  95% Conf.  Interval\n",
       "0      Age  103904.0  39.3797  15.115  0.0469    39.2878   39.4716"
      ]
     },
     "execution_count": 7,
     "metadata": {},
     "output_type": "execute_result"
    }
   ],
   "source": [
    "import researchpy as rp\n",
    "\n",
    "rp.summary_cont(data['Age'])"
   ]
  },
  {
   "cell_type": "markdown",
   "metadata": {},
   "source": [
    "## Conclusie\n",
    "\n",
    "Zoals voorspelt zit er een redelijk groot verschil in klasse die je vliegt de afstand die je moet vliegen. Bij de boxplot is erg mooi te zien dat hoe verder iemand moet reisen, hoe groter de kans is dat hij voor een \"luxere\" ticket gaat. Mijn hypothese na deze constatering is omdat hoe verder iemand reist, hoe langer iemand op een slechte/lekkere stoel moet zitten. Hoe liever ze een lekker zittende stoel willen."
   ]
  }
 ],
 "metadata": {
  "interpreter": {
   "hash": "1b4072f7559b260cf498e2145256c874391bb92289285b6eda6e3dcc453506d7"
  },
  "kernelspec": {
   "display_name": "Python 3.9.6 64-bit",
   "language": "python",
   "name": "python3"
  },
  "language_info": {
   "codemirror_mode": {
    "name": "ipython",
    "version": 3
   },
   "file_extension": ".py",
   "mimetype": "text/x-python",
   "name": "python",
   "nbconvert_exporter": "python",
   "pygments_lexer": "ipython3",
   "version": "3.9.6"
  },
  "orig_nbformat": 4
 },
 "nbformat": 4,
 "nbformat_minor": 2
}
